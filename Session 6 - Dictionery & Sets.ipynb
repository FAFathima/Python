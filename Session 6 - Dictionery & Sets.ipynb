{
 "cells": [
  {
   "cell_type": "markdown",
   "id": "29cd5328",
   "metadata": {},
   "source": [
    "# Dictionary\n",
    "\n",
    "> Dictionary in python is a collection of keys values, used to store data values like a amp, which unlike other data types which hold only a single value as an element\n",
    "\n",
    "> The key and the value pair is called as item\n",
    "\n",
    "> the values in the dictionary are mutable i.e can be changed\n",
    "\n",
    "> The keys in the distionary are immutable\n",
    "\n",
    "> {key:value}\n",
    "\n",
    "\n",
    "> Note : Dictionaly keys are case sensitive, the same name but different cases of key will be treated distinctly \n"
   ]
  },
  {
   "cell_type": "code",
   "execution_count": 1,
   "id": "0b4c59aa",
   "metadata": {},
   "outputs": [
    {
     "name": "stdout",
     "output_type": "stream",
     "text": [
      "{1: 'comp', 12: 'IT', 31: 'EXTC'}\n",
      "<class 'dict'>\n",
      "comp\n"
     ]
    },
    {
     "ename": "KeyError",
     "evalue": "2",
     "output_type": "error",
     "traceback": [
      "\u001b[1;31m---------------------------------------------------------------------------\u001b[0m",
      "\u001b[1;31mKeyError\u001b[0m                                  Traceback (most recent call last)",
      "\u001b[1;32m~\\AppData\\Local\\Temp\\ipykernel_9968\\1113338499.py\u001b[0m in \u001b[0;36m<module>\u001b[1;34m\u001b[0m\n\u001b[0;32m      3\u001b[0m \u001b[0mprint\u001b[0m\u001b[1;33m(\u001b[0m\u001b[0mtype\u001b[0m\u001b[1;33m(\u001b[0m\u001b[0md\u001b[0m\u001b[1;33m)\u001b[0m\u001b[1;33m)\u001b[0m\u001b[1;33m\u001b[0m\u001b[1;33m\u001b[0m\u001b[0m\n\u001b[0;32m      4\u001b[0m \u001b[0mprint\u001b[0m\u001b[1;33m(\u001b[0m\u001b[0md\u001b[0m\u001b[1;33m[\u001b[0m\u001b[1;36m1\u001b[0m\u001b[1;33m]\u001b[0m\u001b[1;33m)\u001b[0m \u001b[1;31m#\u001b[0m\u001b[1;33m\u001b[0m\u001b[1;33m\u001b[0m\u001b[0m\n\u001b[1;32m----> 5\u001b[1;33m \u001b[0mprint\u001b[0m\u001b[1;33m(\u001b[0m\u001b[0md\u001b[0m\u001b[1;33m[\u001b[0m\u001b[1;36m2\u001b[0m\u001b[1;33m]\u001b[0m\u001b[1;33m)\u001b[0m\u001b[1;33m\u001b[0m\u001b[1;33m\u001b[0m\u001b[0m\n\u001b[0m",
      "\u001b[1;31mKeyError\u001b[0m: 2"
     ]
    }
   ],
   "source": [
    "d = {1:\"comp\",12:\"IT\",31:\"EXTC\"}\n",
    "print(d)\n",
    "print(type(d))\n",
    "print(d[1]) # \n",
    "print(d[2]) "
   ]
  },
  {
   "cell_type": "code",
   "execution_count": 2,
   "id": "42733715",
   "metadata": {},
   "outputs": [
    {
     "name": "stdout",
     "output_type": "stream",
     "text": [
      "{'comp': 1, 'IT': 12, 'EXTC': 3}\n",
      "<class 'dict'>\n",
      "1\n"
     ]
    }
   ],
   "source": [
    "d = {\"comp\":1,\"IT\":12,\"EXTC\":3}\n",
    "print(d)\n",
    "print(type(d))\n",
    "print(d[\"comp\"]) "
   ]
  },
  {
   "cell_type": "code",
   "execution_count": 3,
   "id": "d34ae456",
   "metadata": {},
   "outputs": [
    {
     "name": "stdout",
     "output_type": "stream",
     "text": [
      "{1: 100, 1.2: 150, 'Board': 'Infinity', 'BoardInfinity': 1256.236, 12.2456: 'Learners'}\n",
      "100\n",
      "Infinity\n",
      "Learners\n"
     ]
    }
   ],
   "source": [
    "d = {1:100,1.2:150,\"Board\":\"Infinity\",\"BoardInfinity\":1256.236,12.2456:\"Learners\"}\n",
    "print(d)\n",
    "print(d[1])\n",
    "print(d[\"Board\"])\n",
    "print(d[12.2456])"
   ]
  },
  {
   "cell_type": "code",
   "execution_count": 4,
   "id": "805181dd",
   "metadata": {},
   "outputs": [
    {
     "name": "stdout",
     "output_type": "stream",
     "text": [
      "{1: 100, 5.6: [1, 2, 3, 4, 5], 12: (55, 66, 77), 13: {'e', 'a'}}\n",
      "100\n",
      "(55, 66, 77)\n",
      "<class 'tuple'>\n",
      "66\n",
      "<class 'set'>\n"
     ]
    }
   ],
   "source": [
    "d = {1:100,5.6:[1,2,3,4,5],12:(55,66,77),13:{'a','e'}}\n",
    "print(d)\n",
    "print(d[1]) # 100\n",
    "print(d[12]) # (55,66,77)\n",
    "print(type(d[12])) # tuple\n",
    "print(d[12][1]) # 66\n",
    "print(type(d[13])) "
   ]
  },
  {
   "cell_type": "code",
   "execution_count": 5,
   "id": "f11f4ec2",
   "metadata": {},
   "outputs": [
    {
     "name": "stdout",
     "output_type": "stream",
     "text": [
      "True\n",
      "False\n",
      "{1: 'COMP', 2: 'IT', 3: 'EXTC'}\n",
      "<class 'str'>\n",
      "dict_keys([1, 2, 3])\n",
      "dict_values(['COMP', 'IT', 'EXTC'])\n",
      "[1, 2, 3]\n",
      "('COMP', 'IT', 'EXTC')\n"
     ]
    }
   ],
   "source": [
    "d = {1:\"COMP\", 2: \"IT\", 3:\"EXTC\"}\n",
    "print(3 in d) # membership operator, will look for key is present in the dictionay\n",
    "print(\"EXTC\" in d)\n",
    "print(str(d))\n",
    "print(type(str(d)))\n",
    "print(d.keys())\n",
    "print(d.values())\n",
    "print(list(d.keys()))\n",
    "print(tuple(d.values()))"
   ]
  },
  {
   "cell_type": "code",
   "execution_count": 6,
   "id": "aeea626a",
   "metadata": {},
   "outputs": [
    {
     "name": "stdout",
     "output_type": "stream",
     "text": [
      "{1: 'COMP', 2: 'IT', 3: 'EXTC'}\n",
      "{100: 'CHEM'}\n",
      "{1: 'COMP', 2: 'IT', 3: 'EXTC', 100: 'CHEM'}\n",
      "{100: 'CHEM'}\n"
     ]
    },
    {
     "ename": "AttributeError",
     "evalue": "'dict' object has no attribute 'append'",
     "output_type": "error",
     "traceback": [
      "\u001b[1;31m---------------------------------------------------------------------------\u001b[0m",
      "\u001b[1;31mAttributeError\u001b[0m                            Traceback (most recent call last)",
      "\u001b[1;32m~\\AppData\\Local\\Temp\\ipykernel_9968\\167312944.py\u001b[0m in \u001b[0;36m<module>\u001b[1;34m\u001b[0m\n\u001b[0;32m      7\u001b[0m \u001b[0mprint\u001b[0m\u001b[1;33m(\u001b[0m\u001b[0md1\u001b[0m\u001b[1;33m)\u001b[0m\u001b[1;33m\u001b[0m\u001b[1;33m\u001b[0m\u001b[0m\n\u001b[0;32m      8\u001b[0m \u001b[0mprint\u001b[0m\u001b[1;33m(\u001b[0m\u001b[0md2\u001b[0m\u001b[1;33m)\u001b[0m\u001b[1;33m\u001b[0m\u001b[1;33m\u001b[0m\u001b[0m\n\u001b[1;32m----> 9\u001b[1;33m \u001b[0md1\u001b[0m\u001b[1;33m.\u001b[0m\u001b[0mappend\u001b[0m\u001b[1;33m(\u001b[0m\u001b[0md2\u001b[0m\u001b[1;33m)\u001b[0m \u001b[1;31m# error\u001b[0m\u001b[1;33m\u001b[0m\u001b[1;33m\u001b[0m\u001b[0m\n\u001b[0m",
      "\u001b[1;31mAttributeError\u001b[0m: 'dict' object has no attribute 'append'"
     ]
    }
   ],
   "source": [
    "d1 = {1:\"COMP\", 2: \"IT\", 3:\"EXTC\"}\n",
    "d2 = {100:\"CHEM\"}\n",
    "\n",
    "print(d1)\n",
    "print(d2)\n",
    "d1.update(d2)\n",
    "print(d1)\n",
    "print(d2)\n",
    "d1.append(d2) # error"
   ]
  },
  {
   "cell_type": "code",
   "execution_count": 7,
   "id": "27e756c7",
   "metadata": {},
   "outputs": [
    {
     "name": "stdout",
     "output_type": "stream",
     "text": [
      "1\n",
      "1\n"
     ]
    }
   ],
   "source": [
    "d = {\"COMP\":3,\"IT\":1,\"EXTC\":2}\n",
    "print(d.get(\"IT\"))\n",
    "print(d['IT'])"
   ]
  },
  {
   "cell_type": "code",
   "execution_count": 8,
   "id": "93349882",
   "metadata": {},
   "outputs": [
    {
     "name": "stdout",
     "output_type": "stream",
     "text": [
      "{1: 50, 2: 100, 3: 150, 4: 200, 5: 250}\n",
      "50\n",
      "{1: 'Machine Learning', 2: 100, 3: 150, 4: 200, 5: 250}\n"
     ]
    }
   ],
   "source": [
    "d = {1:50,2:100,3:150,4:200,5:250}\n",
    "print(d)\n",
    "print(d[1])\n",
    "d[1]=\"Machine Learning\"\n",
    "print(d)"
   ]
  },
  {
   "cell_type": "code",
   "execution_count": 9,
   "id": "7020efe7",
   "metadata": {},
   "outputs": [
    {
     "name": "stdout",
     "output_type": "stream",
     "text": [
      "{1: 50, 2: 100, 4: 150, 5: 200, 3: 250}\n",
      "{1: 50, 2: 100, 4: 150, 5: 200}\n",
      "{}\n"
     ]
    }
   ],
   "source": [
    "d = {1:50,2:100,4:150,5:200,3:250}\n",
    "print(d)\n",
    "del d[3]\n",
    "print(d)\n",
    "\n",
    "d.clear()\n",
    "print(d)"
   ]
  },
  {
   "cell_type": "code",
   "execution_count": 10,
   "id": "90223ae4",
   "metadata": {},
   "outputs": [
    {
     "name": "stdout",
     "output_type": "stream",
     "text": [
      "{1: 100, 2: 10000, 3: 2, 4: 100, 5: 100}\n"
     ]
    }
   ],
   "source": [
    "d = {1:100,2:100,3:100,4:100,5:100,2:10000,3:2}\n",
    "print(d)"
   ]
  },
  {
   "cell_type": "markdown",
   "id": "457c713f",
   "metadata": {},
   "source": [
    "#### Dictionary cannot have duplicate keys - when we have duplicate keys the latest value will be retained , previous value will be dropped"
   ]
  },
  {
   "cell_type": "code",
   "execution_count": 11,
   "id": "e8ded2ca",
   "metadata": {},
   "outputs": [
    {
     "name": "stdout",
     "output_type": "stream",
     "text": [
      "{1: 'Machine', 2: 'Learning', 3: {11: 'Welcome', 22: 'to', 33: 'Python class'}}\n",
      "Python class\n"
     ]
    }
   ],
   "source": [
    "dict = {1:\"Machine\",2:\"Learning\",3:{11:\"Welcome\",22:\"to\",33:\"Python class\"}}\n",
    "print(dict)\n",
    "print(dict[3][33])"
   ]
  },
  {
   "cell_type": "markdown",
   "id": "81e97ab8",
   "metadata": {},
   "source": [
    "# Dictionary Methods\n",
    "\n",
    "clear() – Remove all the elements from the dictionary\n",
    "\n",
    "copy() – Returns a copy of the dictionary\n",
    "\n",
    "get() – Returns the value of specified key\n",
    "\n",
    "items() – Returns a list containing a tuple for each key value pair\n",
    "\n",
    "keys() – Returns a list containing dictionary’s keys\n",
    "\n",
    "pop() – Remove the element with specified key\n",
    "\n",
    "popitem() – Removes the last inserted key-value pair\n",
    "\n",
    "update() – Updates dictionary with specified key-value pairs\n",
    "\n",
    "values() – Returns a list of all the values of dictionary"
   ]
  },
  {
   "cell_type": "code",
   "execution_count": 14,
   "id": "28c63b3a",
   "metadata": {},
   "outputs": [
    {
     "name": "stdout",
     "output_type": "stream",
     "text": [
      "dict1 is :  {1: 'Python', 2: 'Java', 3: 'Ruby', 4: 'Scala'}\n",
      "dict2 is :  {1: 'Python', 2: 'Java', 3: 'Ruby', 4: 'Scala'}\n",
      "{}\n",
      "Python\n",
      "dict_items([(1, 'Python'), (2, 'Java'), (3, 'Ruby'), (4, 'Scala')])\n",
      "{1: 'Python', 2: 'Java', 3: 'Ruby'}\n",
      "{1: 'Python', 2: 'Java'}\n",
      "{1: 'Python', 2: 'Java', 3: 'Scala'}\n",
      "dict_values(['Python', 'Java', 'Scala'])\n"
     ]
    }
   ],
   "source": [
    "dict1={1:\"Python\",2:\"Java\",3:\"Ruby\",4:\"Scala\"}\n",
    "print(\"dict1 is : \",dict1)\n",
    "\n",
    "# copy method\n",
    "dict2 = dict1.copy()\n",
    "print(\"dict2 is : \",dict2)\n",
    "\n",
    "\n",
    "# clear Method\n",
    "\n",
    "dict1.clear()\n",
    "print(dict1)\n",
    "\n",
    "# get method\n",
    "\n",
    "print(dict2.get(1))\n",
    "\n",
    "# items() methods\n",
    "\n",
    "print(dict2.items())\n",
    "\n",
    "dict2.pop(4)\n",
    "print(dict2)\n",
    "\n",
    "dict2.popitem()\n",
    "print(dict2)\n",
    "\n",
    "dict2.update({3:\"Scala\"})\n",
    "print(dict2)\n",
    "\n",
    "\n",
    "print(dict2.values())"
   ]
  },
  {
   "cell_type": "raw",
   "id": "54ab0f81",
   "metadata": {},
   "source": [
    "{1: 1, 2: 4, 3: 9, 4: 16, 5: 25, 6: 36, 7: 49, 8: 64, 9: 81, 10: 100}"
   ]
  },
  {
   "cell_type": "code",
   "execution_count": 15,
   "id": "91114a77",
   "metadata": {},
   "outputs": [
    {
     "name": "stdout",
     "output_type": "stream",
     "text": [
      "<class 'dict'>\n",
      "{1: 1, 2: 4, 3: 9, 4: 16, 5: 25, 6: 36, 7: 49, 8: 64, 9: 81, 10: 100}\n"
     ]
    }
   ],
   "source": [
    "d = {}\n",
    "print(type(d))\n",
    "\n",
    "for num in range(1,11):\n",
    "    d[num] = num**2\n",
    "print(d)"
   ]
  },
  {
   "cell_type": "code",
   "execution_count": 16,
   "id": "7735c039",
   "metadata": {},
   "outputs": [
    {
     "name": "stdout",
     "output_type": "stream",
     "text": [
      "{1: 1, 2: 4, 3: 9, 4: 16, 5: 25, 6: 36, 7: 49, 8: 64, 9: 81, 10: 100}\n",
      "<class 'dict'>\n"
     ]
    }
   ],
   "source": [
    "dc = {num:num**2 for num in range(1,11)}\n",
    "print(dc)\n",
    "print(type(dc))"
   ]
  },
  {
   "cell_type": "code",
   "execution_count": 17,
   "id": "fac0bec8",
   "metadata": {},
   "outputs": [
    {
     "name": "stdout",
     "output_type": "stream",
     "text": [
      "{64, 1, 4, 36, 100, 9, 16, 49, 81, 25}\n",
      "<class 'set'>\n"
     ]
    }
   ],
   "source": [
    "dc = {num**2 for num in range(1,11)}\n",
    "print(dc)\n",
    "print(type(dc))"
   ]
  },
  {
   "cell_type": "code",
   "execution_count": 18,
   "id": "1fcfaa20",
   "metadata": {},
   "outputs": [],
   "source": [
    "# Example\n",
    "\n",
    "\n",
    "old_menucard = {\n",
    "    \n",
    "    'pav bhaji' : 80,\n",
    "    'Masala Dosa':100,\n",
    "    'Tea':20,\n",
    "    'Coffee':20,\n",
    "    'moms':85\n",
    "}\n",
    "\n",
    "# lets say i want to increase 10% in price for every item"
   ]
  },
  {
   "cell_type": "code",
   "execution_count": 19,
   "id": "412f3fd2",
   "metadata": {},
   "outputs": [
    {
     "data": {
      "text/plain": [
       "{'pav bhaji': 88.0,\n",
       " 'Masala Dosa': 110.0,\n",
       " 'Tea': 22.0,\n",
       " 'Coffee': 22.0,\n",
       " 'moms': 93.5}"
      ]
     },
     "execution_count": 19,
     "metadata": {},
     "output_type": "execute_result"
    }
   ],
   "source": [
    "new_menucard = {k:v+(0.1*v) for (k,v) in old_menucard.items()}\n",
    "new_menucard"
   ]
  },
  {
   "cell_type": "code",
   "execution_count": 20,
   "id": "32b61cd6",
   "metadata": {},
   "outputs": [
    {
     "data": {
      "text/plain": [
       "{'pav bhaji': 88, 'Masala Dosa': 110, 'Tea': 22, 'Coffee': 22, 'moms': 94}"
      ]
     },
     "execution_count": 20,
     "metadata": {},
     "output_type": "execute_result"
    }
   ],
   "source": [
    "new_menucard = {k:int(round(v+(0.1*v),0)) for (k,v) in old_menucard.items()}\n",
    "new_menucard"
   ]
  },
  {
   "cell_type": "code",
   "execution_count": 21,
   "id": "22a7fe61",
   "metadata": {},
   "outputs": [
    {
     "name": "stdout",
     "output_type": "stream",
     "text": [
      "{'A': 28, 'B': 35, 'C': 50, 'D': 12}\n"
     ]
    },
    {
     "data": {
      "text/plain": [
       "{'D': 12}"
      ]
     },
     "execution_count": 21,
     "metadata": {},
     "output_type": "execute_result"
    }
   ],
   "source": [
    "test_marks = {'A':28,'B':35,'C':50,'D':12}\n",
    "print(test_marks)\n",
    "\n",
    "# i want to seperate students who as failed - scoring <18 is a fail\n",
    "\n",
    "failed_student = { k:v for (k,v) in test_marks.items() if v <18}\n",
    "failed_student"
   ]
  },
  {
   "cell_type": "code",
   "execution_count": 22,
   "id": "3b953f4c",
   "metadata": {},
   "outputs": [
    {
     "ename": "SyntaxError",
     "evalue": "invalid syntax (3097620913.py, line 2)",
     "output_type": "error",
     "traceback": [
      "\u001b[1;36m  File \u001b[1;32m\"C:\\Users\\user\\AppData\\Local\\Temp\\ipykernel_9968\\3097620913.py\"\u001b[1;36m, line \u001b[1;32m2\u001b[0m\n\u001b[1;33m    if v<18\u001b[0m\n\u001b[1;37m           ^\u001b[0m\n\u001b[1;31mSyntaxError\u001b[0m\u001b[1;31m:\u001b[0m invalid syntax\n"
     ]
    }
   ],
   "source": [
    "for (k,v) in test_marks.items():\n",
    "    if v<18"
   ]
  },
  {
   "cell_type": "markdown",
   "id": "025d7ea5",
   "metadata": {},
   "source": [
    "# Sets\n",
    "\n",
    "> A set is a collection which is unordered and unindexed. \n",
    "\n",
    "> In Python sets are written with curly brackets.\n",
    "\n",
    "> Sets cannot have duplicate values\n"
   ]
  },
  {
   "cell_type": "code",
   "execution_count": 23,
   "id": "b2554f14",
   "metadata": {},
   "outputs": [
    {
     "data": {
      "text/plain": [
       "{1, 2, 3, 'Board', 'Infinity'}"
      ]
     },
     "execution_count": 23,
     "metadata": {},
     "output_type": "execute_result"
    }
   ],
   "source": [
    "s = {1,2,\"Board\",3,\"Infinity\",2}\n",
    "s"
   ]
  },
  {
   "cell_type": "code",
   "execution_count": 24,
   "id": "043383da",
   "metadata": {},
   "outputs": [
    {
     "data": {
      "text/plain": [
       "[1, 2, 'Board', 3, 'Infinity', 2]"
      ]
     },
     "execution_count": 24,
     "metadata": {},
     "output_type": "execute_result"
    }
   ],
   "source": [
    "l = [1,2,\"Board\",3,\"Infinity\",2]\n",
    "l"
   ]
  },
  {
   "cell_type": "code",
   "execution_count": 25,
   "id": "d4b31dc1",
   "metadata": {},
   "outputs": [
    {
     "ename": "TypeError",
     "evalue": "'set' object is not subscriptable",
     "output_type": "error",
     "traceback": [
      "\u001b[1;31m---------------------------------------------------------------------------\u001b[0m",
      "\u001b[1;31mTypeError\u001b[0m                                 Traceback (most recent call last)",
      "\u001b[1;32m~\\AppData\\Local\\Temp\\ipykernel_9968\\3547424711.py\u001b[0m in \u001b[0;36m<module>\u001b[1;34m\u001b[0m\n\u001b[0;32m      1\u001b[0m \u001b[0ms\u001b[0m \u001b[1;33m=\u001b[0m \u001b[1;33m{\u001b[0m\u001b[1;34m\"apple\"\u001b[0m\u001b[1;33m,\u001b[0m\u001b[1;34m\"banana\"\u001b[0m\u001b[1;33m,\u001b[0m\u001b[1;34m'cherry'\u001b[0m\u001b[1;33m}\u001b[0m\u001b[1;33m\u001b[0m\u001b[1;33m\u001b[0m\u001b[0m\n\u001b[1;32m----> 2\u001b[1;33m \u001b[0mprint\u001b[0m\u001b[1;33m(\u001b[0m\u001b[0ms\u001b[0m\u001b[1;33m[\u001b[0m\u001b[1;36m0\u001b[0m\u001b[1;33m]\u001b[0m\u001b[1;33m)\u001b[0m\u001b[1;33m\u001b[0m\u001b[1;33m\u001b[0m\u001b[0m\n\u001b[0m",
      "\u001b[1;31mTypeError\u001b[0m: 'set' object is not subscriptable"
     ]
    }
   ],
   "source": [
    "s = {\"apple\",\"banana\",'cherry'}\n",
    "print(s[0])"
   ]
  },
  {
   "cell_type": "code",
   "execution_count": 26,
   "id": "0041de46",
   "metadata": {},
   "outputs": [
    {
     "data": {
      "text/plain": [
       "1"
      ]
     },
     "execution_count": 26,
     "metadata": {},
     "output_type": "execute_result"
    }
   ],
   "source": [
    "l = [1,2,\"Board\",3,\"Infinity\",2]\n",
    "l[0]"
   ]
  },
  {
   "cell_type": "raw",
   "id": "393adc5a",
   "metadata": {},
   "source": [
    "you cannot access items in a set by referring to an index, since sets are unordered and has no index\n",
    "\n",
    "But you can loop through the set items using a for loop or ask if a specified valus is present in a set by using the \"in\" keyword"
   ]
  },
  {
   "cell_type": "code",
   "execution_count": 27,
   "id": "1d8f954a",
   "metadata": {},
   "outputs": [
    {
     "name": "stdout",
     "output_type": "stream",
     "text": [
      "apple cherry banana "
     ]
    }
   ],
   "source": [
    "thisset = {\"apple\",\"banana\",'cherry'}\n",
    "for x in thisset:\n",
    "    print(x,end=\" \")"
   ]
  },
  {
   "cell_type": "code",
   "execution_count": 28,
   "id": "4f0cf6da",
   "metadata": {},
   "outputs": [
    {
     "name": "stdout",
     "output_type": "stream",
     "text": [
      "True\n",
      "True\n",
      "False\n"
     ]
    }
   ],
   "source": [
    "thisset = {\"apple\",\"banana\",'cherry'}\n",
    "\n",
    "print(\"banana\" in thisset)\n",
    "print(\"apple\" in thisset)\n",
    "print(\"cherry\" not in thisset)"
   ]
  },
  {
   "cell_type": "code",
   "execution_count": 29,
   "id": "df72c7bc",
   "metadata": {},
   "outputs": [
    {
     "name": "stdout",
     "output_type": "stream",
     "text": [
      "{'Orange', 'apple', 'cherry', 'banana'}\n"
     ]
    }
   ],
   "source": [
    "# once a set is created you cannot change its items, but you can add new items\n",
    "\n",
    "thisset = {\"apple\",\"banana\",'cherry'}\n",
    "thisset.add(\"Orange\")\n",
    "print(thisset)"
   ]
  },
  {
   "cell_type": "code",
   "execution_count": 30,
   "id": "96911cff",
   "metadata": {},
   "outputs": [
    {
     "name": "stdout",
     "output_type": "stream",
     "text": [
      "{'cherry', 'grapes', 'apple', 'Orange', 'banana', 'mango'}\n"
     ]
    }
   ],
   "source": [
    "thisset = {\"apple\",\"banana\",'cherry'}\n",
    "thisset.update([\"Orange\",\"mango\",\"grapes\"])\n",
    "print(thisset)"
   ]
  },
  {
   "cell_type": "code",
   "execution_count": 31,
   "id": "2adaa836",
   "metadata": {},
   "outputs": [
    {
     "name": "stdout",
     "output_type": "stream",
     "text": [
      "6\n"
     ]
    }
   ],
   "source": [
    "print(len(thisset))"
   ]
  },
  {
   "cell_type": "code",
   "execution_count": 32,
   "id": "1f5ab91d",
   "metadata": {},
   "outputs": [
    {
     "name": "stdout",
     "output_type": "stream",
     "text": [
      "{'cherry', 'banana'}\n"
     ]
    }
   ],
   "source": [
    "thisset = {\"apple\",\"banana\",'cherry'}\n",
    "thisset.remove(\"apple\")\n",
    "print(thisset)"
   ]
  },
  {
   "cell_type": "code",
   "execution_count": 33,
   "id": "b6637105",
   "metadata": {},
   "outputs": [
    {
     "name": "stdout",
     "output_type": "stream",
     "text": [
      "{'cherry', 'banana'}\n"
     ]
    }
   ],
   "source": [
    "thisset = {\"apple\",\"banana\",'cherry'}\n",
    "thisset.discard(\"apple\")\n",
    "print(thisset)"
   ]
  },
  {
   "cell_type": "code",
   "execution_count": 34,
   "id": "4c1147fb",
   "metadata": {},
   "outputs": [
    {
     "ename": "KeyError",
     "evalue": "'Orange'",
     "output_type": "error",
     "traceback": [
      "\u001b[1;31m---------------------------------------------------------------------------\u001b[0m",
      "\u001b[1;31mKeyError\u001b[0m                                  Traceback (most recent call last)",
      "\u001b[1;32m~\\AppData\\Local\\Temp\\ipykernel_9968\\3825204833.py\u001b[0m in \u001b[0;36m<module>\u001b[1;34m\u001b[0m\n\u001b[0;32m      1\u001b[0m \u001b[0mthisset\u001b[0m \u001b[1;33m=\u001b[0m \u001b[1;33m{\u001b[0m\u001b[1;34m\"apple\"\u001b[0m\u001b[1;33m,\u001b[0m\u001b[1;34m\"banana\"\u001b[0m\u001b[1;33m,\u001b[0m\u001b[1;34m'cherry'\u001b[0m\u001b[1;33m}\u001b[0m\u001b[1;33m\u001b[0m\u001b[1;33m\u001b[0m\u001b[0m\n\u001b[1;32m----> 2\u001b[1;33m \u001b[0mthisset\u001b[0m\u001b[1;33m.\u001b[0m\u001b[0mremove\u001b[0m\u001b[1;33m(\u001b[0m\u001b[1;34m\"Orange\"\u001b[0m\u001b[1;33m)\u001b[0m\u001b[1;33m\u001b[0m\u001b[1;33m\u001b[0m\u001b[0m\n\u001b[0m\u001b[0;32m      3\u001b[0m \u001b[0mprint\u001b[0m\u001b[1;33m(\u001b[0m\u001b[0mthisset\u001b[0m\u001b[1;33m)\u001b[0m\u001b[1;33m\u001b[0m\u001b[1;33m\u001b[0m\u001b[0m\n",
      "\u001b[1;31mKeyError\u001b[0m: 'Orange'"
     ]
    }
   ],
   "source": [
    "thisset = {\"apple\",\"banana\",'cherry'}\n",
    "thisset.remove(\"Orange\")\n",
    "print(thisset)"
   ]
  },
  {
   "cell_type": "code",
   "execution_count": 35,
   "id": "17ad9b8e",
   "metadata": {},
   "outputs": [
    {
     "name": "stdout",
     "output_type": "stream",
     "text": [
      "{'apple', 'cherry', 'banana'}\n"
     ]
    }
   ],
   "source": [
    "thisset = {\"apple\",\"banana\",'cherry'}\n",
    "thisset.discard(\"Orange\")\n",
    "print(thisset)"
   ]
  },
  {
   "cell_type": "code",
   "execution_count": 36,
   "id": "905b7693",
   "metadata": {},
   "outputs": [],
   "source": [
    "# discard will not throw an erro if the element is not present in the set\n",
    "\n",
    "# remove will throw an error if the element is not present in the set"
   ]
  },
  {
   "cell_type": "markdown",
   "id": "6d1f5e61",
   "metadata": {},
   "source": [
    "# Join Two Sets\n",
    "\n",
    "> There are several ways to join two or more sets in Python.\n",
    "\n",
    "> You can use the union() method that returns a new set containing all items from both sets, or the update() method that inserts all the items from one set into another"
   ]
  },
  {
   "cell_type": "code",
   "execution_count": 37,
   "id": "15639943",
   "metadata": {},
   "outputs": [
    {
     "name": "stdout",
     "output_type": "stream",
     "text": [
      "{1, 2, 3, 'c', 'b', 'a'}\n"
     ]
    }
   ],
   "source": [
    "set1= {\"a\",\"b\",\"c\",2}\n",
    "set2 = {1,2,3}\n",
    "\n",
    "set3= set1.union(set2) # A union B will remove duplicate values\n",
    "print(set3)"
   ]
  },
  {
   "cell_type": "code",
   "execution_count": 76,
   "id": "1c30d0de",
   "metadata": {},
   "outputs": [
    {
     "name": "stdout",
     "output_type": "stream",
     "text": [
      "{1, 2, 'a', 3, 'c', 'b'}\n"
     ]
    }
   ],
   "source": [
    "set1= {\"a\",\"b\",\"c\",2}\n",
    "set2 = {1,2,3}\n",
    "\n",
    "set1.update(set2)\n",
    "print(set1)"
   ]
  },
  {
   "cell_type": "code",
   "execution_count": 77,
   "id": "88efb81a",
   "metadata": {},
   "outputs": [
    {
     "data": {
      "text/plain": [
       "{1, 2, 3, 'a', 'b', 'c'}"
      ]
     },
     "execution_count": 77,
     "metadata": {},
     "output_type": "execute_result"
    }
   ],
   "source": [
    "set1= {\"a\",\"b\",\"c\",2}\n",
    "set2 = {1,2,3}\n",
    "set1|set2"
   ]
  },
  {
   "cell_type": "code",
   "execution_count": 78,
   "id": "9a64fc5f",
   "metadata": {},
   "outputs": [
    {
     "data": {
      "text/plain": [
       "{2}"
      ]
     },
     "execution_count": 78,
     "metadata": {},
     "output_type": "execute_result"
    }
   ],
   "source": [
    "set1= {\"a\",\"b\",\"c\",2}\n",
    "set2 = {1,2,3}\n",
    "set1&set2 # intersection - common elements in both the sets"
   ]
  },
  {
   "cell_type": "code",
   "execution_count": 81,
   "id": "966e405d",
   "metadata": {},
   "outputs": [
    {
     "name": "stdout",
     "output_type": "stream",
     "text": [
      "{'microsoft', 'google'}\n",
      "{'cherry', 'banana'}\n"
     ]
    }
   ],
   "source": [
    "x = {\"apple\",\"banana\",'cherry'}\n",
    "y = {\"google\",\"microsoft\",\"apple\"}\n",
    "\n",
    "z = y.difference(x) # this will return all the items from y that are not part of x\n",
    "print(z)\n",
    "\n",
    "z1 = x.difference(y) # this will return all the items from x that are not part of y\n",
    "print(z1)"
   ]
  },
  {
   "cell_type": "code",
   "execution_count": 83,
   "id": "fa1243ff",
   "metadata": {},
   "outputs": [
    {
     "name": "stdout",
     "output_type": "stream",
     "text": [
      "{'microsoft', 'google'}\n"
     ]
    }
   ],
   "source": [
    "x = {\"apple\",\"banana\",'cherry'}\n",
    "y = {\"google\",\"microsoft\",\"apple\"}\n",
    "\n",
    "z = y-x\n",
    "print(z)"
   ]
  },
  {
   "cell_type": "code",
   "execution_count": 84,
   "id": "9f4ecdb2",
   "metadata": {},
   "outputs": [
    {
     "ename": "TypeError",
     "evalue": "unsupported operand type(s) for +: 'set' and 'set'",
     "output_type": "error",
     "traceback": [
      "\u001b[1;31m---------------------------------------------------------------------------\u001b[0m",
      "\u001b[1;31mTypeError\u001b[0m                                 Traceback (most recent call last)",
      "Input \u001b[1;32mIn [84]\u001b[0m, in \u001b[0;36m<cell line: 4>\u001b[1;34m()\u001b[0m\n\u001b[0;32m      1\u001b[0m x \u001b[38;5;241m=\u001b[39m {\u001b[38;5;124m\"\u001b[39m\u001b[38;5;124mapple\u001b[39m\u001b[38;5;124m\"\u001b[39m,\u001b[38;5;124m\"\u001b[39m\u001b[38;5;124mbanana\u001b[39m\u001b[38;5;124m\"\u001b[39m,\u001b[38;5;124m'\u001b[39m\u001b[38;5;124mcherry\u001b[39m\u001b[38;5;124m'\u001b[39m}\n\u001b[0;32m      2\u001b[0m y \u001b[38;5;241m=\u001b[39m {\u001b[38;5;124m\"\u001b[39m\u001b[38;5;124mgoogle\u001b[39m\u001b[38;5;124m\"\u001b[39m,\u001b[38;5;124m\"\u001b[39m\u001b[38;5;124mmicrosoft\u001b[39m\u001b[38;5;124m\"\u001b[39m,\u001b[38;5;124m\"\u001b[39m\u001b[38;5;124mapple\u001b[39m\u001b[38;5;124m\"\u001b[39m}\n\u001b[1;32m----> 4\u001b[0m z \u001b[38;5;241m=\u001b[39m \u001b[43my\u001b[49m\u001b[38;5;241;43m+\u001b[39;49m\u001b[43mx\u001b[49m\n\u001b[0;32m      5\u001b[0m \u001b[38;5;28mprint\u001b[39m(z)\n",
      "\u001b[1;31mTypeError\u001b[0m: unsupported operand type(s) for +: 'set' and 'set'"
     ]
    }
   ],
   "source": [
    "x = {\"apple\",\"banana\",'cherry'}\n",
    "y = {\"google\",\"microsoft\",\"apple\"}\n",
    "\n",
    "z = y+x\n",
    "print(z)"
   ]
  },
  {
   "cell_type": "raw",
   "id": "5b0e6ee8",
   "metadata": {},
   "source": [
    "# operator we can use with set \n",
    "\n",
    "key in s\t     containment check\n",
    "key not in s\tnon-containment check\n",
    "s1 == s2\t    s1 is equivalent to s2\n",
    "s1 != s2\t    s1 is not equivalent to s2\n",
    "s1 <= s2\t   s1 is subset of s2\n",
    "s1 < s2\t\t   s1 is proper subset of s2\n",
    "s1 >= s2\t   s1 is superset of s2\n",
    "s1 > s2\t       s1 is proper superset of s2\n",
    "s1 | s2\t       the union of s1 and s2\n",
    "s1 & s2\t       the intersection of s1 and s2\n",
    "s1 – s2\t       the set of elements in s1 but not s2\n",
    "s1 ˆ s2\t       the set of elements in precisely one of s1 or s2"
   ]
  },
  {
   "cell_type": "code",
   "execution_count": 86,
   "id": "63271064",
   "metadata": {},
   "outputs": [
    {
     "name": "stdout",
     "output_type": "stream",
     "text": [
      "Set1 =  {1, 2, 3, 4, 5}\n",
      "Set2 =  {3, 4, 5, 6, 7}\n",
      "\n",
      "\n",
      "Union of Set1 & Set2: Set3 =  {1, 2, 3, 4, 5, 6, 7}\n",
      "Intersection of Set1 & Set2: Set4 =  {3, 4, 5}\n",
      "\n",
      "\n",
      "Set3 is superset of Set4\n",
      "Set4 is subset of Set3\n",
      "\n",
      "\n",
      "Elements in Set3 and not in Set4: Set5 =  {1, 2, 6, 7}\n",
      "\n",
      "\n",
      "Set4 and Set5 have nothing in common\n",
      "\n",
      "After applying clear on sets Set5: \n",
      "Set5 =  set()\n"
     ]
    }
   ],
   "source": [
    "# comprehensive example of set\n",
    "\n",
    "# Creating two sets\n",
    "set1 = set() # {1,2,3,4,5}\n",
    "set2 = set() # {3,4,5,6,7}\n",
    " \n",
    "# Adding elements to set1\n",
    "for i in range(1, 6):\n",
    "    set1.add(i)\n",
    " \n",
    "# Adding elements to set2\n",
    "for i in range(3, 8):\n",
    "    set2.add(i)\n",
    " \n",
    "print(\"Set1 = \", set1)\n",
    "print(\"Set2 = \", set2)\n",
    "print(\"\\n\")\n",
    " \n",
    "# Union of set1 and set2\n",
    "set3 = set1 | set2# set1.union(set2)  # {1,2,3,4,5,6,7}\n",
    "print(\"Union of Set1 & Set2: Set3 = \", set3)\n",
    " \n",
    "# Intersection of set1 and set2\n",
    "set4 = set1 & set2# set1.intersection(set2) # {3,4,5}\n",
    "print(\"Intersection of Set1 & Set2: Set4 = \", set4)\n",
    "print(\"\\n\")\n",
    " \n",
    "# Checking relation between set3 and set4\n",
    "if set3 > set4: # set3.issuperset(set4)\n",
    "    print(\"Set3 is superset of Set4\")\n",
    "elif set3 < set4: # set3.issubset(set4)\n",
    "    print(\"Set3 is subset of Set4\")\n",
    "else : # set3 == set4\n",
    "    print(\"Set3 is same as Set4\")\n",
    " \n",
    "# displaying relation between set4 and set3\n",
    "if set4 < set3: # set4.issubset(set3)\n",
    "    print(\"Set4 is subset of Set3\")\n",
    "    print(\"\\n\")\n",
    " \n",
    "# difference between set3 and set4\n",
    "set5 = set3 - set4  # {1,2,6,7}\n",
    "print(\"Elements in Set3 and not in Set4: Set5 = \", set5)\n",
    "print(\"\\n\")\n",
    " \n",
    "# check if set4 and set5 are disjoint sets\n",
    "if set4.isdisjoint(set5):  # a = {1,2,3} B = {7,8,9}  a & b = {}\n",
    "    print(\"Set4 and Set5 have nothing in common\\n\")\n",
    " \n",
    "# Removing all the values of set5\n",
    "set5.clear()\n",
    " \n",
    "print(\"After applying clear on sets Set5: \")\n",
    "print(\"Set5 = \", set5)"
   ]
  },
  {
   "cell_type": "markdown",
   "id": "49735747",
   "metadata": {},
   "source": [
    "# Split Method \n",
    "\n",
    "Python split() method is used to split a string into a list of string after breakng the given string by a specified seperator"
   ]
  },
  {
   "cell_type": "raw",
   "id": "9306cb24",
   "metadata": {},
   "source": [
    "syntax : split(seperator,maxsplit)\n",
    "\n",
    "return values : returns a list of string after breaking"
   ]
  },
  {
   "cell_type": "code",
   "execution_count": 88,
   "id": "39d4fcc5",
   "metadata": {},
   "outputs": [
    {
     "name": "stdout",
     "output_type": "stream",
     "text": [
      "['Machine', 'Learning', 'Python']\n",
      "<class 'list'>\n"
     ]
    }
   ],
   "source": [
    "string = \"Machine,Learning,Python\"\n",
    "words = string.split(',')\n",
    "print(words)\n",
    "print(type(words))"
   ]
  },
  {
   "cell_type": "code",
   "execution_count": 89,
   "id": "911261fe",
   "metadata": {},
   "outputs": [
    {
     "name": "stdout",
     "output_type": "stream",
     "text": [
      "['Machine', 'Learning', 'Python']\n"
     ]
    }
   ],
   "source": [
    "text = \"Machine Learning Python\"\n",
    "print(text.split())"
   ]
  },
  {
   "cell_type": "code",
   "execution_count": 92,
   "id": "7dd2427d",
   "metadata": {},
   "outputs": [
    {
     "name": "stdout",
     "output_type": "stream",
     "text": [
      "['Machine', 'Learning', 'Python']\n"
     ]
    }
   ],
   "source": [
    "string = \"Machine:Learning:Python\"\n",
    "words = string.split(':')\n",
    "print(words)"
   ]
  },
  {
   "cell_type": "code",
   "execution_count": 95,
   "id": "86509ecd",
   "metadata": {},
   "outputs": [
    {
     "name": "stdout",
     "output_type": "stream",
     "text": [
      "['Machine,Learning,Python,SQL']\n",
      "['Machine', 'Learning', 'Python', 'SQL']\n",
      "['Machine', 'Learning,Python,SQL']\n"
     ]
    }
   ],
   "source": [
    "words = \"Machine,Learning,Python,SQL\"\n",
    "print(words.split(',',0))\n",
    "print(words.split(',',4))\n",
    "print(words.split(',',1))"
   ]
  },
  {
   "cell_type": "code",
   "execution_count": 101,
   "id": "f5c85d48",
   "metadata": {},
   "outputs": [
    {
     "name": "stdout",
     "output_type": "stream",
     "text": [
      "3 2\n"
     ]
    },
    {
     "ename": "TypeError",
     "evalue": "int() argument must be a string, a bytes-like object or a number, not 'list'",
     "output_type": "error",
     "traceback": [
      "\u001b[1;31m---------------------------------------------------------------------------\u001b[0m",
      "\u001b[1;31mTypeError\u001b[0m                                 Traceback (most recent call last)",
      "Input \u001b[1;32mIn [101]\u001b[0m, in \u001b[0;36m<cell line: 1>\u001b[1;34m()\u001b[0m\n\u001b[1;32m----> 1\u001b[0m f_in \u001b[38;5;241m=\u001b[39m \u001b[38;5;28;43mint\u001b[39;49m\u001b[43m(\u001b[49m\u001b[38;5;28;43minput\u001b[39;49m\u001b[43m(\u001b[49m\u001b[43m)\u001b[49m\u001b[38;5;241;43m.\u001b[39;49m\u001b[43msplit\u001b[49m\u001b[43m(\u001b[49m\u001b[43m)\u001b[49m\u001b[43m)\u001b[49m\n",
      "\u001b[1;31mTypeError\u001b[0m: int() argument must be a string, a bytes-like object or a number, not 'list'"
     ]
    }
   ],
   "source": [
    "f_in = int(input().split())"
   ]
  },
  {
   "cell_type": "code",
   "execution_count": 97,
   "id": "86525edd",
   "metadata": {},
   "outputs": [
    {
     "data": {
      "text/plain": [
       "'3 2'"
      ]
     },
     "execution_count": 97,
     "metadata": {},
     "output_type": "execute_result"
    }
   ],
   "source": [
    "f_in"
   ]
  },
  {
   "cell_type": "code",
   "execution_count": 103,
   "id": "d57d457b",
   "metadata": {},
   "outputs": [
    {
     "ename": "TypeError",
     "evalue": "int() argument must be a string, a bytes-like object or a number, not 'list'",
     "output_type": "error",
     "traceback": [
      "\u001b[1;31m---------------------------------------------------------------------------\u001b[0m",
      "\u001b[1;31mTypeError\u001b[0m                                 Traceback (most recent call last)",
      "Input \u001b[1;32mIn [103]\u001b[0m, in \u001b[0;36m<cell line: 1>\u001b[1;34m()\u001b[0m\n\u001b[1;32m----> 1\u001b[0m \u001b[38;5;28;43mint\u001b[39;49m\u001b[43m(\u001b[49m\u001b[43m[\u001b[49m\u001b[38;5;241;43m1\u001b[39;49m\u001b[43m,\u001b[49m\u001b[38;5;241;43m2\u001b[39;49m\u001b[43m,\u001b[49m\u001b[38;5;241;43m3\u001b[39;49m\u001b[43m,\u001b[49m\u001b[38;5;241;43m4\u001b[39;49m\u001b[43m]\u001b[49m\u001b[43m)\u001b[49m\n",
      "\u001b[1;31mTypeError\u001b[0m: int() argument must be a string, a bytes-like object or a number, not 'list'"
     ]
    }
   ],
   "source": [
    "int([1,2,3,4])"
   ]
  },
  {
   "cell_type": "raw",
   "id": "d0b8b01b",
   "metadata": {},
   "source": [
    "Write a Program to determine if the given number is Armstrong number or not. Print true if number is armstrong, otherwise print false. An Armstrong number is a number (with digits n) such that the sum of its digits raised to nth power is equal to the number itself.\n",
    "\n",
    "for example\n",
    "\n",
    "371, as 3^3 + 7^3 + 1^3 = 371 \n",
    "\n",
    "1634, as 1^4 + 6^4 + 3^4 + 4^4 = 1634 Input Integer number\n",
    "\n",
    "34, as 3^2+4^2 = 25\n",
    "\n",
    "Output true or false\n",
    "\n",
    "Example Input:\n",
    "\n",
    "1\n",
    "\n",
    "Output:\n",
    "\n",
    "True"
   ]
  }
 ],
 "metadata": {
  "kernelspec": {
   "display_name": "Python 3 (ipykernel)",
   "language": "python",
   "name": "python3"
  },
  "language_info": {
   "codemirror_mode": {
    "name": "ipython",
    "version": 3
   },
   "file_extension": ".py",
   "mimetype": "text/x-python",
   "name": "python",
   "nbconvert_exporter": "python",
   "pygments_lexer": "ipython3",
   "version": "3.9.13"
  }
 },
 "nbformat": 4,
 "nbformat_minor": 5
}
