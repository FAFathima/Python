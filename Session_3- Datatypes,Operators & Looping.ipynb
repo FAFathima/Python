{
 "cells": [
  {
   "cell_type": "markdown",
   "id": "f2084ca5",
   "metadata": {},
   "source": [
    "# Datatype\n",
    "\n",
    "> int - Plain integer\n",
    "\n",
    "> float - Floating point number\n",
    "\n",
    "> complex - Complex no, Real and Imaginary part->3+5j\n",
    "\n",
    "> boolean - True and False\n",
    "\n",
    "> sequence - string, list, tuple\n",
    "\n",
    "> mapping - Dictionary\n",
    "\n",
    "> set - unordered collection of distinct objects\n",
    "\n",
    "> file - used to make file system objects"
   ]
  },
  {
   "cell_type": "markdown",
   "id": "30684651",
   "metadata": {},
   "source": [
    "# Typecasting\n",
    "\n",
    "> there may be times when you want to convert one data type to other for certain calculation and this can be done by using type casting\n",
    "\n",
    "> Company name, segment, territory,rev,prev month rev"
   ]
  },
  {
   "cell_type": "code",
   "execution_count": 1,
   "id": "404f0916",
   "metadata": {},
   "outputs": [
    {
     "data": {
      "text/plain": [
       "str"
      ]
     },
     "execution_count": 1,
     "metadata": {},
     "output_type": "execute_result"
    }
   ],
   "source": [
    "x = '2017'\n",
    "type(x)"
   ]
  },
  {
   "cell_type": "code",
   "execution_count": 2,
   "id": "c0281b68",
   "metadata": {},
   "outputs": [
    {
     "name": "stdout",
     "output_type": "stream",
     "text": [
      "2017\n"
     ]
    },
    {
     "data": {
      "text/plain": [
       "int"
      ]
     },
     "execution_count": 2,
     "metadata": {},
     "output_type": "execute_result"
    }
   ],
   "source": [
    "x = int('2017')\n",
    "print(x)\n",
    "type(x)"
   ]
  },
  {
   "cell_type": "code",
   "execution_count": 3,
   "id": "09d6a965",
   "metadata": {},
   "outputs": [
    {
     "data": {
      "text/plain": [
       "3"
      ]
     },
     "execution_count": 3,
     "metadata": {},
     "output_type": "execute_result"
    }
   ],
   "source": [
    "int(3.1223423423) # Float is getting converted into an integer"
   ]
  },
  {
   "cell_type": "code",
   "execution_count": 4,
   "id": "256d5d3c",
   "metadata": {},
   "outputs": [
    {
     "data": {
      "text/plain": [
       "2017"
      ]
     },
     "execution_count": 4,
     "metadata": {},
     "output_type": "execute_result"
    }
   ],
   "source": [
    "int(float('2017.4445453'))"
   ]
  },
  {
   "cell_type": "code",
   "execution_count": 5,
   "id": "fbc58e93",
   "metadata": {},
   "outputs": [
    {
     "data": {
      "text/plain": [
       "4.0"
      ]
     },
     "execution_count": 5,
     "metadata": {},
     "output_type": "execute_result"
    }
   ],
   "source": [
    "float(4)"
   ]
  },
  {
   "cell_type": "markdown",
   "id": "48358a9a",
   "metadata": {},
   "source": [
    "# Operator\n",
    "\n",
    "> Arithmetic : + -* / % // Floor Division ** exponentiation\n",
    "\n",
    "> Relational : < <= > >= != ==\n",
    "\n",
    "> Logical : and or not\n",
    "\n",
    "> Membership : in, not in \n",
    "\n",
    "> identity : is, is not "
   ]
  },
  {
   "cell_type": "code",
   "execution_count": 6,
   "id": "22d905f3",
   "metadata": {},
   "outputs": [
    {
     "name": "stdout",
     "output_type": "stream",
     "text": [
      "5\n",
      "1\n",
      "6\n",
      "1.5\n",
      "1\n",
      "2\n",
      "8\n"
     ]
    }
   ],
   "source": [
    "print(2+3) # 5\n",
    "print(3-2) # 1\n",
    "print(2*3) # 6\n",
    "print(6/4) # 1.5 \n",
    "print(6//4) #1\n",
    "print(6%4) # reminder - 2\n",
    "print(2**3) # 8"
   ]
  },
  {
   "cell_type": "code",
   "execution_count": 7,
   "id": "7ac6ce7d",
   "metadata": {},
   "outputs": [
    {
     "name": "stdout",
     "output_type": "stream",
     "text": [
      "True\n",
      "True\n",
      "True\n",
      "False\n",
      "True\n",
      "False\n",
      "True\n",
      "False\n"
     ]
    }
   ],
   "source": [
    "# relational operators will always return a boolean value\n",
    "\n",
    "print(2<3)\n",
    "print(3<=3)\n",
    "print(3<=4)\n",
    "print(3<=2)\n",
    "print(3==3)\n",
    "print(4==3)\n",
    "print(4!=3)\n",
    "print(3!=3)"
   ]
  },
  {
   "cell_type": "code",
   "execution_count": 8,
   "id": "a4afc2bb",
   "metadata": {},
   "outputs": [
    {
     "name": "stdout",
     "output_type": "stream",
     "text": [
      "<class 'bool'>\n",
      "False\n",
      "True\n",
      "False\n"
     ]
    }
   ],
   "source": [
    "s = True\n",
    "t = False\n",
    "print(type(s))\n",
    "\n",
    "print(s and t)\n",
    "print(s or t)\n",
    "print(not(s))"
   ]
  },
  {
   "cell_type": "code",
   "execution_count": 10,
   "id": "ddf6e142",
   "metadata": {},
   "outputs": [
    {
     "name": "stdout",
     "output_type": "stream",
     "text": [
      "False\n",
      "False\n",
      "False\n",
      "True\n",
      "True\n",
      "False\n"
     ]
    }
   ],
   "source": [
    "# Membership Operators : In and Not In - will return a boolean value\n",
    "\n",
    "s = \"Machine Learning\"\n",
    "print(\"D\" in s) # False\n",
    "print(\"s\" in s) # False\n",
    "print(\"d\" in s) # False\n",
    "print(\"D\" not in s) # True\n",
    "print(\"d\" not in s) # True\n",
    "print(\"M \" in s) # True ?"
   ]
  },
  {
   "cell_type": "code",
   "execution_count": 11,
   "id": "17b8cafc",
   "metadata": {},
   "outputs": [
    {
     "data": {
      "text/plain": [
       "True"
      ]
     },
     "execution_count": 11,
     "metadata": {},
     "output_type": "execute_result"
    }
   ],
   "source": [
    "l = [1,2,3,4,5]\n",
    "3 in l"
   ]
  },
  {
   "cell_type": "code",
   "execution_count": 12,
   "id": "243325df",
   "metadata": {},
   "outputs": [
    {
     "data": {
      "text/plain": [
       "False"
      ]
     },
     "execution_count": 12,
     "metadata": {},
     "output_type": "execute_result"
    }
   ],
   "source": [
    "t = [1,2,3,4,5]\n",
    "10 in t"
   ]
  },
  {
   "cell_type": "markdown",
   "id": "d3ddc638",
   "metadata": {},
   "source": [
    "# Looping Statements :\n",
    "\n",
    "For loop and the while loops"
   ]
  },
  {
   "cell_type": "code",
   "execution_count": 13,
   "id": "0dc977f7",
   "metadata": {},
   "outputs": [
    {
     "name": "stdout",
     "output_type": "stream",
     "text": [
      "1 2 3 4 5 \n",
      "Out of loop\n"
     ]
    }
   ],
   "source": [
    "n= [1,2,3,4,5] # List of numbers\n",
    "for i in n:\n",
    "    print(i, end = \" \")\n",
    "print(\"\\nOut of loop\")"
   ]
  },
  {
   "cell_type": "code",
   "execution_count": 14,
   "id": "06df6e4a",
   "metadata": {},
   "outputs": [
    {
     "name": "stdout",
     "output_type": "stream",
     "text": [
      "Machine Learning Data Science "
     ]
    }
   ],
   "source": [
    "name = [\"Machine\",\"Learning\",\"Data\",\"Science\"]#List of string\n",
    "for i in name:\n",
    "    print(i, end =  \" \")"
   ]
  },
  {
   "cell_type": "code",
   "execution_count": 15,
   "id": "a8f4c97c",
   "metadata": {},
   "outputs": [
    {
     "name": "stdout",
     "output_type": "stream",
     "text": [
      "M a c h i n e   L e a r n i n g "
     ]
    }
   ],
   "source": [
    "s = \"Machine Learning\"\n",
    "for i in s:\n",
    "    print(i,end = \" \")"
   ]
  },
  {
   "cell_type": "markdown",
   "id": "25137f63",
   "metadata": {},
   "source": [
    "# Range Function : will return a sequence of numbers\n",
    "\n",
    "> range(5) : it goes from 0 to 4 to generate a sequnce of numbers\n",
    "\n",
    "> range(start,Stop,stepsize): default stepssize is 1"
   ]
  },
  {
   "cell_type": "code",
   "execution_count": 16,
   "id": "b1df2102",
   "metadata": {},
   "outputs": [
    {
     "data": {
      "text/plain": [
       "range(0, 5)"
      ]
     },
     "execution_count": 16,
     "metadata": {},
     "output_type": "execute_result"
    }
   ],
   "source": [
    "range(5)"
   ]
  },
  {
   "cell_type": "code",
   "execution_count": 17,
   "id": "36cee0c2",
   "metadata": {},
   "outputs": [
    {
     "name": "stdout",
     "output_type": "stream",
     "text": [
      "0 1 2 3 4 "
     ]
    }
   ],
   "source": [
    "for i in range(5):\n",
    "    print(i, end = \" \")"
   ]
  },
  {
   "cell_type": "code",
   "execution_count": 18,
   "id": "00549624",
   "metadata": {},
   "outputs": [
    {
     "name": "stdout",
     "output_type": "stream",
     "text": [
      "1 2 3 4 "
     ]
    }
   ],
   "source": [
    "for i in range(1,5):\n",
    "    print(i, end = \" \")"
   ]
  },
  {
   "cell_type": "code",
   "execution_count": 19,
   "id": "00c3f2ba",
   "metadata": {},
   "outputs": [
    {
     "name": "stdout",
     "output_type": "stream",
     "text": [
      "2 3 4 5 6 7 8 9 "
     ]
    }
   ],
   "source": [
    "for i in range(2,10):\n",
    "    print(i, end = \" \")"
   ]
  },
  {
   "cell_type": "code",
   "execution_count": 20,
   "id": "283c295f",
   "metadata": {},
   "outputs": [
    {
     "name": "stdout",
     "output_type": "stream",
     "text": [
      "2 4 6 8 "
     ]
    }
   ],
   "source": [
    "for i in range(2,10,2):\n",
    "    print(i, end = \" \")"
   ]
  },
  {
   "cell_type": "code",
   "execution_count": 21,
   "id": "132b0a45",
   "metadata": {},
   "outputs": [
    {
     "name": "stdout",
     "output_type": "stream",
     "text": [
      "0 3 6 9 "
     ]
    }
   ],
   "source": [
    "for i in range(0,10,3):\n",
    "    print(i, end = \" \")"
   ]
  },
  {
   "cell_type": "code",
   "execution_count": 3,
   "id": "7e098b80",
   "metadata": {},
   "outputs": [
    {
     "name": "stdout",
     "output_type": "stream",
     "text": [
      "0 7 14 21 28 35 42 49 56 63 70 77 84 91 98 "
     ]
    }
   ],
   "source": [
    "for i in range(0,100,7):\n",
    "    print(i, end = \" \")"
   ]
  },
  {
   "cell_type": "code",
   "execution_count": 22,
   "id": "f5826f41",
   "metadata": {},
   "outputs": [
    {
     "name": "stdout",
     "output_type": "stream",
     "text": [
      "sum=  10\n"
     ]
    }
   ],
   "source": [
    "# program to display sum of number from 0 to 4\n",
    "\n",
    "sum = 0\n",
    "\n",
    "for i in range(5):\n",
    "    sum = sum+i\n",
    "print(\"sum= \",sum)"
   ]
  },
  {
   "cell_type": "raw",
   "id": "df6faad4",
   "metadata": {},
   "source": [
    "# While loop\n",
    "\n",
    "syntax:\n",
    "    \n",
    "while condition :\n",
    "  do this\n",
    "  do this\n",
    "  increment/decrement"
   ]
  },
  {
   "cell_type": "code",
   "execution_count": 23,
   "id": "306d6ee7",
   "metadata": {},
   "outputs": [
    {
     "name": "stdout",
     "output_type": "stream",
     "text": [
      "1 2 3 4 5 "
     ]
    }
   ],
   "source": [
    "# while\n",
    "\n",
    "i = 1\n",
    "while i <=5:\n",
    "    print(i, end = \" \")\n",
    "    i = i+1"
   ]
  },
  {
   "cell_type": "code",
   "execution_count": 24,
   "id": "004d72f5",
   "metadata": {},
   "outputs": [
    {
     "name": "stdout",
     "output_type": "stream",
     "text": [
      "M a c h i n e   L e a r n i n g "
     ]
    }
   ],
   "source": [
    "s = \"Machine Learning\"\n",
    "i = 0\n",
    "\n",
    "while i < len(s): # try <= and check the result\n",
    "    d = s[i]  # indexing\n",
    "    print(d, end = \" \")\n",
    "    i = i +1"
   ]
  },
  {
   "cell_type": "code",
   "execution_count": 25,
   "id": "9462f2c2",
   "metadata": {},
   "outputs": [
    {
     "name": "stdout",
     "output_type": "stream",
     "text": [
      "a\n"
     ]
    },
    {
     "ename": "IndexError",
     "evalue": "string index out of range",
     "output_type": "error",
     "traceback": [
      "\u001b[1;31m---------------------------------------------------------------------------\u001b[0m",
      "\u001b[1;31mIndexError\u001b[0m                                Traceback (most recent call last)",
      "\u001b[1;32m~\\AppData\\Local\\Temp\\ipykernel_3568\\873218510.py\u001b[0m in \u001b[0;36m<module>\u001b[1;34m\u001b[0m\n\u001b[0;32m      1\u001b[0m \u001b[0ma\u001b[0m \u001b[1;33m=\u001b[0m \u001b[1;34m\"Data\"\u001b[0m\u001b[1;33m\u001b[0m\u001b[1;33m\u001b[0m\u001b[0m\n\u001b[0;32m      2\u001b[0m \u001b[0mprint\u001b[0m\u001b[1;33m(\u001b[0m\u001b[0ma\u001b[0m\u001b[1;33m[\u001b[0m\u001b[1;36m3\u001b[0m\u001b[1;33m]\u001b[0m\u001b[1;33m)\u001b[0m\u001b[1;33m\u001b[0m\u001b[1;33m\u001b[0m\u001b[0m\n\u001b[1;32m----> 3\u001b[1;33m \u001b[0mprint\u001b[0m\u001b[1;33m(\u001b[0m\u001b[0ma\u001b[0m\u001b[1;33m[\u001b[0m\u001b[1;36m4\u001b[0m\u001b[1;33m]\u001b[0m\u001b[1;33m)\u001b[0m\u001b[1;33m\u001b[0m\u001b[1;33m\u001b[0m\u001b[0m\n\u001b[0m",
      "\u001b[1;31mIndexError\u001b[0m: string index out of range"
     ]
    }
   ],
   "source": [
    "a = \"Data\"\n",
    "print(a[3])\n",
    "print(a[4])"
   ]
  },
  {
   "cell_type": "code",
   "execution_count": 28,
   "id": "d03cadc1",
   "metadata": {},
   "outputs": [
    {
     "name": "stdout",
     "output_type": "stream",
     "text": [
      "*\n",
      "**\n",
      "***\n",
      "****\n",
      "*****\n",
      "\n",
      "out of loop\n"
     ]
    }
   ],
   "source": [
    "i=1\n",
    "while i<=5:\n",
    "    print(i*'*') \n",
    "    i=i+1\n",
    "print(\"\\nout of loop\")\n",
    "\n",
    "\n",
    "# write the above program using for loop, also try to add space after each row and after each star"
   ]
  },
  {
   "cell_type": "code",
   "execution_count": 2,
   "id": "d8361100",
   "metadata": {},
   "outputs": [
    {
     "name": "stdout",
     "output_type": "stream",
     "text": [
      "*\n",
      "**\n",
      "***\n",
      "****\n",
      "*****\n",
      "\n",
      "out of loop\n"
     ]
    }
   ],
   "source": [
    "i=1\n",
    "while i<=5:\n",
    "    print('*'*i) \n",
    "    i=i+1\n",
    "print(\"\\nout of loop\")"
   ]
  },
  {
   "cell_type": "code",
   "execution_count": 3,
   "id": "bf976823",
   "metadata": {},
   "outputs": [
    {
     "name": "stdout",
     "output_type": "stream",
     "text": [
      "*****\n",
      "****\n",
      "***\n",
      "**\n",
      "*\n",
      "\n",
      "out of loop\n"
     ]
    }
   ],
   "source": [
    "i=5\n",
    "while i>=1:\n",
    "    print('*'*i) \n",
    "    i=i-1\n",
    "print(\"\\nout of loop\")"
   ]
  },
  {
   "cell_type": "markdown",
   "id": "8f913ec9",
   "metadata": {},
   "source": [
    "# Conditional Execution \n",
    "\n",
    "### Flow control\n",
    "\n",
    "\n",
    "> conditional statements : If, if-else, if-elif-else, nested if-else\n",
    "\n",
    "> Transfer statements : break, continue & pass\n",
    "\n",
    "> iterative statments : for & while"
   ]
  },
  {
   "cell_type": "raw",
   "id": "94e299fe",
   "metadata": {},
   "source": [
    "syntax for \"if\" statement\n",
    "\n",
    "if condition:\n",
    "    statement 1\n",
    "    statement 2\n",
    "    .\n",
    "    .\n",
    "    .\n",
    "    statement n"
   ]
  },
  {
   "cell_type": "code",
   "execution_count": 29,
   "id": "5127c5b1",
   "metadata": {},
   "outputs": [
    {
     "name": "stdout",
     "output_type": "stream",
     "text": [
      "Out of if statement\n"
     ]
    }
   ],
   "source": [
    "x = -5\n",
    "if x>0:\n",
    "    print(x)\n",
    "    print(\"welcome to datascience learning\")\n",
    "print(\"Out of if statement\")"
   ]
  },
  {
   "cell_type": "raw",
   "id": "5834f2be",
   "metadata": {},
   "source": [
    "syntax for if-else statement\n",
    "\n",
    "if condition:\n",
    "    statement1\n",
    "else:\n",
    "    statement2"
   ]
  },
  {
   "cell_type": "code",
   "execution_count": 30,
   "id": "0fc11aea",
   "metadata": {},
   "outputs": [
    {
     "name": "stdout",
     "output_type": "stream",
     "text": [
      "15  is odd\n"
     ]
    }
   ],
   "source": [
    "# write a program to check if the given number is even or odd\n",
    "\n",
    "x = 15\n",
    "if x%2==0:\n",
    "    print(x,\" is even\")\n",
    "else:\n",
    "    print(x,\" is odd\")"
   ]
  },
  {
   "cell_type": "code",
   "execution_count": 7,
   "id": "cb978ee7",
   "metadata": {},
   "outputs": [
    {
     "name": "stdout",
     "output_type": "stream",
     "text": [
      "0  is even\n",
      "2  is even\n",
      "4  is even\n",
      "6  is even\n",
      "8  is even\n"
     ]
    }
   ],
   "source": [
    "\n",
    "for i in range(10):\n",
    "    if i%2==0:\n",
    "        print(i,\" is even\")\n",
    "    else:\n",
    "        continue"
   ]
  },
  {
   "cell_type": "code",
   "execution_count": 31,
   "id": "0ddff172",
   "metadata": {},
   "outputs": [
    {
     "name": "stdout",
     "output_type": "stream",
     "text": [
      "35  is less than or equal to 35\n"
     ]
    }
   ],
   "source": [
    "x = 35\n",
    "if x>35:\n",
    "    print(x,\" is greater than 35\")\n",
    "else:\n",
    "    print(x,\" is less than or equal to 35\")"
   ]
  },
  {
   "cell_type": "raw",
   "id": "eeab38bb",
   "metadata": {},
   "source": [
    "syntax of chained conditionals or multiple if statements\n",
    "\n",
    "if condition1:\n",
    "    statement1\n",
    "elif coondition2:\n",
    "    statement2\n",
    "elif condition3:\n",
    "    statement3\n",
    "    \n",
    "   .\n",
    "   .\n",
    "   .\n",
    "   .\n",
    "else:\n",
    "    statment"
   ]
  },
  {
   "cell_type": "code",
   "execution_count": 32,
   "id": "f50ad823",
   "metadata": {},
   "outputs": [
    {
     "name": "stdout",
     "output_type": "stream",
     "text": [
      "35  is equal to 35\n"
     ]
    }
   ],
   "source": [
    "# chained conditional\n",
    "\n",
    "x = 35\n",
    "if x>35:\n",
    "    print(x,\"is greater than 35\")\n",
    "elif x<35:\n",
    "    print(x, \" is less than 35\")\n",
    "else:\n",
    "    print(x, \" is equal to 35\")"
   ]
  },
  {
   "cell_type": "code",
   "execution_count": 33,
   "id": "207a2f30",
   "metadata": {},
   "outputs": [
    {
     "name": "stdout",
     "output_type": "stream",
     "text": [
      "35  is equal to 35\n"
     ]
    }
   ],
   "source": [
    "# Nested conditionals\n",
    "\n",
    "x = 35\n",
    "if x>35:\n",
    "    print(x,\" is greater than 35\")\n",
    "else:\n",
    "    if x<35:\n",
    "        print(x, \"is less than 35\")\n",
    "    else:\n",
    "        print(x,\" is equal to 35\")"
   ]
  },
  {
   "cell_type": "code",
   "execution_count": 34,
   "id": "0152b65d",
   "metadata": {},
   "outputs": [
    {
     "name": "stdout",
     "output_type": "stream",
     "text": [
      "55 is greater than 35\n"
     ]
    }
   ],
   "source": [
    "# try do correct this program logically to get the right answer\n",
    "x  = 55\n",
    "if x<=35:\n",
    "\n",
    "    if x ==35:\n",
    "        print(x,\"is equal to 35\")\n",
    "    else:\n",
    "        print(x, \" is less than 35\")\n",
    "else :\n",
    "    print(x,\"is greater than 35\")"
   ]
  },
  {
   "cell_type": "raw",
   "id": "77eb8506",
   "metadata": {},
   "source": [
    "if there is an else clause, it has to be at the end, but it is not mandatory to have one"
   ]
  },
  {
   "cell_type": "markdown",
   "id": "fc452832",
   "metadata": {},
   "source": [
    "# Break \n",
    "\n",
    "> The break statement is used inside the loop to to exit out of the loop. It is useful when we want to terminate the loop as soon as the condition is fullfilled instead of doing the remaining iteration .\n",
    "\n",
    "> it helps in reducing the execution time"
   ]
  },
  {
   "cell_type": "code",
   "execution_count": 36,
   "id": "ad694a2c",
   "metadata": {},
   "outputs": [
    {
     "name": "stdout",
     "output_type": "stream",
     "text": [
      "1\n",
      "2\n",
      "3\n"
     ]
    }
   ],
   "source": [
    "n = [1,2,3,4,5,6,7]\n",
    "for i in n:\n",
    "    if (i==4):\n",
    "        break\n",
    "    else:\n",
    "        print(i)"
   ]
  },
  {
   "cell_type": "markdown",
   "id": "fe1db8a7",
   "metadata": {},
   "source": [
    "# Continue Statement\n",
    "\n",
    "> The continue statement is used to skip the \"current\" iteration and continue with the next iteration"
   ]
  },
  {
   "cell_type": "code",
   "execution_count": 37,
   "id": "28786c67",
   "metadata": {},
   "outputs": [
    {
     "name": "stdout",
     "output_type": "stream",
     "text": [
      "1\n",
      "2\n",
      "3\n",
      "5\n",
      "6\n",
      "7\n"
     ]
    }
   ],
   "source": [
    "n = [1,2,3,4,5,6,7]\n",
    "for i in n:\n",
    "    if (i==4):\n",
    "        continue\n",
    "    else:\n",
    "        print(i)"
   ]
  },
  {
   "cell_type": "code",
   "execution_count": 38,
   "id": "f292e1ce",
   "metadata": {},
   "outputs": [],
   "source": [
    "n = [1,2,3,4,5,6,4,7,8,4,9,10,4,555,4,6,7,5,32,5,2,1,4,5,6,99,100,5,66]\n",
    "\n",
    "# from the above list print all the values except 4 or 5\n",
    "\n",
    "\n"
   ]
  },
  {
   "cell_type": "code",
   "execution_count": 64,
   "id": "ee5217cc",
   "metadata": {},
   "outputs": [
    {
     "data": {
      "text/plain": [
       "'C:\\\\Users\\\\Arun R'"
      ]
     },
     "execution_count": 64,
     "metadata": {},
     "output_type": "execute_result"
    }
   ],
   "source": [
    "import os\n",
    "os.getcwd()"
   ]
  },
  {
   "cell_type": "code",
   "execution_count": 1,
   "id": "b1d6a3fc",
   "metadata": {},
   "outputs": [
    {
     "name": "stdout",
     "output_type": "stream",
     "text": [
      "1\n",
      "2\n",
      "3\n",
      "6\n",
      "7\n",
      "8\n",
      "9\n",
      "10\n",
      "555\n",
      "6\n",
      "7\n",
      "32\n",
      "2\n",
      "1\n",
      "6\n",
      "99\n",
      "100\n",
      "66\n"
     ]
    }
   ],
   "source": [
    "n=[1,2,3,4,5,6,4,7,8,4,9,10,4,555,4,6,7,5,32,5,2,1,4,5,6,99,100,5,66]\n",
    "for i in n:\n",
    "    if(i==4) or (i==5):\n",
    "      continue\n",
    "    else:\n",
    "        print(i)"
   ]
  },
  {
   "cell_type": "code",
   "execution_count": null,
   "id": "203c491a",
   "metadata": {},
   "outputs": [],
   "source": []
  },
  {
   "cell_type": "code",
   "execution_count": null,
   "id": "318c2c9c",
   "metadata": {},
   "outputs": [],
   "source": []
  }
 ],
 "metadata": {
  "kernelspec": {
   "display_name": "Python 3 (ipykernel)",
   "language": "python",
   "name": "python3"
  },
  "language_info": {
   "codemirror_mode": {
    "name": "ipython",
    "version": 3
   },
   "file_extension": ".py",
   "mimetype": "text/x-python",
   "name": "python",
   "nbconvert_exporter": "python",
   "pygments_lexer": "ipython3",
   "version": "3.9.13"
  }
 },
 "nbformat": 4,
 "nbformat_minor": 5
}
