{
 "cells": [
  {
   "cell_type": "markdown",
   "id": "4415a5b3",
   "metadata": {},
   "source": [
    "# Map Filter And Lambda"
   ]
  },
  {
   "cell_type": "markdown",
   "id": "0dd7b94c",
   "metadata": {},
   "source": [
    "## MAP\n",
    "\n",
    "> It aplies the given function to all iterables and returns new iterable \n",
    "\n"
   ]
  },
  {
   "cell_type": "raw",
   "id": "d3436f03",
   "metadata": {},
   "source": [
    "Syntax : map(function, Iterables)"
   ]
  },
  {
   "cell_type": "code",
   "execution_count": 1,
   "id": "3b258b2f",
   "metadata": {},
   "outputs": [],
   "source": [
    "def sqr(a):\n",
    "    return a*a"
   ]
  },
  {
   "cell_type": "code",
   "execution_count": 3,
   "id": "9bb7b9c6",
   "metadata": {},
   "outputs": [
    {
     "name": "stdout",
     "output_type": "stream",
     "text": [
      "25\n"
     ]
    }
   ],
   "source": [
    "x = sqr(5)\n",
    "print(x)"
   ]
  },
  {
   "cell_type": "code",
   "execution_count": 4,
   "id": "f79972d3",
   "metadata": {},
   "outputs": [
    {
     "ename": "TypeError",
     "evalue": "can't multiply sequence by non-int of type 'list'",
     "output_type": "error",
     "traceback": [
      "\u001b[1;31m---------------------------------------------------------------------------\u001b[0m",
      "\u001b[1;31mTypeError\u001b[0m                                 Traceback (most recent call last)",
      "Input \u001b[1;32mIn [4]\u001b[0m, in \u001b[0;36m<cell line: 1>\u001b[1;34m()\u001b[0m\n\u001b[1;32m----> 1\u001b[0m x \u001b[38;5;241m=\u001b[39m \u001b[43msqr\u001b[49m\u001b[43m(\u001b[49m\u001b[43m[\u001b[49m\u001b[38;5;241;43m1\u001b[39;49m\u001b[43m,\u001b[49m\u001b[38;5;241;43m2\u001b[39;49m\u001b[43m,\u001b[49m\u001b[38;5;241;43m3\u001b[39;49m\u001b[43m,\u001b[49m\u001b[38;5;241;43m4\u001b[39;49m\u001b[43m,\u001b[49m\u001b[38;5;241;43m5\u001b[39;49m\u001b[43m]\u001b[49m\u001b[43m)\u001b[49m\n",
      "Input \u001b[1;32mIn [1]\u001b[0m, in \u001b[0;36msqr\u001b[1;34m(a)\u001b[0m\n\u001b[0;32m      1\u001b[0m \u001b[38;5;28;01mdef\u001b[39;00m \u001b[38;5;21msqr\u001b[39m(a):\n\u001b[1;32m----> 2\u001b[0m     \u001b[38;5;28;01mreturn\u001b[39;00m \u001b[43ma\u001b[49m\u001b[38;5;241;43m*\u001b[39;49m\u001b[43ma\u001b[49m\n",
      "\u001b[1;31mTypeError\u001b[0m: can't multiply sequence by non-int of type 'list'"
     ]
    }
   ],
   "source": [
    "x = sqr([1,2,3,4,5])\n",
    "\n",
    "# this is returning an error, this func cannot square items of a list and return values # [1,4,9,16,25]\n",
    "\n",
    "# to get this kind of an output we should use map"
   ]
  },
  {
   "cell_type": "code",
   "execution_count": 5,
   "id": "aa063772",
   "metadata": {},
   "outputs": [],
   "source": [
    "def sqr(a):\n",
    "    return a*a"
   ]
  },
  {
   "cell_type": "raw",
   "id": "cfb2e3aa",
   "metadata": {},
   "source": [
    "Syntax : map(function, Iterables)"
   ]
  },
  {
   "cell_type": "code",
   "execution_count": 7,
   "id": "6ea4536d",
   "metadata": {},
   "outputs": [
    {
     "name": "stdout",
     "output_type": "stream",
     "text": [
      "<map object at 0x0000025793A507F0>\n",
      "[1, 4, 9, 16, 25]\n"
     ]
    }
   ],
   "source": [
    "x = map(sqr,[1,2,3,4,5])\n",
    "print(x)\n",
    "print(list(x))"
   ]
  },
  {
   "cell_type": "code",
   "execution_count": 8,
   "id": "1740cf0f",
   "metadata": {},
   "outputs": [
    {
     "data": {
      "text/plain": [
       "[1, 4, 9, 16]"
      ]
     },
     "execution_count": 8,
     "metadata": {},
     "output_type": "execute_result"
    }
   ],
   "source": [
    "list(map(sqr,[1,2,3,4]))"
   ]
  },
  {
   "cell_type": "code",
   "execution_count": 16,
   "id": "f96cf527",
   "metadata": {},
   "outputs": [],
   "source": [
    "# write a function to add two lists using map fnction\n",
    "\n",
    "def addn(a,b):\n",
    "    return a+b"
   ]
  },
  {
   "cell_type": "code",
   "execution_count": 17,
   "id": "2151f2ce",
   "metadata": {},
   "outputs": [
    {
     "name": "stdout",
     "output_type": "stream",
     "text": [
      "[1, 2, 3, 4, 100, 200, 300, 400]\n"
     ]
    }
   ],
   "source": [
    "x = addn([1,2,3,4],[100,200,300,400])\n",
    "print(x)"
   ]
  },
  {
   "cell_type": "code",
   "execution_count": 18,
   "id": "25127505",
   "metadata": {},
   "outputs": [
    {
     "data": {
      "text/plain": [
       "[101, 202, 303, 404]"
      ]
     },
     "execution_count": 18,
     "metadata": {},
     "output_type": "execute_result"
    }
   ],
   "source": [
    "list(map(addn,[1,2,3,4],[100,200,300,400]))"
   ]
  },
  {
   "cell_type": "markdown",
   "id": "96169653",
   "metadata": {},
   "source": [
    "# Lambda Functions\n",
    "\n",
    "> They are the function that do not have any name. They are also called as anonymous function or nameless functions.\n",
    "\n",
    "> they are generally provided as inputs to other functions\n",
    "\n",
    "> they are single line function\n",
    "\n",
    "> Lambda is not a name, it is a keyword\n",
    "\n",
    "> A lambda function can take any number of arguments, but can have only one expression\n"
   ]
  },
  {
   "cell_type": "raw",
   "id": "34164d09",
   "metadata": {},
   "source": [
    "syntax : lambda arguments : expression"
   ]
  },
  {
   "cell_type": "code",
   "execution_count": 19,
   "id": "d92cfae8",
   "metadata": {},
   "outputs": [
    {
     "data": {
      "text/plain": [
       "9"
      ]
     },
     "execution_count": 19,
     "metadata": {},
     "output_type": "execute_result"
    }
   ],
   "source": [
    "def sqr(a):\n",
    "    return a*a\n",
    "\n",
    "sqr(3)"
   ]
  },
  {
   "cell_type": "code",
   "execution_count": 20,
   "id": "53e0366a",
   "metadata": {},
   "outputs": [
    {
     "data": {
      "text/plain": [
       "9"
      ]
     },
     "execution_count": 20,
     "metadata": {},
     "output_type": "execute_result"
    }
   ],
   "source": [
    "x = lambda a : a*a\n",
    "x(3)"
   ]
  },
  {
   "cell_type": "code",
   "execution_count": 21,
   "id": "38d257d0",
   "metadata": {},
   "outputs": [
    {
     "data": {
      "text/plain": [
       "81"
      ]
     },
     "execution_count": 21,
     "metadata": {},
     "output_type": "execute_result"
    }
   ],
   "source": [
    "x(9)"
   ]
  },
  {
   "cell_type": "code",
   "execution_count": 22,
   "id": "f7dfb3a5",
   "metadata": {},
   "outputs": [
    {
     "data": {
      "text/plain": [
       "4096"
      ]
     },
     "execution_count": 22,
     "metadata": {},
     "output_type": "execute_result"
    }
   ],
   "source": [
    "x(-64)"
   ]
  },
  {
   "cell_type": "code",
   "execution_count": 24,
   "id": "3a7982b5",
   "metadata": {},
   "outputs": [
    {
     "data": {
      "text/plain": [
       "[1, 2, 3, 1, 2, 3, 1, 2, 3, 1, 2, 3, 1, 2, 3, 3, 4, 5, 3, 4, 5, 3, 4, 5]"
      ]
     },
     "execution_count": 24,
     "metadata": {},
     "output_type": "execute_result"
    }
   ],
   "source": [
    "z= lambda x,y:5*x+3*y\n",
    "\n",
    "z([1,2,3],[3,4,5])"
   ]
  },
  {
   "cell_type": "code",
   "execution_count": 25,
   "id": "5795e575",
   "metadata": {},
   "outputs": [
    {
     "data": {
      "text/plain": [
       "[1, 4, 9, 16]"
      ]
     },
     "execution_count": 25,
     "metadata": {},
     "output_type": "execute_result"
    }
   ],
   "source": [
    "# now lets use map and lambda together\n",
    "\n",
    "l = [1,2,3,4]\n",
    "list(map(lambda x:x*x,l))"
   ]
  },
  {
   "cell_type": "code",
   "execution_count": 27,
   "id": "2593b7a5",
   "metadata": {},
   "outputs": [
    {
     "data": {
      "text/plain": [
       "[20, 40, 60, 80]"
      ]
     },
     "execution_count": 27,
     "metadata": {},
     "output_type": "execute_result"
    }
   ],
   "source": [
    "# take two list and multiply them and return the answer\n",
    "\n",
    "\n",
    "list(map(lambda f,g: f*g, [1,2,3,4],[20,20,20,20]))"
   ]
  },
  {
   "cell_type": "code",
   "execution_count": 28,
   "id": "a4cae14b",
   "metadata": {},
   "outputs": [
    {
     "data": {
      "text/plain": [
       "[21, 62, 123, 204]"
      ]
     },
     "execution_count": 28,
     "metadata": {},
     "output_type": "execute_result"
    }
   ],
   "source": [
    "# write x*y+z\n",
    "list(map(lambda a,b,c : a*b+c, [1,2,3,4],[10,20,30,40],[11,22,33,44]))"
   ]
  },
  {
   "cell_type": "markdown",
   "id": "7271e17f",
   "metadata": {},
   "source": [
    "# Filters\n",
    "\n",
    "> Filters and map hav excatly same syntax\n",
    "\n",
    "> it is used to filter the given iterable with the hlep of another function passed as an argumernt to test all the elements to be True\n",
    "\n"
   ]
  },
  {
   "cell_type": "code",
   "execution_count": 82,
   "id": "fc33e6ba",
   "metadata": {},
   "outputs": [
    {
     "data": {
      "text/plain": [
       "list"
      ]
     },
     "execution_count": 82,
     "metadata": {},
     "output_type": "execute_result"
    }
   ],
   "source": [
    "type(a_c)"
   ]
  },
  {
   "cell_type": "raw",
   "id": "d6f15aab",
   "metadata": {},
   "source": [
    "syntax:\n",
    "\n",
    "map(function,iterables)\n",
    "filter(function, iterables)"
   ]
  },
  {
   "cell_type": "code",
   "execution_count": 29,
   "id": "31c1062c",
   "metadata": {},
   "outputs": [
    {
     "data": {
      "text/plain": [
       "[False, False, False, False, False, True, True, True, True, True]"
      ]
     },
     "execution_count": 29,
     "metadata": {},
     "output_type": "execute_result"
    }
   ],
   "source": [
    "list(map(lambda x:x>=6,[1,2,3,4,5,6,7,8,9,10]))"
   ]
  },
  {
   "cell_type": "code",
   "execution_count": 30,
   "id": "1a2d1b06",
   "metadata": {},
   "outputs": [
    {
     "data": {
      "text/plain": [
       "[6, 7, 8, 9, 10]"
      ]
     },
     "execution_count": 30,
     "metadata": {},
     "output_type": "execute_result"
    }
   ],
   "source": [
    "list(filter(lambda x:x>=6,[1,2,3,4,5,6,7,8,9,10]))"
   ]
  },
  {
   "cell_type": "code",
   "execution_count": 31,
   "id": "750f189f",
   "metadata": {},
   "outputs": [
    {
     "data": {
      "text/plain": [
       "[106, 107, 108, 109, 110]"
      ]
     },
     "execution_count": 31,
     "metadata": {},
     "output_type": "execute_result"
    }
   ],
   "source": [
    "list(map(lambda x: x+100,list(filter(lambda x: x>= 6, [1,2,3,4,5,6,7,8,9,10]))))"
   ]
  },
  {
   "cell_type": "code",
   "execution_count": 32,
   "id": "a095b8aa",
   "metadata": {},
   "outputs": [
    {
     "data": {
      "text/plain": [
       "[False, False, False, False, False, True, True, True, True, True]"
      ]
     },
     "execution_count": 32,
     "metadata": {},
     "output_type": "execute_result"
    }
   ],
   "source": [
    "list(filter(lambda x: x+100,list(map(lambda x: x>= 6, [1,2,3,4,5,6,7,8,9,10]))))"
   ]
  },
  {
   "cell_type": "raw",
   "id": "6a39bb45",
   "metadata": {},
   "source": [
    "Write a Program to determine if the given number is Armstrong number or not. Print true if number is armstrong, otherwise print false. An Armstrong number is a number (with digits n) such that the sum of its digits raised to nth power is equal to the number itself.\n",
    "\n",
    "for example\n",
    "\n",
    "371, as 3^3 + 7^3 + 1^3 = 371 \n",
    "\n",
    "1634, as 1^4 + 6^4 + 3^4 + 4^4 = 1634 Input Integer number\n",
    "\n",
    "34, as 3^2+4^2 = 25\n",
    "\n",
    "Output true or false\n",
    "\n",
    "Example Input:\n",
    "\n",
    "1\n",
    "\n",
    "Output:\n",
    "\n",
    "True"
   ]
  },
  {
   "cell_type": "code",
   "execution_count": 3,
   "id": "95fac174",
   "metadata": {},
   "outputs": [],
   "source": [
    "def is_armstrong(number):\n",
    "    num_str = str(number)\n",
    "    n = len(num_str)\n",
    "    sum = 0\n",
    "    for i in num_str:\n",
    "        sum = sum + int(i)**n\n",
    "    return sum == number"
   ]
  },
  {
   "cell_type": "code",
   "execution_count": 4,
   "id": "27550b48",
   "metadata": {},
   "outputs": [
    {
     "name": "stdout",
     "output_type": "stream",
     "text": [
      "Enter a number: 1\n",
      "True\n"
     ]
    }
   ],
   "source": [
    "number = int(input(\"Enter a number: \"))\n",
    "\n",
    "print(is_armstrong(number))\n"
   ]
  },
  {
   "cell_type": "code",
   "execution_count": 6,
   "id": "e81c66ee",
   "metadata": {},
   "outputs": [
    {
     "name": "stdout",
     "output_type": "stream",
     "text": [
      "Enter the value check for armstrong number: 1\n",
      "1  is an Armstrong number\n"
     ]
    }
   ],
   "source": [
    "num = int(input(\"Enter the value check for armstrong number: \"))\n",
    "\n",
    "order = len(str(num))\n",
    "\n",
    "sum = 0\n",
    "\n",
    "temp = num\n",
    "\n",
    "while temp > 0 :\n",
    "    digit = temp % 10 \n",
    "    sum = sum + digit**order\n",
    "    temp = temp // 10\n",
    "    \n",
    "if num == sum :\n",
    "    print(num, \" is an Armstrong number\")\n",
    "else :\n",
    "    print(num, \" is not an Armstrong number\")"
   ]
  },
  {
   "cell_type": "raw",
   "id": "980410c3",
   "metadata": {},
   "source": [
    "There is an array of n integers. There are also 2 disjoint sets, A and B, each containing m integers. Youlike all the integers in set A and dislike all the integers in set B. Your initial happiness is 0. For each i integer in the array, if i in A, you add 1 to your happiness. If i in B, you add -1 to your happiness. Otherwise, your happiness does not change. Output your final happiness at the end.\n",
    "\n",
    "Note: Since A and B are sets, they have no repeated elements. However, the array might contain duplicate elements.\n",
    "\n",
    "Input The first line contains integers n and m separated by a space. The second line contains n integers, the elements of the array. The third and fourth lines contain m integers, A and B, respectively\n",
    "\n",
    "Output Output a single integer, your total happiness.\n",
    "\n",
    "Constraints 1 ≤ n ≤ 10\n",
    "\n",
    "1 ≤ m ≤ 10^5\n",
    "\n",
    "1 ≤ Any integer in the input ≤ 10⁹\n",
    "\n",
    "Input:\n",
    "\n",
    "3 2\n",
    "\n",
    "1 5 3\n",
    "\n",
    "3 1\n",
    "\n",
    "5 7\n",
    "\n",
    "Output: 1"
   ]
  },
  {
   "cell_type": "raw",
   "id": "546ea764",
   "metadata": {},
   "source": [
    "map(function,iterables)"
   ]
  },
  {
   "cell_type": "code",
   "execution_count": null,
   "id": "f828999b",
   "metadata": {
    "scrolled": true
   },
   "outputs": [],
   "source": [
    "# Input\n",
    "\n",
    "f_in = list(map(int,input().split()))[:2]\n",
    "# n = f_in[0], m = f_in[1]\n",
    "n,m = f_in[0],f_in[1]\n",
    "\n",
    "s_in = list(map(int,input().split()))[:n]\n",
    "a = set(map(int,input().split()))\n",
    "b = set(map(int,input().split()))\n",
    "\n",
    "# Logic \n",
    "\n",
    "a_c= 0 \n",
    "b_c= 0\n",
    "\n",
    "a_c = len([a_c + 1 for x in s_in if x in a])\n",
    "b_c = len([b_c + 1 for x in s_in if x in b])\n",
    "\n",
    "print(a_c-b_c)"
   ]
  },
  {
   "cell_type": "code",
   "execution_count": null,
   "id": "4594cf48",
   "metadata": {},
   "outputs": [],
   "source": [
    "a_c"
   ]
  },
  {
   "cell_type": "code",
   "execution_count": null,
   "id": "0fe48ccd",
   "metadata": {},
   "outputs": [],
   "source": [
    "b_c"
   ]
  },
  {
   "cell_type": "code",
   "execution_count": 83,
   "id": "aa397646",
   "metadata": {},
   "outputs": [
    {
     "data": {
      "text/plain": [
       "list"
      ]
     },
     "execution_count": 83,
     "metadata": {},
     "output_type": "execute_result"
    }
   ],
   "source": [
    "type(b_c)"
   ]
  },
  {
   "cell_type": "code",
   "execution_count": 84,
   "id": "3d5c6940",
   "metadata": {},
   "outputs": [
    {
     "ename": "TypeError",
     "evalue": "unsupported operand type(s) for -: 'list' and 'list'",
     "output_type": "error",
     "traceback": [
      "\u001b[1;31m---------------------------------------------------------------------------\u001b[0m",
      "\u001b[1;31mTypeError\u001b[0m                                 Traceback (most recent call last)",
      "Input \u001b[1;32mIn [84]\u001b[0m, in \u001b[0;36m<cell line: 1>\u001b[1;34m()\u001b[0m\n\u001b[1;32m----> 1\u001b[0m \u001b[43m[\u001b[49m\u001b[38;5;241;43m1\u001b[39;49m\u001b[43m,\u001b[49m\u001b[38;5;241;43m2\u001b[39;49m\u001b[43m,\u001b[49m\u001b[38;5;241;43m3\u001b[39;49m\u001b[43m]\u001b[49m\u001b[38;5;241;43m-\u001b[39;49m\u001b[43m[\u001b[49m\u001b[38;5;241;43m4\u001b[39;49m\u001b[43m,\u001b[49m\u001b[38;5;241;43m5\u001b[39;49m\u001b[43m,\u001b[49m\u001b[38;5;241;43m6\u001b[39;49m\u001b[43m]\u001b[49m\n",
      "\u001b[1;31mTypeError\u001b[0m: unsupported operand type(s) for -: 'list' and 'list'"
     ]
    }
   ],
   "source": [
    "[1,2,3]-[4,5,6]"
   ]
  },
  {
   "cell_type": "raw",
   "id": "6a7bf3b9",
   "metadata": {},
   "source": [
    "We add a Leap Day on February 29, almost every four years. The leap day is an extra, or intercalary day and we add it to the shortest month of the year, February. In the Gregorian calendar three criteria must be taken into account to identify leap years:\n",
    "\n",
    "The year can be evenly divided by 4, is a leap year, unless: The year can be evenly divided by 100, it is NOT a leap year, unless: The year is also evenly divisible by 400. Then it is a leap year. This means that in the Gregorian calendar, the years 2000 and 2400 are leap years, while 1800, 1900,2100, 2200, 2300 and 2500 are NOT leap years. \n",
    "\n",
    "Source Task \n",
    "\n",
    "You are given the year, and you have to write a function to check if the year is leap or not. Note that you have to complete the function and remaining code is given as template.\n",
    "\n",
    "Input Read y, the year that needs to be checked.\n",
    "\n",
    "Output \n",
    "\n",
    "Output is taken care of by the template. Your function must return a boolean value (True/False)\n",
    "\n",
    "Sample input 1990\n",
    "\n",
    "Sample Output False\n",
    "\n",
    "Explanation 1990 is not a multiple of 4 hence it's not a leap year.\n",
    "\n",
    "Example Input: etc.\n",
    "\n",
    "Output: etc."
   ]
  },
  {
   "cell_type": "code",
   "execution_count": 88,
   "id": "838bb2d6",
   "metadata": {},
   "outputs": [],
   "source": [
    "def leap(year):\n",
    "    leap = False\n",
    "    if (year % 4 == 0):\n",
    "        leap = True\n",
    "        if (year % 100 == 0):\n",
    "            leap = False\n",
    "            if(year % 400 == 0):\n",
    "                leap = True\n",
    "    return leap"
   ]
  },
  {
   "cell_type": "code",
   "execution_count": 92,
   "id": "8e0113a4",
   "metadata": {},
   "outputs": [
    {
     "data": {
      "text/plain": [
       "False"
      ]
     },
     "execution_count": 92,
     "metadata": {},
     "output_type": "execute_result"
    }
   ],
   "source": [
    "leap(2100)"
   ]
  },
  {
   "cell_type": "raw",
   "id": "bce19c7c",
   "metadata": {},
   "source": [
    "You are given n words. Some words may repeat. For each word, output its number of occurrences. The output order should correspond with the input order of appearance of the word. See the sample input/output for clarification.\n",
    "\n",
    "Note: Each input line ends with a \"\\n\" character.\n",
    "\n",
    "Input The first line contains the integer n, . The next n lines each contain a word.\n",
    "\n",
    "Output Output 2 lines. On the first line, output the number of distinct words from the input. On the second line, output the number of occurrences for each distinct word according to their appearance in the input.\n",
    "\n",
    "Constraints 1 ≤ n ≤ 105 The sum of the lengths of all the words do not exceed 106 All the words are composed of lowercase English letters only.\n",
    "\n",
    "Input: 4 bcdef abcdefg bcde bcdef\n",
    "\n",
    "Output: 3 2 1 1"
   ]
  },
  {
   "cell_type": "raw",
   "id": "001d94c6",
   "metadata": {},
   "source": [
    "Given a number N, print list of cubes of all even numbers from 1 to N.\n",
    "\n",
    "Input N\n",
    "\n",
    "Output list of cubes of all even numbers from 1 to N\n",
    "\n",
    "Example Input:\n",
    "\n",
    "6\n",
    "\n",
    "Output:\n",
    "\n",
    "[8, 64]\n",
    "\n",
    "\n",
    "*** use Lambda function"
   ]
  },
  {
   "cell_type": "code",
   "execution_count": 9,
   "id": "cc48d276",
   "metadata": {},
   "outputs": [
    {
     "name": "stdout",
     "output_type": "stream",
     "text": [
      "6\n"
     ]
    },
    {
     "data": {
      "text/plain": [
       "[8, 64]"
      ]
     },
     "execution_count": 9,
     "metadata": {},
     "output_type": "execute_result"
    }
   ],
   "source": [
    "N = int(input())\n",
    "\n",
    "l = list(range(N))\n",
    "\n",
    "l1 = filter(lambda x:x>0,l)\n",
    "\n",
    "list(map(lambda x:x**3,list(filter(lambda x:x%2==0,l1))))\n"
   ]
  },
  {
   "cell_type": "code",
   "execution_count": 114,
   "id": "f34ddb8c",
   "metadata": {},
   "outputs": [
    {
     "data": {
      "text/plain": [
       "[0, 1, 2, 3, 4, 5]"
      ]
     },
     "execution_count": 114,
     "metadata": {},
     "output_type": "execute_result"
    }
   ],
   "source": [
    "l"
   ]
  },
  {
   "cell_type": "code",
   "execution_count": 115,
   "id": "52175b14",
   "metadata": {},
   "outputs": [
    {
     "data": {
      "text/plain": [
       "[]"
      ]
     },
     "execution_count": 115,
     "metadata": {},
     "output_type": "execute_result"
    }
   ],
   "source": [
    "list(l1)"
   ]
  },
  {
   "cell_type": "code",
   "execution_count": 116,
   "id": "87ffa4c4",
   "metadata": {},
   "outputs": [
    {
     "data": {
      "text/plain": [
       "[2, 4]"
      ]
     },
     "execution_count": 116,
     "metadata": {},
     "output_type": "execute_result"
    }
   ],
   "source": [
    "list(l2)"
   ]
  },
  {
   "cell_type": "code",
   "execution_count": 112,
   "id": "0da8159e",
   "metadata": {},
   "outputs": [
    {
     "data": {
      "text/plain": [
       "[2, 4]"
      ]
     },
     "execution_count": 112,
     "metadata": {},
     "output_type": "execute_result"
    }
   ],
   "source": [
    "list(filter(lambda x:x%2==0,[1, 2, 3, 4, 5]))"
   ]
  },
  {
   "cell_type": "code",
   "execution_count": null,
   "id": "899f500c",
   "metadata": {},
   "outputs": [],
   "source": []
  }
 ],
 "metadata": {
  "kernelspec": {
   "display_name": "Python 3 (ipykernel)",
   "language": "python",
   "name": "python3"
  },
  "language_info": {
   "codemirror_mode": {
    "name": "ipython",
    "version": 3
   },
   "file_extension": ".py",
   "mimetype": "text/x-python",
   "name": "python",
   "nbconvert_exporter": "python",
   "pygments_lexer": "ipython3",
   "version": "3.9.13"
  }
 },
 "nbformat": 4,
 "nbformat_minor": 5
}
