{
 "cells": [
  {
   "cell_type": "markdown",
   "id": "cbe41081",
   "metadata": {},
   "source": [
    "# Python Data Type \n",
    "\n",
    "> Data types are the classification or categorization of data items.\n",
    "\n",
    "> It represents the kind of value that tells what operation can be performed on a particular data\n",
    "\n"
   ]
  },
  {
   "cell_type": "code",
   "execution_count": 1,
   "id": "5f3eb88e",
   "metadata": {},
   "outputs": [
    {
     "name": "stdout",
     "output_type": "stream",
     "text": [
      "2\n",
      "<class 'int'>\n"
     ]
    }
   ],
   "source": [
    "a = 2\n",
    "print(a)\n",
    "\n",
    "# Python provides us the type() finction which returns the type of varaible passed\n",
    "\n",
    "print(type(a))"
   ]
  },
  {
   "cell_type": "code",
   "execution_count": 2,
   "id": "1b5ca526",
   "metadata": {},
   "outputs": [
    {
     "name": "stdout",
     "output_type": "stream",
     "text": [
      "Data Science\n",
      "<class 'str'>\n"
     ]
    }
   ],
   "source": [
    "b = 'Data Science'\n",
    "print(b)\n",
    "print(type(b))"
   ]
  },
  {
   "cell_type": "code",
   "execution_count": 3,
   "id": "f759f298",
   "metadata": {},
   "outputs": [
    {
     "name": "stdout",
     "output_type": "stream",
     "text": [
      "23.15\n",
      "<class 'float'>\n"
     ]
    }
   ],
   "source": [
    "c = 23.15\n",
    "print(c)\n",
    "print(type(c))"
   ]
  },
  {
   "cell_type": "code",
   "execution_count": 4,
   "id": "f11c8cfe",
   "metadata": {},
   "outputs": [
    {
     "name": "stdout",
     "output_type": "stream",
     "text": [
      "3.2\n",
      "<class 'float'>\n"
     ]
    }
   ],
   "source": [
    "d = 1 # int\n",
    "e = 2.2 # Float\n",
    "f = d+e\n",
    "print(f)\n",
    "print(type(f)) # float"
   ]
  },
  {
   "cell_type": "code",
   "execution_count": 5,
   "id": "1ecf1c95",
   "metadata": {},
   "outputs": [
    {
     "name": "stdout",
     "output_type": "stream",
     "text": [
      "My name is Martin\n",
      "My name is Mike\n",
      "c\n",
      "23.15\n"
     ]
    }
   ],
   "source": [
    "print(\"My name is Martin\") #1\n",
    "print(\"My name is Mike\") #2\n",
    "print(\"c\") #3\n",
    "print(c) #4"
   ]
  },
  {
   "cell_type": "markdown",
   "id": "e07e09c6",
   "metadata": {},
   "source": [
    "##### In python ' or \" \" is the same\n",
    "\n",
    "### Python is case sensitive language. A or a is not same"
   ]
  },
  {
   "cell_type": "code",
   "execution_count": 6,
   "id": "f58ad149",
   "metadata": {},
   "outputs": [
    {
     "name": "stdout",
     "output_type": "stream",
     "text": [
      "Addition of a= 5 and b= 6 is c= 11\n"
     ]
    }
   ],
   "source": [
    "a = 5\n",
    "b = 6\n",
    "c = a + b\n",
    "print(\"Addition of a=\",a, \"and b=\",b, \"is c=\",c)"
   ]
  },
  {
   "cell_type": "markdown",
   "id": "3770a4d5",
   "metadata": {},
   "source": [
    "# Standard data types\n",
    "\n",
    "> A variable can hold different types of values. For example, a person's name must be stored as a string whereas its id must be stored as an integer.\n",
    "\n",
    "> Python provides various standard data types that define the storage method on each of them. The data types defined in Python are given below.\n",
    "\n",
    "> Numbers\n",
    "\n",
    "> String\n",
    "\n",
    "> List \n",
    "\n",
    "> Tuple \n",
    "\n",
    "> Dictionary"
   ]
  },
  {
   "cell_type": "code",
   "execution_count": 14,
   "id": "3e6aadcf",
   "metadata": {},
   "outputs": [
    {
     "name": "stdout",
     "output_type": "stream",
     "text": [
      "64564565464456446464465\n",
      "(-3+9j)\n"
     ]
    }
   ],
   "source": [
    "a = 64564565464456446464465\n",
    "print(a)\n",
    "c1 = 2+3j\n",
    "c2 = 5-6j\n",
    "c3 = c1-c2\n",
    "print(c3)"
   ]
  },
  {
   "cell_type": "code",
   "execution_count": 7,
   "id": "17afa3d6",
   "metadata": {},
   "outputs": [
    {
     "data": {
      "text/plain": [
       "str"
      ]
     },
     "execution_count": 7,
     "metadata": {},
     "output_type": "execute_result"
    }
   ],
   "source": [
    "type(\"Hello World\")"
   ]
  },
  {
   "cell_type": "code",
   "execution_count": 8,
   "id": "2031c5a1",
   "metadata": {},
   "outputs": [
    {
     "data": {
      "text/plain": [
       "int"
      ]
     },
     "execution_count": 8,
     "metadata": {},
     "output_type": "execute_result"
    }
   ],
   "source": [
    "type(12)"
   ]
  },
  {
   "cell_type": "code",
   "execution_count": 9,
   "id": "6ad05fc9",
   "metadata": {},
   "outputs": [
    {
     "data": {
      "text/plain": [
       "float"
      ]
     },
     "execution_count": 9,
     "metadata": {},
     "output_type": "execute_result"
    }
   ],
   "source": [
    "type(33.2)"
   ]
  },
  {
   "cell_type": "code",
   "execution_count": 10,
   "id": "8b393abf",
   "metadata": {},
   "outputs": [
    {
     "data": {
      "text/plain": [
       "str"
      ]
     },
     "execution_count": 10,
     "metadata": {},
     "output_type": "execute_result"
    }
   ],
   "source": [
    "type('33.2')"
   ]
  },
  {
   "cell_type": "markdown",
   "id": "80ffe463",
   "metadata": {},
   "source": [
    "# String\n",
    "\n",
    "The String can be defined as the sequence of characters represted in the qiuotation marks\n",
    "\n",
    "The operator '*' is known as repetition operator and the operator '+' is know as concat operator in python"
   ]
  },
  {
   "cell_type": "code",
   "execution_count": 11,
   "id": "ea5a8772",
   "metadata": {},
   "outputs": [
    {
     "name": "stdout",
     "output_type": "stream",
     "text": [
      "Hello Python How are you ?\n",
      "Hello PythonHello PythonHello Python\n"
     ]
    }
   ],
   "source": [
    "str1 = \"Hello Python\"\n",
    "str2 = \" How are you ?\"\n",
    "\n",
    "z = str1+str2\n",
    "print(z)\n",
    "\n",
    "\n",
    "print(str1*3)"
   ]
  },
  {
   "cell_type": "code",
   "execution_count": 12,
   "id": "35b00372",
   "metadata": {},
   "outputs": [
    {
     "name": "stdout",
     "output_type": "stream",
     "text": [
      "Data Science\n",
      "<class 'str'>\n",
      "D\n",
      "S\n"
     ]
    },
    {
     "ename": "IndexError",
     "evalue": "string index out of range",
     "output_type": "error",
     "traceback": [
      "\u001b[1;31m---------------------------------------------------------------------------\u001b[0m",
      "\u001b[1;31mIndexError\u001b[0m                                Traceback (most recent call last)",
      "\u001b[1;32m~\\AppData\\Local\\Temp\\ipykernel_8516\\1266900734.py\u001b[0m in \u001b[0;36m<module>\u001b[1;34m\u001b[0m\n\u001b[0;32m      7\u001b[0m \u001b[0mprint\u001b[0m\u001b[1;33m(\u001b[0m\u001b[0ms\u001b[0m\u001b[1;33m[\u001b[0m\u001b[1;36m0\u001b[0m\u001b[1;33m]\u001b[0m\u001b[1;33m)\u001b[0m  \u001b[1;31m# D\u001b[0m\u001b[1;33m\u001b[0m\u001b[1;33m\u001b[0m\u001b[0m\n\u001b[0;32m      8\u001b[0m \u001b[0mprint\u001b[0m\u001b[1;33m(\u001b[0m\u001b[0ms\u001b[0m\u001b[1;33m[\u001b[0m\u001b[1;36m5\u001b[0m\u001b[1;33m]\u001b[0m\u001b[1;33m)\u001b[0m \u001b[1;31m# S\u001b[0m\u001b[1;33m\u001b[0m\u001b[1;33m\u001b[0m\u001b[0m\n\u001b[1;32m----> 9\u001b[1;33m \u001b[0mprint\u001b[0m\u001b[1;33m(\u001b[0m\u001b[0ms\u001b[0m\u001b[1;33m[\u001b[0m\u001b[1;36m25\u001b[0m\u001b[1;33m]\u001b[0m\u001b[1;33m)\u001b[0m \u001b[1;31m# Error # out of range\u001b[0m\u001b[1;33m\u001b[0m\u001b[1;33m\u001b[0m\u001b[0m\n\u001b[0m",
      "\u001b[1;31mIndexError\u001b[0m: string index out of range"
     ]
    }
   ],
   "source": [
    "s = \"Data Science\"\n",
    "print(s)\n",
    "print(type(s))\n",
    "\n",
    "# indexing \n",
    "\n",
    "print(s[0])  # D\n",
    "print(s[5]) # S\n",
    "print(s[25]) # Error # out of range"
   ]
  },
  {
   "cell_type": "code",
   "execution_count": 13,
   "id": "127ae7ca",
   "metadata": {},
   "outputs": [
    {
     "name": "stdout",
     "output_type": "stream",
     "text": [
      "e\n",
      "M\n",
      "i\n"
     ]
    },
    {
     "ename": "IndexError",
     "evalue": "string index out of range",
     "output_type": "error",
     "traceback": [
      "\u001b[1;31m---------------------------------------------------------------------------\u001b[0m",
      "\u001b[1;31mIndexError\u001b[0m                                Traceback (most recent call last)",
      "\u001b[1;32m~\\AppData\\Local\\Temp\\ipykernel_8516\\1025852385.py\u001b[0m in \u001b[0;36m<module>\u001b[1;34m\u001b[0m\n\u001b[0;32m      3\u001b[0m \u001b[0mprint\u001b[0m\u001b[1;33m(\u001b[0m\u001b[0mt\u001b[0m\u001b[1;33m[\u001b[0m\u001b[1;33m-\u001b[0m\u001b[1;36m7\u001b[0m\u001b[1;33m]\u001b[0m\u001b[1;33m)\u001b[0m \u001b[1;31m# M\u001b[0m\u001b[1;33m\u001b[0m\u001b[1;33m\u001b[0m\u001b[0m\n\u001b[0;32m      4\u001b[0m \u001b[0mprint\u001b[0m\u001b[1;33m(\u001b[0m\u001b[0mt\u001b[0m\u001b[1;33m[\u001b[0m\u001b[1;33m-\u001b[0m\u001b[1;36m3\u001b[0m\u001b[1;33m]\u001b[0m\u001b[1;33m)\u001b[0m \u001b[1;31m# i\u001b[0m\u001b[1;33m\u001b[0m\u001b[1;33m\u001b[0m\u001b[0m\n\u001b[1;32m----> 5\u001b[1;33m \u001b[0mprint\u001b[0m\u001b[1;33m(\u001b[0m\u001b[0mt\u001b[0m\u001b[1;33m[\u001b[0m\u001b[1;33m-\u001b[0m\u001b[1;36m20\u001b[0m\u001b[1;33m]\u001b[0m\u001b[1;33m)\u001b[0m \u001b[1;31m# out of range error\u001b[0m\u001b[1;33m\u001b[0m\u001b[1;33m\u001b[0m\u001b[0m\n\u001b[0m",
      "\u001b[1;31mIndexError\u001b[0m: string index out of range"
     ]
    }
   ],
   "source": [
    "t = \"Machine\"\n",
    "print(t[-1]) # e\n",
    "print(t[-7]) # M\n",
    "print(t[-3]) # i\n",
    "print(t[-20]) # out of range error"
   ]
  },
  {
   "cell_type": "code",
   "execution_count": 1,
   "id": "38d8452c",
   "metadata": {},
   "outputs": [
    {
     "name": "stdout",
     "output_type": "stream",
     "text": [
      "achi\n",
      "Mac\n",
      "hine\n",
      "Mach\n",
      "\n",
      "\n",
      "Negative indexing\n",
      "\n",
      "achi\n",
      "c i e\n",
      "Machine\n"
     ]
    }
   ],
   "source": [
    "t = \"Machine\"\n",
    "# Slicing\n",
    "print(t[1:5]) # Start_index to (end_index-1)\n",
    "print(t[0:3])#Mac\n",
    "print(t[3:]) # hine\n",
    "print(t[:4]) #Mach\n",
    "print(\"\\n\\nNegative indexing\\n\")\n",
    "print(t[-6:-2])\n",
    "print(t[2],t[4],t[6])\n",
    "print(t)\n"
   ]
  },
  {
   "cell_type": "code",
   "execution_count": 3,
   "id": "5903fdec",
   "metadata": {},
   "outputs": [
    {
     "name": "stdout",
     "output_type": "stream",
     "text": [
      "Mcie\n"
     ]
    }
   ],
   "source": [
    "print(t[::2])"
   ]
  },
  {
   "cell_type": "code",
   "execution_count": 4,
   "id": "97ca6bec",
   "metadata": {},
   "outputs": [
    {
     "name": "stdout",
     "output_type": "stream",
     "text": [
      "Mhe\n"
     ]
    }
   ],
   "source": [
    "print(t[::3])"
   ]
  },
  {
   "cell_type": "code",
   "execution_count": 5,
   "id": "e053442c",
   "metadata": {},
   "outputs": [
    {
     "name": "stdout",
     "output_type": "stream",
     "text": [
      "ehM\n"
     ]
    }
   ],
   "source": [
    "print(t[::-3])"
   ]
  },
  {
   "cell_type": "code",
   "execution_count": 15,
   "id": "aed4ea4d",
   "metadata": {},
   "outputs": [
    {
     "name": "stdout",
     "output_type": "stream",
     "text": [
      "enihcaM\n"
     ]
    }
   ],
   "source": [
    "t = \"Machine\"\n",
    "print(t[::-1]) # used to reverse the stings"
   ]
  },
  {
   "cell_type": "code",
   "execution_count": 16,
   "id": "84496691",
   "metadata": {},
   "outputs": [
    {
     "name": "stdout",
     "output_type": "stream",
     "text": [
      "eicM\n"
     ]
    }
   ],
   "source": [
    "t = \"Machine\"\n",
    "print(t[::-2]) # used to reverse the stings"
   ]
  },
  {
   "cell_type": "markdown",
   "id": "669f0a39",
   "metadata": {},
   "source": [
    "# Python Keywords\n",
    "\n",
    "Python keywords are special reserve words which convey a special meaning to the complier/interpreter. Each keyword have speacial meaning and a specific operation to do. \n",
    "\n",
    "> A compiler translated the entire source code into a machine interpretable language in a single run.. Interpreter does the same job line by line\n",
    "\n",
    "\n",
    "Following is the List of Python Keywords.\n",
    "\n",
    "True\n",
    "\n",
    "False\n",
    "\n",
    "None\n",
    "\n",
    "and\n",
    "\n",
    "as\n",
    "\n",
    "asset\n",
    "\n",
    "def\n",
    "\n",
    "class\n",
    "\n",
    "continue\n",
    "\n",
    "break\n",
    "\n",
    "else\n",
    "\n",
    "finally\n",
    "\n",
    "elif\n",
    "\n",
    "del\n",
    "\n",
    "except\n",
    "\n",
    "global\n",
    "\n",
    "for\n",
    "\n",
    "if\n",
    "\n",
    "from\n",
    "\n",
    "import\n",
    "\n",
    "raise\n",
    "\n",
    "try\n",
    "\n",
    "or\n",
    "\n",
    "return\n",
    "\n",
    "pass\n",
    "\n",
    "nonlocal\n",
    "\n",
    "in\n",
    "\n",
    "not\n",
    "\n",
    "is\n",
    "\n",
    "lambda"
   ]
  },
  {
   "cell_type": "code",
   "execution_count": 17,
   "id": "ff3e1559",
   "metadata": {},
   "outputs": [
    {
     "ename": "SyntaxError",
     "evalue": "invalid syntax (461130962.py, line 2)",
     "output_type": "error",
     "traceback": [
      "\u001b[1;36m  File \u001b[1;32m\"C:\\Users\\user\\AppData\\Local\\Temp\\ipykernel_8516\\461130962.py\"\u001b[1;36m, line \u001b[1;32m2\u001b[0m\n\u001b[1;33m    lambda = 6\u001b[0m\n\u001b[1;37m           ^\u001b[0m\n\u001b[1;31mSyntaxError\u001b[0m\u001b[1;31m:\u001b[0m invalid syntax\n"
     ]
    }
   ],
   "source": [
    "a = 5\n",
    "lambda = 6\n",
    "c = a+b\n",
    "print(c)"
   ]
  },
  {
   "cell_type": "code",
   "execution_count": 7,
   "id": "33f5fefa",
   "metadata": {},
   "outputs": [
    {
     "name": "stdout",
     "output_type": "stream",
     "text": [
      "25\n",
      "3125\n"
     ]
    }
   ],
   "source": [
    "print(5*5)\n",
    "print(5**5)"
   ]
  },
  {
   "cell_type": "raw",
   "id": "bcdba6eb",
   "metadata": {},
   "source": [
    "# Order of Operation : \n",
    "\n",
    "PEMDAS\n",
    "\n",
    "P - Parentheses\n",
    "E - Exponentiation\n",
    "M - Multiplication\n",
    "D - Division\n",
    "A - Addition\n",
    "S - Subraction"
   ]
  },
  {
   "cell_type": "code",
   "execution_count": 12,
   "id": "80cecde3",
   "metadata": {},
   "outputs": [
    {
     "name": "stdout",
     "output_type": "stream",
     "text": [
      "4\n",
      "1\n",
      "2\n",
      "1\n",
      "1\n"
     ]
    }
   ],
   "source": [
    "print(2+3-1)\n",
    "print(1+1**5-1)\n",
    "print(1+1**(5-2))\n",
    "print(2**(3+5-(1+3)*2))\n",
    "print(3**0)"
   ]
  },
  {
   "cell_type": "code",
   "execution_count": 12,
   "id": "0c2a7a05",
   "metadata": {},
   "outputs": [
    {
     "name": "stdout",
     "output_type": "stream",
     "text": [
      "25\n"
     ]
    }
   ],
   "source": [
    "print(e**2)"
   ]
  },
  {
   "cell_type": "code",
   "execution_count": 7,
   "id": "59522f0a",
   "metadata": {},
   "outputs": [
    {
     "ename": "NameError",
     "evalue": "name 'e' is not defined",
     "output_type": "error",
     "traceback": [
      "\u001b[1;31m---------------------------------------------------------------------------\u001b[0m",
      "\u001b[1;31mNameError\u001b[0m                                 Traceback (most recent call last)",
      "\u001b[1;32m~\\AppData\\Local\\Temp\\ipykernel_8024\\191039765.py\u001b[0m in \u001b[0;36m<module>\u001b[1;34m\u001b[0m\n\u001b[1;32m----> 1\u001b[1;33m \u001b[0mprint\u001b[0m\u001b[1;33m(\u001b[0m\u001b[0me\u001b[0m\u001b[1;33m)\u001b[0m\u001b[1;33m\u001b[0m\u001b[1;33m\u001b[0m\u001b[0m\n\u001b[0m",
      "\u001b[1;31mNameError\u001b[0m: name 'e' is not defined"
     ]
    }
   ],
   "source": [
    "print(e)\n"
   ]
  },
  {
   "cell_type": "code",
   "execution_count": 10,
   "id": "21ccc00c",
   "metadata": {},
   "outputs": [
    {
     "name": "stdout",
     "output_type": "stream",
     "text": [
      "5\n"
     ]
    }
   ],
   "source": [
    "e = 5\n",
    "print(e)"
   ]
  },
  {
   "cell_type": "code",
   "execution_count": 11,
   "id": "040961a5",
   "metadata": {},
   "outputs": [
    {
     "name": "stdout",
     "output_type": "stream",
     "text": [
      "25\n"
     ]
    }
   ],
   "source": [
    "print(e**2)"
   ]
  },
  {
   "cell_type": "code",
   "execution_count": 62,
   "id": "9b67e07b",
   "metadata": {},
   "outputs": [
    {
     "name": "stdout",
     "output_type": "stream",
     "text": [
      "asdadasasdaasdadasasdaasdadasasda\n",
      "dfsafsddfsafsddfsafsd\n",
      "sdfasfsdsdfasfsdsdfasfsdsdfasfsdsdfasfsd\n"
     ]
    }
   ],
   "source": [
    "print(\"asdadasasda\"*3)\n",
    "print(\"dfsafsd\"*3)\n",
    "print(\"sdfasfsd\"*5)"
   ]
  },
  {
   "cell_type": "code",
   "execution_count": 17,
   "id": "bfbf7540",
   "metadata": {},
   "outputs": [
    {
     "data": {
      "text/plain": [
       "str"
      ]
     },
     "execution_count": 17,
     "metadata": {},
     "output_type": "execute_result"
    }
   ],
   "source": [
    "type(\"asdasdas\"+\"asdasdadasd\")"
   ]
  },
  {
   "cell_type": "code",
   "execution_count": 18,
   "id": "d508eca9",
   "metadata": {},
   "outputs": [
    {
     "data": {
      "text/plain": [
       "'asdasdasasdasdadasd'"
      ]
     },
     "execution_count": 18,
     "metadata": {},
     "output_type": "execute_result"
    }
   ],
   "source": [
    "\"asdasdas\"+\"asdasdadasd\""
   ]
  },
  {
   "cell_type": "markdown",
   "id": "cf86533f",
   "metadata": {},
   "source": [
    "# Happy Learning"
   ]
  }
 ],
 "metadata": {
  "kernelspec": {
   "display_name": "Python 3 (ipykernel)",
   "language": "python",
   "name": "python3"
  },
  "language_info": {
   "codemirror_mode": {
    "name": "ipython",
    "version": 3
   },
   "file_extension": ".py",
   "mimetype": "text/x-python",
   "name": "python",
   "nbconvert_exporter": "python",
   "pygments_lexer": "ipython3",
   "version": "3.9.13"
  }
 },
 "nbformat": 4,
 "nbformat_minor": 5
}
