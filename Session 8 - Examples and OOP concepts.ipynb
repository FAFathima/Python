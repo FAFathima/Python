{
 "cells": [
  {
   "cell_type": "code",
   "execution_count": 1,
   "id": "67492740",
   "metadata": {},
   "outputs": [
    {
     "data": {
      "text/plain": [
       "[2, 4]"
      ]
     },
     "execution_count": 1,
     "metadata": {},
     "output_type": "execute_result"
    }
   ],
   "source": [
    "list(filter(lambda x:x%2==0,[1, 2, 3, 4, 5]))"
   ]
  },
  {
   "cell_type": "raw",
   "id": "01fef6b6",
   "metadata": {},
   "source": [
    "Print the following pattern for the given N number of rows.\n",
    "\n",
    "Pattern for N = 4\n",
    "\n",
    "1\n",
    "\n",
    "22\n",
    "\n",
    "333\n",
    "\n",
    "4444\n",
    "\n",
    "Input \n",
    "\n",
    "Integer N (Total no. of rows)\n",
    "\n",
    "Output Pattern in N lines"
   ]
  },
  {
   "cell_type": "code",
   "execution_count": 119,
   "id": "0824c1fb",
   "metadata": {
    "scrolled": true
   },
   "outputs": [
    {
     "name": "stdout",
     "output_type": "stream",
     "text": [
      "Enter Triangle Numbers Pattern Rows = 8\n",
      "====The Triangle Numbers Pattern====\n",
      "       1 \n",
      "      2 2 \n",
      "     3 3 3 \n",
      "    4 4 4 4 \n",
      "   5 5 5 5 5 \n",
      "  6 6 6 6 6 6 \n",
      " 7 7 7 7 7 7 7 \n",
      "8 8 8 8 8 8 8 8 \n"
     ]
    }
   ],
   "source": [
    "## FULL PYRAMID PATTERN WITH NUMBERS\n",
    "\n",
    "rows = int(input(\"Enter Triangle Numbers Pattern Rows = \"))\n",
    "print(\"====The Triangle Numbers Pattern====\")\n",
    "for i in range(1, rows + 1): # Controls the rows\n",
    "    for j in range(rows, i, -1): # controls the spaces\n",
    "        print(end = ' ')\n",
    "    for k in range(1, i+1): # K controls the columns\n",
    "        print(i, end = ' ')\n",
    "    print()"
   ]
  },
  {
   "cell_type": "code",
   "execution_count": 127,
   "id": "9bdeb414",
   "metadata": {
    "scrolled": true
   },
   "outputs": [
    {
     "name": "stdout",
     "output_type": "stream",
     "text": [
      "1  \n",
      "2 2  \n",
      "3 3 3  \n",
      "4 4 4 4  \n",
      "5 5 5 5 5  \n"
     ]
    }
   ],
   "source": [
    "for i in range(1,6):\n",
    "    for j in range(1,i+1):\n",
    "        print(i, end=\" \")\n",
    "        \n",
    "    print(\" \")"
   ]
  },
  {
   "cell_type": "code",
   "execution_count": null,
   "id": "1f319d3f",
   "metadata": {},
   "outputs": [],
   "source": [
    "# Print inverted half pyramid as shown below\n",
    "\n",
    "1 1 1 1 1\n",
    "\n",
    "2 2 2 2\n",
    "\n",
    "3 3 3\n",
    "\n",
    "4 4 \n",
    "\n",
    "5\n"
   ]
  },
  {
   "cell_type": "code",
   "execution_count": 140,
   "id": "d1e92a69",
   "metadata": {},
   "outputs": [
    {
     "name": "stdout",
     "output_type": "stream",
     "text": [
      "1 1 1 1 1 \n",
      "\n",
      "2 2 2 2 \n",
      "\n",
      "3 3 3 \n",
      "\n",
      "4 4 \n",
      "\n",
      "5 \n",
      "\n"
     ]
    }
   ],
   "source": [
    "rows = 5\n",
    "c=0\n",
    "for i in range (rows,0,-1):\n",
    "    c = c+1\n",
    "    for j in range(1,i+1):\n",
    "        print(c,end=\" \")\n",
    "    print('\\n')"
   ]
  },
  {
   "cell_type": "code",
   "execution_count": 126,
   "id": "159dbfa7",
   "metadata": {},
   "outputs": [
    {
     "name": "stdout",
     "output_type": "stream",
     "text": [
      "4\n",
      "3\n",
      "2\n"
     ]
    }
   ],
   "source": [
    "for j in range(4,1,-1):\n",
    "    print(j)"
   ]
  },
  {
   "cell_type": "code",
   "execution_count": 132,
   "id": "b86055cf",
   "metadata": {},
   "outputs": [
    {
     "name": "stdout",
     "output_type": "stream",
     "text": [
      "5\n",
      "4\n",
      "3\n",
      "2\n"
     ]
    }
   ],
   "source": [
    "for i in range(5,1,-1):\n",
    "    print(i)"
   ]
  },
  {
   "cell_type": "raw",
   "id": "792145eb",
   "metadata": {},
   "source": [
    "Write a program to determine if given number is palindrome or not. Print true if it is palindrome, false otherwise. **Palindrome are the numbers for which reverse is exactly same as the original one. For eg. 121\n",
    "\n",
    "**\n",
    "\n",
    "Example Input1:\n",
    "\n",
    "121\n",
    "\n",
    "Output1:\n",
    "\n",
    "True\n",
    "\n",
    "Input2:\n",
    "\n",
    "123\n",
    "\n",
    "Output2:\n",
    "\n",
    "False"
   ]
  },
  {
   "cell_type": "code",
   "execution_count": 142,
   "id": "32784df9",
   "metadata": {},
   "outputs": [
    {
     "name": "stdout",
     "output_type": "stream",
     "text": [
      "Enter the number = 123454321\n",
      "123454321  is Palindrome\n"
     ]
    }
   ],
   "source": [
    "num=int(input(\"Enter the number = \"))\n",
    "rev=0\n",
    "n=num\n",
    "while(n !=0):\n",
    "   r = n % 10\n",
    "   rev = rev * 10 + r\n",
    "   n=n//10\n",
    "if(num == rev):\n",
    "   print(num, \" is Palindrome\")\n",
    "else:\n",
    "   print(num, \"is not a Palindrome\")"
   ]
  },
  {
   "cell_type": "code",
   "execution_count": 146,
   "id": "a4a8ad95",
   "metadata": {},
   "outputs": [
    {
     "name": "stdout",
     "output_type": "stream",
     "text": [
      "Enter number: 123454321\n",
      "it is a palindrome\n"
     ]
    }
   ],
   "source": [
    "num = input(\"Enter number: \")\n",
    "if num == num[::-1]:\n",
    "    print(\"it is a palindrome\")\n",
    "else:\n",
    "    print(\"not a palindrome\")"
   ]
  },
  {
   "cell_type": "raw",
   "id": "5888acbe",
   "metadata": {},
   "source": [
    "Given the participants' score sheet for your University Sports Day, you are required to find the runner-up score. You are given n scores. Store them in a list and find the score of the runner-up.\n",
    "\n",
    "Input The first line contains n. The second line contains an array A[] of n integers each separated by a space.\n",
    "\n",
    "Output Print the runner-up score.\n",
    "\n",
    "Constraints 2 <= n <= 10 -100 <= A[i] <= 100 Input: 5 2 3 6 6 5\n",
    "\n",
    "Output: 5\n",
    "\n",
    "Explanation Given list is [2,3,6,6,5]. The maximum score is 6, second maximum is 5. Hence, we print 5 as the runner-up score."
   ]
  },
  {
   "cell_type": "code",
   "execution_count": 4,
   "id": "3b46bd44",
   "metadata": {},
   "outputs": [
    {
     "name": "stdout",
     "output_type": "stream",
     "text": [
      "6\n",
      "1 2 3 4 5 6\n",
      "5\n"
     ]
    }
   ],
   "source": [
    "n = int(input())\n",
    "arr = list(map(int,input().split()))\n",
    "print(sorted(list(set(arr)))[-2])"
   ]
  },
  {
   "cell_type": "code",
   "execution_count": 14,
   "id": "25b3938f",
   "metadata": {},
   "outputs": [
    {
     "data": {
      "text/plain": [
       "[1, 2, 3, 5, 5, 6, 6]"
      ]
     },
     "execution_count": 14,
     "metadata": {},
     "output_type": "execute_result"
    }
   ],
   "source": [
    "list(arr)"
   ]
  },
  {
   "cell_type": "code",
   "execution_count": 16,
   "id": "0635e2d2",
   "metadata": {},
   "outputs": [],
   "source": [
    "x = set(arr)"
   ]
  },
  {
   "cell_type": "code",
   "execution_count": 17,
   "id": "e5124c44",
   "metadata": {},
   "outputs": [
    {
     "data": {
      "text/plain": [
       "{1, 2, 3, 5, 6}"
      ]
     },
     "execution_count": 17,
     "metadata": {},
     "output_type": "execute_result"
    }
   ],
   "source": [
    "x"
   ]
  },
  {
   "cell_type": "code",
   "execution_count": 18,
   "id": "af317864",
   "metadata": {},
   "outputs": [
    {
     "data": {
      "text/plain": [
       "5"
      ]
     },
     "execution_count": 18,
     "metadata": {},
     "output_type": "execute_result"
    }
   ],
   "source": [
    "sorted(list(x))[-2]"
   ]
  },
  {
   "cell_type": "code",
   "execution_count": 15,
   "id": "d1a004dd",
   "metadata": {},
   "outputs": [
    {
     "name": "stdout",
     "output_type": "stream",
     "text": [
      "6\n"
     ]
    }
   ],
   "source": [
    "y = sorted(list(arr))[-2]\n",
    "print(y)"
   ]
  },
  {
   "cell_type": "raw",
   "id": "6e27011f",
   "metadata": {},
   "source": [
    "# syntax for sorted\n",
    "\n",
    "sorted(iterable, [reverse = Ture])"
   ]
  },
  {
   "cell_type": "code",
   "execution_count": 20,
   "id": "64b39ac9",
   "metadata": {},
   "outputs": [
    {
     "name": "stdout",
     "output_type": "stream",
     "text": [
      "[1, 2, 3, 4, 5, 6]\n"
     ]
    }
   ],
   "source": [
    "a = (1,2,5,4,6,3)\n",
    "b = sorted(a)\n",
    "print(b)"
   ]
  },
  {
   "cell_type": "code",
   "execution_count": 22,
   "id": "910ef11a",
   "metadata": {},
   "outputs": [
    {
     "name": "stdout",
     "output_type": "stream",
     "text": [
      "[6, 5, 4, 3, 2, 1]\n",
      "<class 'list'>\n"
     ]
    }
   ],
   "source": [
    "a = (1,2,5,4,6,3)\n",
    "b = sorted(a, reverse = True)\n",
    "print(b)\n",
    "print(type(b))"
   ]
  },
  {
   "cell_type": "markdown",
   "id": "2612c948",
   "metadata": {},
   "source": [
    "inversion Count for an array indicates – how far (or close) the array is from being sorted. If the array is already sorted, then the inversion count is 0, but if the array is sorted in the reverse order, the inversion count is the maximum. \n",
    "Formally speaking, two elements a[i] and a[j] form an inversion if a[i] > a[j] and i < j \n",
    "Example: \n",
    "\n",
    "Input: arr[] = {8, 4, 2, 1}\n",
    "Output: 6\n",
    "Explanation: Given array has six inversions:\n",
    "(8, 4), (4, 2), (8, 2), (8, 1), (4, 1), (2, 1).\n",
    "\n",
    "Input: arr[] = {3, 1, 2}\n",
    "Output: 2\n",
    "Explanation: Given array has two inversions:\n",
    "(3, 1), (3, 2) "
   ]
  },
  {
   "cell_type": "code",
   "execution_count": 6,
   "id": "7e6403d0",
   "metadata": {},
   "outputs": [],
   "source": [
    "# Write a function to count Inversions in an array\n",
    "\n",
    "\n",
    "# input arr[] = {8,4,2,1}\n",
    "# output = 6\n",
    "\n",
    "# input arr[] = {3,1,2}\n",
    "# output = 2\n",
    "\n",
    "def inv_count(arr,n):\n",
    "    count = 0\n",
    "    for i in range(n):\n",
    "        for j in range(i+1,n):\n",
    "            if(arr[i]>arr[j]):\n",
    "                count = count+1\n",
    "    return count\n",
    "            "
   ]
  },
  {
   "cell_type": "code",
   "execution_count": 7,
   "id": "5aed12aa",
   "metadata": {},
   "outputs": [
    {
     "name": "stdout",
     "output_type": "stream",
     "text": [
      "Inversion count is :  2\n"
     ]
    }
   ],
   "source": [
    "arr = [3,1,2]\n",
    "n = len(arr)\n",
    "print(\"Inversion count is : \", inv_count(arr,n))"
   ]
  },
  {
   "cell_type": "markdown",
   "id": "099612b3",
   "metadata": {},
   "source": [
    "# Python Class and Object \n",
    "\n",
    "Python is an object oriented programming language.\n",
    "\n",
    "Almost everything in Python is an object, with its properties and methods.\n",
    "\n",
    "A Class is like an object constructor, or a \"blueprint\" for creating objects.\n",
    "\n",
    "Object is anything in the real world that has some unique characteristics.It has state and behavior. eg: Mouse, keyboard, chair, table, etc\n",
    "\n",
    "Class is a collection of objects. It is a logical entity that has some specific attributes and methods. eg: If you have a student class, then it should contain an attribute and method viz name, standard, age, etc\n",
    "\n",
    "Inheritance means one object acquires properties and behavior of the parent object.\n",
    "\n",
    "The new class is known as the Derived class or Child class.\n",
    "\n",
    "And from which inherited the properties is called as Base class or Parent class.\n",
    "\n",
    "Inheritance provides reusability of the code.\n",
    "\n",
    "Method Overiding\n",
    "\n",
    "Polymorphism: one object many forms.\n",
    "\n",
    "Data Abstraction/Data Hiding\n",
    "\n",
    "Data Encapsulation/ Data Binding"
   ]
  },
  {
   "cell_type": "raw",
   "id": "81548f47",
   "metadata": {},
   "source": [
    "# syntax of class\n",
    "\n",
    "class class_name:\n",
    "    stmnt1\n",
    "    stmnt2\n",
    "    stmnt3"
   ]
  },
  {
   "cell_type": "code",
   "execution_count": 29,
   "id": "3f928c36",
   "metadata": {},
   "outputs": [
    {
     "name": "stdout",
     "output_type": "stream",
     "text": [
      "<class 'list'>\n"
     ]
    }
   ],
   "source": [
    "a = [1,2,3,4,5]\n",
    "print(type(a))"
   ]
  },
  {
   "cell_type": "code",
   "execution_count": 27,
   "id": "2d31f229",
   "metadata": {},
   "outputs": [],
   "source": [
    "class college:\n",
    "    Name = ''\n",
    "    Marks = 0\n",
    "    Gender = ''"
   ]
  },
  {
   "cell_type": "code",
   "execution_count": 28,
   "id": "9bd49f32",
   "metadata": {},
   "outputs": [
    {
     "name": "stdout",
     "output_type": "stream",
     "text": [
      "<class '__main__.college'>\n"
     ]
    }
   ],
   "source": [
    "s1 = college()\n",
    "print(type(s1))"
   ]
  },
  {
   "cell_type": "code",
   "execution_count": 30,
   "id": "2cd174cb",
   "metadata": {},
   "outputs": [],
   "source": [
    "s1 = college()\n",
    "s1.Name = \"Mike\"\n",
    "s1.Marks = 90\n",
    "s1.Gender = \"M\"\n",
    "\n"
   ]
  },
  {
   "cell_type": "code",
   "execution_count": 31,
   "id": "195c6a17",
   "metadata": {},
   "outputs": [
    {
     "name": "stdout",
     "output_type": "stream",
     "text": [
      "Mike 90 M\n"
     ]
    }
   ],
   "source": [
    "print(s1.Name,s1.Marks,s1.Gender)"
   ]
  },
  {
   "cell_type": "code",
   "execution_count": 34,
   "id": "c0e91544",
   "metadata": {},
   "outputs": [],
   "source": [
    "s2 = college()\n",
    "s2.Name = \"Adrain\"\n",
    "s2.Marks = 46\n",
    "s2.Gender = \"M\""
   ]
  },
  {
   "cell_type": "code",
   "execution_count": 35,
   "id": "2a3355a6",
   "metadata": {},
   "outputs": [
    {
     "name": "stdout",
     "output_type": "stream",
     "text": [
      "Adrain 46 M\n"
     ]
    }
   ],
   "source": [
    "print(s2.Name,s2.Marks,s2.Gender)"
   ]
  },
  {
   "cell_type": "markdown",
   "id": "089b632a",
   "metadata": {},
   "source": [
    "# Self Attribute\n",
    "\n",
    "> the first attribute of every class method is always a referece to the current instance of the class\n",
    "\n",
    "> by convetion, this argument is names as self\n",
    "\n",
    "> self is not a reserved keyword.\n",
    "\n",
    "> remember that writing self as the first attribute as a syntax"
   ]
  },
  {
   "cell_type": "code",
   "execution_count": 8,
   "id": "1117227a",
   "metadata": {},
   "outputs": [],
   "source": [
    "class xyz:\n",
    "    def abc(self,n):\n",
    "        print(\"Hello i am class\", n)"
   ]
  },
  {
   "cell_type": "code",
   "execution_count": 9,
   "id": "0ffbe8d1",
   "metadata": {},
   "outputs": [],
   "source": [
    "s = xyz()"
   ]
  },
  {
   "cell_type": "code",
   "execution_count": 10,
   "id": "484b41e0",
   "metadata": {},
   "outputs": [
    {
     "name": "stdout",
     "output_type": "stream",
     "text": [
      "Hello i am class college dunia\n"
     ]
    }
   ],
   "source": [
    "s.abc(\"college dunia\")"
   ]
  },
  {
   "cell_type": "code",
   "execution_count": 39,
   "id": "d013f2c5",
   "metadata": {},
   "outputs": [],
   "source": [
    "def abc(n):\n",
    "    print(\"Hello i am class\", n)"
   ]
  },
  {
   "cell_type": "code",
   "execution_count": 40,
   "id": "dafc65fb",
   "metadata": {},
   "outputs": [
    {
     "name": "stdout",
     "output_type": "stream",
     "text": [
      "Hello i am class college dunia\n"
     ]
    }
   ],
   "source": [
    "abc(\"college dunia\")"
   ]
  },
  {
   "cell_type": "code",
   "execution_count": 12,
   "id": "7bfe1ab9",
   "metadata": {},
   "outputs": [],
   "source": [
    "class xyz:\n",
    "    def abc(self,n):\n",
    "        n = n+1\n",
    "        print(n)\n",
    "        "
   ]
  },
  {
   "cell_type": "code",
   "execution_count": 13,
   "id": "ebcead4c",
   "metadata": {},
   "outputs": [
    {
     "name": "stdout",
     "output_type": "stream",
     "text": [
      "101\n"
     ]
    }
   ],
   "source": [
    "s = xyz()#object creation\n",
    "s.abc(100)"
   ]
  },
  {
   "cell_type": "markdown",
   "id": "7c3c167f",
   "metadata": {},
   "source": [
    "# Inheritance :\n",
    "\n",
    "> Inhereitance will have a base class and a derived class\n",
    "\n",
    "> Animal is base class and Dog is derived class\n",
    "\n",
    "1. Single Inheritance\n",
    "\n",
    "2. Multiple Inheritance\n",
    "\n",
    "3. Multilevel Inheritance"
   ]
  },
  {
   "cell_type": "code",
   "execution_count": 6,
   "id": "29c9e388",
   "metadata": {},
   "outputs": [],
   "source": [
    "# single inheritance\n",
    "\n",
    "class father:\n",
    "    def s1(self):\n",
    "        print(\"I am base class\")\n",
    "        \n",
    "class son(father):\n",
    "    def s2(self):\n",
    "        print(\"I am derived class\")"
   ]
  },
  {
   "cell_type": "code",
   "execution_count": 7,
   "id": "97d20aff",
   "metadata": {},
   "outputs": [
    {
     "name": "stdout",
     "output_type": "stream",
     "text": [
      "I am base class\n",
      "I am derived class\n"
     ]
    }
   ],
   "source": [
    "o = son()\n",
    "o.s1()\n",
    "o.s2()"
   ]
  },
  {
   "cell_type": "code",
   "execution_count": 9,
   "id": "5d2b93e7",
   "metadata": {},
   "outputs": [],
   "source": [
    "class animal:\n",
    "    def afunc(self):\n",
    "        print(\"i m in animal class\")\n",
    "        \n",
    "class cat(animal):\n",
    "    def cfunc(self):\n",
    "        print(\" im in cat class\")"
   ]
  },
  {
   "cell_type": "code",
   "execution_count": 12,
   "id": "7f2cf58a",
   "metadata": {},
   "outputs": [
    {
     "name": "stdout",
     "output_type": "stream",
     "text": [
      "i m in animal class\n",
      "i m in animal class\n",
      " im in cat class\n"
     ]
    },
    {
     "ename": "AttributeError",
     "evalue": "'animal' object has no attribute 'cfunc'",
     "output_type": "error",
     "traceback": [
      "\u001b[1;31m---------------------------------------------------------------------------\u001b[0m",
      "\u001b[1;31mAttributeError\u001b[0m                            Traceback (most recent call last)",
      "\u001b[1;32m~\\AppData\\Local\\Temp\\ipykernel_9988\\2274303880.py\u001b[0m in \u001b[0;36m<module>\u001b[1;34m\u001b[0m\n\u001b[0;32m      4\u001b[0m \u001b[0mc\u001b[0m\u001b[1;33m.\u001b[0m\u001b[0mafunc\u001b[0m\u001b[1;33m(\u001b[0m\u001b[1;33m)\u001b[0m\u001b[1;33m\u001b[0m\u001b[1;33m\u001b[0m\u001b[0m\n\u001b[0;32m      5\u001b[0m \u001b[0mc\u001b[0m\u001b[1;33m.\u001b[0m\u001b[0mcfunc\u001b[0m\u001b[1;33m(\u001b[0m\u001b[1;33m)\u001b[0m\u001b[1;33m\u001b[0m\u001b[1;33m\u001b[0m\u001b[0m\n\u001b[1;32m----> 6\u001b[1;33m \u001b[0ma\u001b[0m\u001b[1;33m.\u001b[0m\u001b[0mcfunc\u001b[0m\u001b[1;33m(\u001b[0m\u001b[1;33m)\u001b[0m\u001b[1;33m\u001b[0m\u001b[1;33m\u001b[0m\u001b[0m\n\u001b[0m",
      "\u001b[1;31mAttributeError\u001b[0m: 'animal' object has no attribute 'cfunc'"
     ]
    }
   ],
   "source": [
    "a=animal()\n",
    "c=cat()\n",
    "a.afunc()\n",
    "c.afunc()\n",
    "c.cfunc()\n",
    "a.cfunc()\n"
   ]
  },
  {
   "cell_type": "code",
   "execution_count": 25,
   "id": "f33e8fb6",
   "metadata": {},
   "outputs": [
    {
     "name": "stdout",
     "output_type": "stream",
     "text": [
      "I am base class\n"
     ]
    },
    {
     "ename": "AttributeError",
     "evalue": "'father' object has no attribute 's2'",
     "output_type": "error",
     "traceback": [
      "\u001b[1;31m---------------------------------------------------------------------------\u001b[0m",
      "\u001b[1;31mAttributeError\u001b[0m                            Traceback (most recent call last)",
      "\u001b[1;32m~\\AppData\\Local\\Temp\\ipykernel_1756\\2217809120.py\u001b[0m in \u001b[0;36m<module>\u001b[1;34m\u001b[0m\n\u001b[0;32m      1\u001b[0m \u001b[0mf\u001b[0m \u001b[1;33m=\u001b[0m \u001b[0mfather\u001b[0m\u001b[1;33m(\u001b[0m\u001b[1;33m)\u001b[0m\u001b[1;33m\u001b[0m\u001b[1;33m\u001b[0m\u001b[0m\n\u001b[0;32m      2\u001b[0m \u001b[0mf\u001b[0m\u001b[1;33m.\u001b[0m\u001b[0ms1\u001b[0m\u001b[1;33m(\u001b[0m\u001b[1;33m)\u001b[0m\u001b[1;33m\u001b[0m\u001b[1;33m\u001b[0m\u001b[0m\n\u001b[1;32m----> 3\u001b[1;33m \u001b[0mf\u001b[0m\u001b[1;33m.\u001b[0m\u001b[0ms2\u001b[0m\u001b[1;33m(\u001b[0m\u001b[1;33m)\u001b[0m\u001b[1;33m\u001b[0m\u001b[1;33m\u001b[0m\u001b[0m\n\u001b[0m",
      "\u001b[1;31mAttributeError\u001b[0m: 'father' object has no attribute 's2'"
     ]
    }
   ],
   "source": [
    "f = father()\n",
    "f.s1()\n",
    "f.s2()"
   ]
  },
  {
   "cell_type": "code",
   "execution_count": 26,
   "id": "f2af5954",
   "metadata": {},
   "outputs": [],
   "source": [
    "# Multiple Inheritance\n",
    "\n",
    "class st1: # father\n",
    "    def num1(self):\n",
    "        self.n1 = 7\n",
    "        print(\"num1\",self.n1)\n",
    "        \n",
    "class st2: # mother\n",
    "    def num2(self):\n",
    "        self.n2 = 10\n",
    "        print(\"num2:\", self.n2)\n",
    "        \n",
    "class st(st1,st2): # son/daughter\n",
    "    def add(self):\n",
    "        return self.n1+self.n2"
   ]
  },
  {
   "cell_type": "code",
   "execution_count": 27,
   "id": "984fb2ca",
   "metadata": {},
   "outputs": [
    {
     "name": "stdout",
     "output_type": "stream",
     "text": [
      "num1 7\n",
      "num2: 10\n"
     ]
    },
    {
     "data": {
      "text/plain": [
       "17"
      ]
     },
     "execution_count": 27,
     "metadata": {},
     "output_type": "execute_result"
    }
   ],
   "source": [
    "s = st()\n",
    "s.num1()\n",
    "s.num2()\n",
    "s.add()"
   ]
  },
  {
   "cell_type": "code",
   "execution_count": 28,
   "id": "08fd80a7",
   "metadata": {},
   "outputs": [
    {
     "ename": "AttributeError",
     "evalue": "'st1' object has no attribute 'add'",
     "output_type": "error",
     "traceback": [
      "\u001b[1;31m---------------------------------------------------------------------------\u001b[0m",
      "\u001b[1;31mAttributeError\u001b[0m                            Traceback (most recent call last)",
      "\u001b[1;32m~\\AppData\\Local\\Temp\\ipykernel_1756\\529732062.py\u001b[0m in \u001b[0;36m<module>\u001b[1;34m\u001b[0m\n\u001b[0;32m      1\u001b[0m \u001b[0my\u001b[0m \u001b[1;33m=\u001b[0m \u001b[0mst1\u001b[0m\u001b[1;33m(\u001b[0m\u001b[1;33m)\u001b[0m\u001b[1;33m\u001b[0m\u001b[1;33m\u001b[0m\u001b[0m\n\u001b[1;32m----> 2\u001b[1;33m \u001b[0my\u001b[0m\u001b[1;33m.\u001b[0m\u001b[0madd\u001b[0m\u001b[1;33m(\u001b[0m\u001b[1;33m)\u001b[0m\u001b[1;33m\u001b[0m\u001b[1;33m\u001b[0m\u001b[0m\n\u001b[0m",
      "\u001b[1;31mAttributeError\u001b[0m: 'st1' object has no attribute 'add'"
     ]
    }
   ],
   "source": [
    "y = st1()\n",
    "y.add()"
   ]
  },
  {
   "cell_type": "markdown",
   "id": "6587e171",
   "metadata": {},
   "source": [
    "# Method overriding\n",
    "\n",
    "> Method overriding is an ability of any object - oriented programming language that allows a subclass or child class to provide a specfic implementation of a method that is already provided by one of it super class or parent class"
   ]
  },
  {
   "cell_type": "code",
   "execution_count": 56,
   "id": "91cb660e",
   "metadata": {},
   "outputs": [],
   "source": [
    "class T:\n",
    "    def show(self):\n",
    "        print(\"base class method called\")\n",
    "        \n",
    "class S(T):\n",
    "    def sme(self):\n",
    "        print(\"Derived class method called\")\n",
    "        \n",
    "        "
   ]
  },
  {
   "cell_type": "code",
   "execution_count": 57,
   "id": "bd449be1",
   "metadata": {},
   "outputs": [
    {
     "name": "stdout",
     "output_type": "stream",
     "text": [
      "Derived class method called\n"
     ]
    }
   ],
   "source": [
    "class T:\n",
    "    def show(self):\n",
    "        print(\"base class method called\")\n",
    "        \n",
    "class S(T):\n",
    "    def show(self):\n",
    "        print(\"Derived class method called\")\n",
    "        \n",
    "        \n",
    "V = S()\n",
    "V.show()"
   ]
  },
  {
   "cell_type": "raw",
   "id": "cd902d05",
   "metadata": {},
   "source": [
    "Create a Parent class 'Bottle' and instantiate it with the 'color' argument. Then create a child class 'material', in that class create a method 'materials'. The 'materials' method has an argument 'mat_1'. and print the statement as 'The material of the bottle is [mat_1] and the color is [color].'\n",
    "\n",
    "Call the child class and insert the arguments.\n",
    "\n",
    "Input\n",
    "The first line of the input is the material name\n",
    "\n",
    "The second line of the input is the name of the color\n",
    "Output\n",
    "Print the sentence: 'The material of the bottle is [mat_1] and the color is [color].'\n",
    "Example\n",
    "Input\n",
    "plastic\n",
    "\n",
    "pink\n",
    "\n",
    "Output\n",
    "The material of the bottle is plastic and the color is pink."
   ]
  },
  {
   "cell_type": "code",
   "execution_count": 39,
   "id": "cdfbcfac",
   "metadata": {},
   "outputs": [],
   "source": [
    "class Bottle:\n",
    "    def show(self,clor):\n",
    "        print(\"base class method called\")\n",
    "        \n",
    "class Material(Bottle):\n",
    "    def materials(self, mat_1,clor):\n",
    "        print(\"The material of the bottle is \", mat_1, \"and the color is \", clor)\n",
    "   "
   ]
  },
  {
   "cell_type": "code",
   "execution_count": 42,
   "id": "0479b7b7",
   "metadata": {},
   "outputs": [
    {
     "name": "stdout",
     "output_type": "stream",
     "text": [
      "base class method called\n",
      "The material of the bottle is  Plastic and the color is  pink\n"
     ]
    }
   ],
   "source": [
    "M=Material()\n",
    "M.show(\"Pink\")\n",
    "M.materials(\"Plastic\",\"pink\")"
   ]
  },
  {
   "cell_type": "code",
   "execution_count": 33,
   "id": "564354f7",
   "metadata": {},
   "outputs": [
    {
     "name": "stdout",
     "output_type": "stream",
     "text": [
      "[[1 1 1 1 1]\n",
      " [1 0 0 0 1]\n",
      " [1 0 4 0 1]\n",
      " [1 0 0 0 1]\n",
      " [1 1 1 1 1]]\n"
     ]
    }
   ],
   "source": [
    "import numpy as np\n",
    "a=np.array([[1,1,1,1,1],[1,0,0,0,1],[1,0,4,0,1],[1,0,0,0,1],[1,1,1,1,1]])\n",
    "print(a)"
   ]
  },
  {
   "cell_type": "code",
   "execution_count": null,
   "id": "48362091",
   "metadata": {},
   "outputs": [],
   "source": []
  }
 ],
 "metadata": {
  "kernelspec": {
   "display_name": "Python 3 (ipykernel)",
   "language": "python",
   "name": "python3"
  },
  "language_info": {
   "codemirror_mode": {
    "name": "ipython",
    "version": 3
   },
   "file_extension": ".py",
   "mimetype": "text/x-python",
   "name": "python",
   "nbconvert_exporter": "python",
   "pygments_lexer": "ipython3",
   "version": "3.9.13"
  }
 },
 "nbformat": 4,
 "nbformat_minor": 5
}
