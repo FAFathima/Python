{
 "cells": [
  {
   "cell_type": "markdown",
   "id": "963ba48c",
   "metadata": {},
   "source": [
    "# Numpy is the backbone of Machine Learning in python."
   ]
  },
  {
   "cell_type": "markdown",
   "id": "3d577029",
   "metadata": {},
   "source": [
    "It is one of the most important libraries in python for numerical computation. Numpy is a Python library used for working with arrays\n",
    "\n",
    "In Python we have lists that serve the purpose of arrays, but they are slow to process.\n",
    "\n",
    "NumPy aims to provide an array object that is up to 50x faster than traditional Python lists.\n",
    "\n",
    "It supports fast vectorized operation.\n",
    "\n",
    "they are array . Array stores the value of same data type\n",
    "\n",
    "Numpy module consists of 2 parts:\n",
    "\n",
    "ndarray : n-dimensional array\n",
    "\n",
    "ufunc : Universal functions\n",
    "\n",
    "Ufunc stands for Universal Functions. It is a function that operates on arrays in an element-wise manner. Ufuncs are extremely useful for performing operations on arrays, as they offer the following benefits:\n",
    "Automatic vectorization: Ufuncs automatically vectorize operations, which means that they can operate on entire arrays at once, rather than having to iterate over each element individually. This can result in significant performance improvements.\n",
    "Broadcasting: Ufuncs support broadcasting, which allows them to operate on arrays of different shapes. This is particularly useful when working with data from different sources, which may not be in the same format.\n",
    "Type casting: Ufuncs can automatically cast arrays to the appropriate data type, which can save you from having to do this manually.\n",
    "Here are some examples of ufuncs:\n",
    "Arithmetic operations: addition, subtraction, multiplication, division, etc.\n",
    "Mathematical functions: sine, cosine, exponential, etc.\n",
    "Logical operations: AND, OR, NOT, etc.\n",
    "Comparison operations: equal, not equal, greater than, less than, etc.\n",
    "Statistical functions: mean, median, standard deviation, etc.\n",
    "Ufuncs can be used in a variety of ways. For example, you can use them to perform calculations on data, filter data, or sort data. You can also use them to create new arrays from existing arrays.\n",
    "To use a ufunc, you simply need to pass the array(s) that you want to operate on to the ufunc function. For example, to add two arrays together, you would use the following code:\n",
    "import numpy as np\n",
    "\n",
    "a = np.array([1, 2, 3])\n",
    "b = np.array([4, 5, 6])\n",
    "\n",
    "c = np.add(a, b)\n",
    "\n",
    "print(c)"
   ]
  },
  {
   "cell_type": "code",
   "execution_count": 2,
   "id": "d849e971",
   "metadata": {},
   "outputs": [
    {
     "name": "stdout",
     "output_type": "stream",
     "text": [
      "[5 7 9]\n"
     ]
    }
   ],
   "source": [
    "import numpy as np\n",
    "a = np.array([1, 2, 3]) \n",
    "b = np.array([4, 5, 6])\n",
    "\n",
    "c = np.add(a, b)\n",
    "\n",
    "print(c)"
   ]
  },
  {
   "cell_type": "code",
   "execution_count": 2,
   "id": "f6e9383f",
   "metadata": {},
   "outputs": [],
   "source": [
    "import numpy as np\n"
   ]
  },
  {
   "cell_type": "code",
   "execution_count": 2,
   "id": "e58ef925",
   "metadata": {},
   "outputs": [],
   "source": [
    "# intilization\n",
    "\n",
    "l = [1,2,3,4]\n",
    "t = (1,2,3,4)\n",
    "s = \"Machine Learning\"\n",
    "Set = {1,2,'a','b'}\n",
    "Dict = {1:'abc',2:'xyz'}"
   ]
  },
  {
   "cell_type": "code",
   "execution_count": 3,
   "id": "25bc0463",
   "metadata": {},
   "outputs": [
    {
     "data": {
      "text/plain": [
       "array([1, 2, 3, 4, 5])"
      ]
     },
     "execution_count": 3,
     "metadata": {},
     "output_type": "execute_result"
    }
   ],
   "source": [
    "arr = np.array([1,2,3,4,5])\n",
    "arr"
   ]
  },
  {
   "cell_type": "code",
   "execution_count": 4,
   "id": "85295f0e",
   "metadata": {},
   "outputs": [
    {
     "data": {
      "text/plain": [
       "numpy.ndarray"
      ]
     },
     "execution_count": 4,
     "metadata": {},
     "output_type": "execute_result"
    }
   ],
   "source": [
    "type(arr)"
   ]
  },
  {
   "cell_type": "code",
   "execution_count": 5,
   "id": "1bfef71b",
   "metadata": {},
   "outputs": [
    {
     "data": {
      "text/plain": [
       "dtype('int32')"
      ]
     },
     "execution_count": 5,
     "metadata": {},
     "output_type": "execute_result"
    }
   ],
   "source": [
    "arr.dtype"
   ]
  },
  {
   "cell_type": "code",
   "execution_count": 7,
   "id": "ed55037a",
   "metadata": {},
   "outputs": [
    {
     "name": "stdout",
     "output_type": "stream",
     "text": [
      "['1' '2' '3' '4' '5']\n",
      "<class 'numpy.ndarray'>\n",
      "<U1\n"
     ]
    }
   ],
   "source": [
    "arr = np.array([1,2,3,4,5], dtype = 'str')\n",
    "print(arr)\n",
    "print(type(arr))\n",
    "print(arr.dtype)"
   ]
  },
  {
   "cell_type": "code",
   "execution_count": 8,
   "id": "15ac366e",
   "metadata": {},
   "outputs": [
    {
     "name": "stdout",
     "output_type": "stream",
     "text": [
      "[1. 2. 3. 4. 5.]\n",
      "<class 'numpy.ndarray'>\n",
      "float64\n"
     ]
    }
   ],
   "source": [
    "arr = np.array([1,2,3,4,5], dtype = 'float')\n",
    "print(arr)\n",
    "print(type(arr))\n",
    "print(arr.dtype)"
   ]
  },
  {
   "cell_type": "code",
   "execution_count": 10,
   "id": "77077e4e",
   "metadata": {},
   "outputs": [
    {
     "name": "stdout",
     "output_type": "stream",
     "text": [
      "[1 2 3 4 5]\n",
      "<class 'numpy.ndarray'>\n",
      "int32\n"
     ]
    }
   ],
   "source": [
    "arr = np.array([1,2,3,4.5,5], dtype = 'int')\n",
    "print(arr)\n",
    "print(type(arr))\n",
    "print(arr.dtype)"
   ]
  },
  {
   "cell_type": "code",
   "execution_count": 11,
   "id": "f5a1cc41",
   "metadata": {},
   "outputs": [
    {
     "data": {
      "text/plain": [
       "4"
      ]
     },
     "execution_count": 11,
     "metadata": {},
     "output_type": "execute_result"
    }
   ],
   "source": [
    "arr.itemsize # this  take 4 byte of space"
   ]
  },
  {
   "cell_type": "code",
   "execution_count": 12,
   "id": "692b427b",
   "metadata": {},
   "outputs": [
    {
     "data": {
      "text/plain": [
       "5"
      ]
     },
     "execution_count": 12,
     "metadata": {},
     "output_type": "execute_result"
    }
   ],
   "source": [
    "arr.size # no. of items in an array"
   ]
  },
  {
   "cell_type": "code",
   "execution_count": 13,
   "id": "0d3595f8",
   "metadata": {},
   "outputs": [
    {
     "name": "stdout",
     "output_type": "stream",
     "text": [
      "20\n"
     ]
    }
   ],
   "source": [
    "print(arr.size*arr.itemsize)"
   ]
  },
  {
   "cell_type": "code",
   "execution_count": 14,
   "id": "1033544c",
   "metadata": {},
   "outputs": [
    {
     "name": "stdout",
     "output_type": "stream",
     "text": [
      "20\n"
     ]
    }
   ],
   "source": [
    "print(arr.nbytes)"
   ]
  },
  {
   "cell_type": "code",
   "execution_count": 19,
   "id": "30a35e99",
   "metadata": {},
   "outputs": [
    {
     "name": "stdout",
     "output_type": "stream",
     "text": [
      "[1.  3.  4.  5.5]\n",
      "<class 'numpy.ndarray'>\n",
      "float64\n"
     ]
    }
   ],
   "source": [
    "arr = np.array([1,3,4,5.5])\n",
    "print(arr)\n",
    "print(type(arr))\n",
    "print(arr.dtype)"
   ]
  },
  {
   "cell_type": "code",
   "execution_count": 20,
   "id": "3a0a43ef",
   "metadata": {},
   "outputs": [
    {
     "name": "stdout",
     "output_type": "stream",
     "text": [
      "['1' '3' '4' '5.5']\n",
      "<class 'numpy.ndarray'>\n",
      "<U32\n"
     ]
    }
   ],
   "source": [
    "arr = np.array([1,3,'4',5.5])\n",
    "print(arr)\n",
    "print(type(arr))\n",
    "print(arr.dtype)"
   ]
  },
  {
   "cell_type": "code",
   "execution_count": 21,
   "id": "d44404cc",
   "metadata": {},
   "outputs": [
    {
     "name": "stdout",
     "output_type": "stream",
     "text": [
      "[1. +0.j 3. +0.j 4. +5.j 5.5+0.j]\n",
      "<class 'numpy.ndarray'>\n",
      "complex128\n"
     ]
    }
   ],
   "source": [
    "arr = np.array([1,3,4+5j,5.5])\n",
    "print(arr)\n",
    "print(type(arr))\n",
    "print(arr.dtype)"
   ]
  },
  {
   "cell_type": "code",
   "execution_count": 5,
   "id": "21fa2bc3",
   "metadata": {},
   "outputs": [
    {
     "name": "stdout",
     "output_type": "stream",
     "text": [
      "[1 3 4 5 6 0 0]\n",
      "19\n",
      "2.7142857142857144\n",
      "0\n",
      "6\n",
      "3.0\n",
      "0.5\n",
      "3.0\n",
      "5\n",
      "3\n",
      "6\n",
      "[3 5 6 7 8 2 2]\n",
      "[-1  1  2  3  4 -2 -2]\n",
      "[ 2  6  8 10 12  0  0]\n",
      "[ 1  9 16 25 36  0  0]\n",
      "[ 0.84147098  0.14112001 -0.7568025  -0.95892427 -0.2794155   0.\n",
      "  0.        ]\n",
      "[ 0.54030231 -0.9899925  -0.65364362  0.28366219  0.96017029  1.\n",
      "  1.        ]\n"
     ]
    }
   ],
   "source": [
    "arr = np.array([1,3,4,5,6,0,0])\n",
    "print(arr)\n",
    "print(np.sum(arr))\n",
    "print(np.mean(arr)) # average\n",
    "print(np.min(arr))\n",
    "print(np.max(arr))\n",
    "print(np.median(arr)) #  0 0 1 3 4 5 6\n",
    "print(np.quantile(arr,0.25))\n",
    "print(np.quantile(arr,0.5))\n",
    "print(np.count_nonzero(arr))\n",
    "print(arr[1]) # indexing\n",
    "print(arr[-3]) # reverse indexing\n",
    "print(arr+2) # broadcasting\n",
    "print(arr-2)\n",
    "print(arr*2)\n",
    "print(arr**2)\n",
    "print(np.sin(arr))\n",
    "print(np.cos(arr))\n",
    "\n",
    "\n",
    "# do not use numpy for strings.. numpy primary use is for numericals # Numpy : Numerical Python"
   ]
  },
  {
   "cell_type": "code",
   "execution_count": 6,
   "id": "61273d78",
   "metadata": {},
   "outputs": [
    {
     "name": "stdout",
     "output_type": "stream",
     "text": [
      "3.0\n",
      "6\n",
      "[3 5 6 7 8 2 2]\n",
      "[-1  1  2  3  4 -2 -2]\n",
      "[ 2  6  8 10 12  0  0]\n",
      "[ 1  9 16 25 36  0  0]\n"
     ]
    }
   ],
   "source": [
    "#[1 3 4 5 6 0 0]\n",
    "print(np.median(arr))\n",
    "print(arr[-3]) # reverse indexing\n",
    "print(arr+2) # broadcasting\n",
    "print(arr-2)\n",
    "print(arr*2)\n",
    "print(arr**2)"
   ]
  },
  {
   "cell_type": "code",
   "execution_count": 26,
   "id": "4789cac5",
   "metadata": {},
   "outputs": [
    {
     "data": {
      "text/plain": [
       "(7,)"
      ]
     },
     "execution_count": 26,
     "metadata": {},
     "output_type": "execute_result"
    }
   ],
   "source": [
    "arr = np.array([1,3,4,5,6,0,0])\n",
    "arr.shape"
   ]
  },
  {
   "cell_type": "code",
   "execution_count": 27,
   "id": "d199d1bd",
   "metadata": {},
   "outputs": [
    {
     "name": "stdout",
     "output_type": "stream",
     "text": [
      "[1.+0.j 3.+0.j 4.+0.j 5.+0.j 2.+3.j]\n",
      "(5,)\n",
      "complex128\n"
     ]
    }
   ],
   "source": [
    "arr = np.array( [1,3,4,5, 2+3j] )\n",
    "print(arr)\n",
    "print(arr.shape)\n",
    "print(arr.dtype)"
   ]
  },
  {
   "cell_type": "code",
   "execution_count": 28,
   "id": "965b6cef",
   "metadata": {},
   "outputs": [
    {
     "name": "stdout",
     "output_type": "stream",
     "text": [
      "['1' '3' '4' '5.5' '(2+3j)']\n",
      "(5,)\n",
      "<U64\n"
     ]
    }
   ],
   "source": [
    "arr = np.array( [1,'3',4,5.5, 2+3j] )\n",
    "print(arr)\n",
    "print(arr.shape)\n",
    "print(arr.dtype)"
   ]
  },
  {
   "cell_type": "code",
   "execution_count": 29,
   "id": "40bababa",
   "metadata": {},
   "outputs": [
    {
     "name": "stdout",
     "output_type": "stream",
     "text": [
      "[1. +0.j 3. +0.j 4. +0.j 5.5+0.j 2. +3.j 0. +0.j]\n",
      "(6,)\n",
      "complex128\n"
     ]
    }
   ],
   "source": [
    "arr = np.array( [1,3,4,5.5, 2+3j,False] )\n",
    "print(arr)\n",
    "print(arr.shape)\n",
    "print(arr.dtype)"
   ]
  },
  {
   "cell_type": "code",
   "execution_count": 30,
   "id": "bb753637",
   "metadata": {},
   "outputs": [
    {
     "name": "stdout",
     "output_type": "stream",
     "text": [
      "1\n",
      "<class 'int'>\n"
     ]
    }
   ],
   "source": [
    "t = (1) # even when we enter value inside paranthesis it take the data type as int and not tuple\n",
    "print(t)\n",
    "print(type(t))"
   ]
  },
  {
   "cell_type": "code",
   "execution_count": 7,
   "id": "be82ba89",
   "metadata": {},
   "outputs": [
    {
     "name": "stdout",
     "output_type": "stream",
     "text": [
      "(1,)\n",
      "<class 'tuple'>\n"
     ]
    }
   ],
   "source": [
    "t = (1,) # even when we enter value inside paranthesis it take the data type as int and not tuple, it should be seperated by comma\n",
    "print(t)\n",
    "print(type(t))"
   ]
  },
  {
   "cell_type": "code",
   "execution_count": 10,
   "id": "4a6d36fc",
   "metadata": {},
   "outputs": [
    {
     "name": "stdout",
     "output_type": "stream",
     "text": [
      "2.249716535431946\n"
     ]
    },
    {
     "data": {
      "text/plain": [
       "2.7142857142857144"
      ]
     },
     "execution_count": 10,
     "metadata": {},
     "output_type": "execute_result"
    }
   ],
   "source": [
    "arr = np.array([1,3,4,5,6,0,0])\n",
    "print(np.std(arr))\n",
    "np.mean(arr)"
   ]
  },
  {
   "cell_type": "code",
   "execution_count": null,
   "id": "c84c1c36",
   "metadata": {},
   "outputs": [],
   "source": []
  },
  {
   "cell_type": "markdown",
   "id": "bda7f803",
   "metadata": {},
   "source": [
    "# 2d Array"
   ]
  },
  {
   "cell_type": "code",
   "execution_count": 11,
   "id": "e1d86ed1",
   "metadata": {},
   "outputs": [
    {
     "data": {
      "text/plain": [
       "array([[1, 1, 1],\n",
       "       [2, 2, 2],\n",
       "       [3, 3, 3]])"
      ]
     },
     "execution_count": 11,
     "metadata": {},
     "output_type": "execute_result"
    }
   ],
   "source": [
    "ar = np.array([[1,1,1],[2,2,2],[3,3,3]])\n",
    "ar"
   ]
  },
  {
   "cell_type": "code",
   "execution_count": 16,
   "id": "bc1e9ea6",
   "metadata": {},
   "outputs": [
    {
     "data": {
      "text/plain": [
       "array([[1, 2, 3],\n",
       "       [4, 5, 6],\n",
       "       [7, 8, 9]])"
      ]
     },
     "execution_count": 16,
     "metadata": {},
     "output_type": "execute_result"
    }
   ],
   "source": [
    "arr = np.array([[1,2,3],[4,5,6],[7,8,9]])\n",
    "arr"
   ]
  },
  {
   "cell_type": "code",
   "execution_count": 17,
   "id": "6b124e75",
   "metadata": {},
   "outputs": [
    {
     "data": {
      "text/plain": [
       "array([1, 2, 3])"
      ]
     },
     "execution_count": 17,
     "metadata": {},
     "output_type": "execute_result"
    }
   ],
   "source": [
    "arr[0] # to get specific row"
   ]
  },
  {
   "cell_type": "code",
   "execution_count": 18,
   "id": "0630446d",
   "metadata": {},
   "outputs": [
    {
     "data": {
      "text/plain": [
       "9"
      ]
     },
     "execution_count": 18,
     "metadata": {},
     "output_type": "execute_result"
    }
   ],
   "source": [
    "arr[2][2] # get specific element [r,c]"
   ]
  },
  {
   "cell_type": "code",
   "execution_count": 19,
   "id": "42f9bb70",
   "metadata": {},
   "outputs": [
    {
     "data": {
      "text/plain": [
       "(3, 3)"
      ]
     },
     "execution_count": 19,
     "metadata": {},
     "output_type": "execute_result"
    }
   ],
   "source": [
    "arr.shape"
   ]
  },
  {
   "cell_type": "code",
   "execution_count": 20,
   "id": "eb601142",
   "metadata": {},
   "outputs": [
    {
     "data": {
      "text/plain": [
       "9"
      ]
     },
     "execution_count": 20,
     "metadata": {},
     "output_type": "execute_result"
    }
   ],
   "source": [
    "arr.size\n"
   ]
  },
  {
   "cell_type": "code",
   "execution_count": 26,
   "id": "cf0217cc",
   "metadata": {},
   "outputs": [
    {
     "data": {
      "text/plain": [
       "array([list([1, 2, 3]), list([4, 5, 6]), list([7, 8])], dtype=object)"
      ]
     },
     "execution_count": 26,
     "metadata": {},
     "output_type": "execute_result"
    }
   ],
   "source": [
    "import warnings\n",
    "warnings.filterwarnings(\"ignore\")\n",
    "arr = np.array([[1,2,3],[4,5,6],[7,8]]) # array with missing row value will be treated as list of array\n",
    "arr"
   ]
  },
  {
   "cell_type": "code",
   "execution_count": 28,
   "id": "f4db91b7",
   "metadata": {},
   "outputs": [
    {
     "data": {
      "text/plain": [
       "numpy.ndarray"
      ]
     },
     "execution_count": 28,
     "metadata": {},
     "output_type": "execute_result"
    }
   ],
   "source": [
    "arr = np.array([[1,2,3],[4,5,6],[7,8,0]])\n",
    "arr\n",
    "type(arr)"
   ]
  },
  {
   "cell_type": "code",
   "execution_count": 27,
   "id": "af27792b",
   "metadata": {},
   "outputs": [
    {
     "data": {
      "text/plain": [
       "numpy.ndarray"
      ]
     },
     "execution_count": 27,
     "metadata": {},
     "output_type": "execute_result"
    }
   ],
   "source": [
    "type(arr)"
   ]
  },
  {
   "cell_type": "code",
   "execution_count": 42,
   "id": "829d2340",
   "metadata": {},
   "outputs": [
    {
     "data": {
      "text/plain": [
       "array([[1, 2, 3],\n",
       "       [4, 5, 6],\n",
       "       [7, 8, None]], dtype=object)"
      ]
     },
     "execution_count": 42,
     "metadata": {},
     "output_type": "execute_result"
    }
   ],
   "source": [
    "import warnings\n",
    "warnings.filterwarnings(\"ignore\")\n",
    "arr = np.array([[1,2,3],[4,5,6],[7,8,None]])\n",
    "arr"
   ]
  },
  {
   "cell_type": "code",
   "execution_count": 43,
   "id": "8ac7b55f",
   "metadata": {},
   "outputs": [
    {
     "data": {
      "text/plain": [
       "(3, 3)"
      ]
     },
     "execution_count": 43,
     "metadata": {},
     "output_type": "execute_result"
    }
   ],
   "source": [
    "arr.shape"
   ]
  },
  {
   "cell_type": "code",
   "execution_count": 29,
   "id": "e6511846",
   "metadata": {},
   "outputs": [
    {
     "data": {
      "text/plain": [
       "9"
      ]
     },
     "execution_count": 29,
     "metadata": {},
     "output_type": "execute_result"
    }
   ],
   "source": [
    "arr.size"
   ]
  },
  {
   "cell_type": "code",
   "execution_count": 44,
   "id": "294cc0e4",
   "metadata": {},
   "outputs": [
    {
     "data": {
      "text/plain": [
       "array([[0., 0., 0., 0.],\n",
       "       [0., 0., 0., 0.]])"
      ]
     },
     "execution_count": 44,
     "metadata": {},
     "output_type": "execute_result"
    }
   ],
   "source": [
    "np.zeros((2,4)) # this simple will generate a matrix of 2x4 with zeroes"
   ]
  },
  {
   "cell_type": "code",
   "execution_count": 45,
   "id": "1e605e90",
   "metadata": {
    "scrolled": true
   },
   "outputs": [
    {
     "data": {
      "text/plain": [
       "array([[0., 0., 0., 0., 0.],\n",
       "       [0., 0., 0., 0., 0.],\n",
       "       [0., 0., 0., 0., 0.],\n",
       "       [0., 0., 0., 0., 0.]])"
      ]
     },
     "execution_count": 45,
     "metadata": {},
     "output_type": "execute_result"
    }
   ],
   "source": [
    "np.zeros((4,5)) # 2 D"
   ]
  },
  {
   "cell_type": "code",
   "execution_count": 48,
   "id": "a69d372b",
   "metadata": {},
   "outputs": [
    {
     "data": {
      "text/plain": [
       "2"
      ]
     },
     "execution_count": 48,
     "metadata": {},
     "output_type": "execute_result"
    }
   ],
   "source": [
    "a = np.zeros((4,5))\n",
    "np.ndim(a)"
   ]
  },
  {
   "cell_type": "code",
   "execution_count": 46,
   "id": "2a3d5d13",
   "metadata": {
    "scrolled": true
   },
   "outputs": [
    {
     "data": {
      "text/plain": [
       "array([[[0., 0., 0.],\n",
       "        [0., 0., 0.],\n",
       "        [0., 0., 0.]],\n",
       "\n",
       "       [[0., 0., 0.],\n",
       "        [0., 0., 0.],\n",
       "        [0., 0., 0.]]])"
      ]
     },
     "execution_count": 46,
     "metadata": {},
     "output_type": "execute_result"
    }
   ],
   "source": [
    "np.zeros((2,3,3)) #no. of matrices, r, c"
   ]
  },
  {
   "cell_type": "code",
   "execution_count": 32,
   "id": "985f438b",
   "metadata": {},
   "outputs": [
    {
     "name": "stdout",
     "output_type": "stream",
     "text": [
      "[[[0. 0. 0.]\n",
      "  [0. 0. 0.]]\n",
      "\n",
      " [[0. 0. 0.]\n",
      "  [0. 0. 0.]]\n",
      "\n",
      " [[0. 0. 0.]\n",
      "  [0. 0. 0.]]]\n"
     ]
    },
    {
     "data": {
      "text/plain": [
       "3"
      ]
     },
     "execution_count": 32,
     "metadata": {},
     "output_type": "execute_result"
    }
   ],
   "source": [
    "ar=np.zeros((3,2,3))\n",
    "print(ar)\n",
    "np.ndim(ar)"
   ]
  },
  {
   "cell_type": "code",
   "execution_count": 49,
   "id": "8c4e0b76",
   "metadata": {},
   "outputs": [
    {
     "data": {
      "text/plain": [
       "3"
      ]
     },
     "execution_count": 49,
     "metadata": {},
     "output_type": "execute_result"
    }
   ],
   "source": [
    "a = np.zeros((2,3,3))\n",
    "np.ndim(a)"
   ]
  },
  {
   "cell_type": "code",
   "execution_count": 59,
   "id": "43ec6cb9",
   "metadata": {
    "scrolled": true
   },
   "outputs": [
    {
     "data": {
      "text/plain": [
       "dtype('float64')"
      ]
     },
     "execution_count": 59,
     "metadata": {},
     "output_type": "execute_result"
    }
   ],
   "source": [
    "np.zeros((2,3,3,2)).dtype"
   ]
  },
  {
   "cell_type": "code",
   "execution_count": 35,
   "id": "41642721",
   "metadata": {},
   "outputs": [
    {
     "data": {
      "text/plain": [
       "array([[[[0., 0.],\n",
       "         [0., 0.],\n",
       "         [0., 0.]],\n",
       "\n",
       "        [[0., 0.],\n",
       "         [0., 0.],\n",
       "         [0., 0.]],\n",
       "\n",
       "        [[0., 0.],\n",
       "         [0., 0.],\n",
       "         [0., 0.]]],\n",
       "\n",
       "\n",
       "       [[[0., 0.],\n",
       "         [0., 0.],\n",
       "         [0., 0.]],\n",
       "\n",
       "        [[0., 0.],\n",
       "         [0., 0.],\n",
       "         [0., 0.]],\n",
       "\n",
       "        [[0., 0.],\n",
       "         [0., 0.],\n",
       "         [0., 0.]]]])"
      ]
     },
     "execution_count": 35,
     "metadata": {},
     "output_type": "execute_result"
    }
   ],
   "source": [
    "np.zeros((2,3,3,2)) #no. of matrices, r, c"
   ]
  },
  {
   "cell_type": "code",
   "execution_count": 36,
   "id": "5793a9eb",
   "metadata": {},
   "outputs": [
    {
     "data": {
      "text/plain": [
       "array([[[[0., 0., 0.],\n",
       "         [0., 0., 0.]],\n",
       "\n",
       "        [[0., 0., 0.],\n",
       "         [0., 0., 0.]],\n",
       "\n",
       "        [[0., 0., 0.],\n",
       "         [0., 0., 0.]]],\n",
       "\n",
       "\n",
       "       [[[0., 0., 0.],\n",
       "         [0., 0., 0.]],\n",
       "\n",
       "        [[0., 0., 0.],\n",
       "         [0., 0., 0.]],\n",
       "\n",
       "        [[0., 0., 0.],\n",
       "         [0., 0., 0.]]]])"
      ]
     },
     "execution_count": 36,
     "metadata": {},
     "output_type": "execute_result"
    }
   ],
   "source": [
    "np.zeros((2,3,2,3))"
   ]
  },
  {
   "cell_type": "code",
   "execution_count": 37,
   "id": "63eb8a73",
   "metadata": {},
   "outputs": [
    {
     "data": {
      "text/plain": [
       "array([[[[0., 0.],\n",
       "         [0., 0.]],\n",
       "\n",
       "        [[0., 0.],\n",
       "         [0., 0.]],\n",
       "\n",
       "        [[0., 0.],\n",
       "         [0., 0.]]],\n",
       "\n",
       "\n",
       "       [[[0., 0.],\n",
       "         [0., 0.]],\n",
       "\n",
       "        [[0., 0.],\n",
       "         [0., 0.]],\n",
       "\n",
       "        [[0., 0.],\n",
       "         [0., 0.]]]])"
      ]
     },
     "execution_count": 37,
     "metadata": {},
     "output_type": "execute_result"
    }
   ],
   "source": [
    "np.zeros((2,3,2,2))"
   ]
  },
  {
   "cell_type": "code",
   "execution_count": 50,
   "id": "068e4f8d",
   "metadata": {},
   "outputs": [
    {
     "data": {
      "text/plain": [
       "4"
      ]
     },
     "execution_count": 50,
     "metadata": {},
     "output_type": "execute_result"
    }
   ],
   "source": [
    "a = np.zeros((2,3,3,2))\n",
    "np.ndim(a)"
   ]
  },
  {
   "cell_type": "code",
   "execution_count": 52,
   "id": "c07aa6a7",
   "metadata": {},
   "outputs": [
    {
     "data": {
      "text/plain": [
       "array([[1., 1., 1.],\n",
       "       [1., 1., 1.]])"
      ]
     },
     "execution_count": 52,
     "metadata": {},
     "output_type": "execute_result"
    }
   ],
   "source": [
    "np.ones((2,3))\n"
   ]
  },
  {
   "cell_type": "code",
   "execution_count": 56,
   "id": "e35241c4",
   "metadata": {},
   "outputs": [
    {
     "data": {
      "text/plain": [
       "dtype('float64')"
      ]
     },
     "execution_count": 56,
     "metadata": {},
     "output_type": "execute_result"
    }
   ],
   "source": [
    "np.ones((5,3)).dtype\n"
   ]
  },
  {
   "cell_type": "code",
   "execution_count": 1,
   "id": "4de738cb",
   "metadata": {},
   "outputs": [
    {
     "ename": "NameError",
     "evalue": "name 'np' is not defined",
     "output_type": "error",
     "traceback": [
      "\u001b[1;31m---------------------------------------------------------------------------\u001b[0m",
      "\u001b[1;31mNameError\u001b[0m                                 Traceback (most recent call last)",
      "\u001b[1;32m~\\AppData\\Local\\Temp\\ipykernel_11956\\56742977.py\u001b[0m in \u001b[0;36m<module>\u001b[1;34m\u001b[0m\n\u001b[1;32m----> 1\u001b[1;33m \u001b[0mnp\u001b[0m\u001b[1;33m.\u001b[0m\u001b[0mtwos\u001b[0m\u001b[1;33m(\u001b[0m\u001b[1;33m(\u001b[0m\u001b[1;36m5\u001b[0m\u001b[1;33m,\u001b[0m\u001b[1;36m3\u001b[0m\u001b[1;33m)\u001b[0m\u001b[1;33m)\u001b[0m\u001b[1;33m\u001b[0m\u001b[1;33m\u001b[0m\u001b[0m\n\u001b[0m",
      "\u001b[1;31mNameError\u001b[0m: name 'np' is not defined"
     ]
    }
   ],
   "source": [
    "np.twos((5,3))"
   ]
  },
  {
   "cell_type": "code",
   "execution_count": 58,
   "id": "2dc76c06",
   "metadata": {},
   "outputs": [
    {
     "data": {
      "text/plain": [
       "dtype('float64')"
      ]
     },
     "execution_count": 58,
     "metadata": {},
     "output_type": "execute_result"
    }
   ],
   "source": [
    "np.full((3,3),100.5).dtype"
   ]
  },
  {
   "cell_type": "code",
   "execution_count": 4,
   "id": "81893d08",
   "metadata": {},
   "outputs": [
    {
     "data": {
      "text/plain": [
       "array([[100.5, 100.5, 100.5],\n",
       "       [100.5, 100.5, 100.5],\n",
       "       [100.5, 100.5, 100.5]])"
      ]
     },
     "execution_count": 4,
     "metadata": {},
     "output_type": "execute_result"
    }
   ],
   "source": [
    "np.full((3,3),100.5)\n"
   ]
  },
  {
   "cell_type": "code",
   "execution_count": 5,
   "id": "faf80e4c",
   "metadata": {},
   "outputs": [
    {
     "data": {
      "text/plain": [
       "array([[7, 7, 7, 7],\n",
       "       [7, 7, 7, 7],\n",
       "       [7, 7, 7, 7],\n",
       "       [7, 7, 7, 7]])"
      ]
     },
     "execution_count": 5,
     "metadata": {},
     "output_type": "execute_result"
    }
   ],
   "source": [
    "np.full((4,4),7)"
   ]
  },
  {
   "cell_type": "code",
   "execution_count": 7,
   "id": "7cd809ac",
   "metadata": {},
   "outputs": [
    {
     "name": "stdout",
     "output_type": "stream",
     "text": [
      "[[1 2 3]\n",
      " [4 5 6]\n",
      " [7 8 9]]\n",
      "\n",
      "\n",
      "\n",
      "[[0 0 0]\n",
      " [0 0 0]\n",
      " [0 0 0]]\n",
      "\n",
      "\n",
      "\n",
      "[[1 1 1]\n",
      " [1 1 1]\n",
      " [1 1 1]]\n",
      "\n",
      "\n",
      "\n",
      "[[4 4 4]\n",
      " [4 4 4]\n",
      " [4 4 4]]\n"
     ]
    }
   ],
   "source": [
    "arr = np.array([\n",
    "    [1,2,3],\n",
    "    [4,5,6],\n",
    "    [7,8,9]\n",
    "])\n",
    "\n",
    "print(arr)\n",
    "print(\"\\n\\n\")\n",
    "print(np.zeros_like(arr))\n",
    "\n",
    "\n",
    "print(\"\\n\\n\")\n",
    "print(np.ones_like(arr))\n",
    "\n",
    "\n",
    "print(\"\\n\\n\")\n",
    "print(np.full_like(arr,4))"
   ]
  },
  {
   "cell_type": "code",
   "execution_count": 69,
   "id": "f09f1038",
   "metadata": {},
   "outputs": [
    {
     "data": {
      "text/plain": [
       "array([[1., 0., 0., 0.],\n",
       "       [0., 1., 0., 0.],\n",
       "       [0., 0., 1., 0.],\n",
       "       [0., 0., 0., 1.]])"
      ]
     },
     "execution_count": 69,
     "metadata": {},
     "output_type": "execute_result"
    }
   ],
   "source": [
    "np.identity(4)  # identity matrix will always be a square matrix. numpy.identity() is the better choice for creating identity matrices square"
   ]
  },
  {
   "cell_type": "code",
   "execution_count": 8,
   "id": "245008c1",
   "metadata": {},
   "outputs": [
    {
     "data": {
      "text/plain": [
       "array([[1., 0., 0.],\n",
       "       [0., 1., 0.],\n",
       "       [0., 0., 1.],\n",
       "       [0., 0., 0.]])"
      ]
     },
     "execution_count": 8,
     "metadata": {},
     "output_type": "execute_result"
    }
   ],
   "source": [
    "np.eye(4,3) #numpy.eye() is more flexible and can be used to create non-square matrices or matrices with diagonals other than the main diagonal."
   ]
  },
  {
   "cell_type": "code",
   "execution_count": 4,
   "id": "15772da5",
   "metadata": {},
   "outputs": [
    {
     "name": "stdout",
     "output_type": "stream",
     "text": [
      "[[1 2 3]\n",
      " [1 2 3]\n",
      " [1 2 3]]\n"
     ]
    }
   ],
   "source": [
    "# repeat\n",
    "\n",
    "arr = np.array([[1,2,3]])\n",
    "r1 = np.repeat(arr,3,axis = 0)\n",
    "print(r1)"
   ]
  },
  {
   "cell_type": "code",
   "execution_count": 6,
   "id": "d25ed20e",
   "metadata": {},
   "outputs": [
    {
     "name": "stdout",
     "output_type": "stream",
     "text": [
      "[[1 2 3]\n",
      " [1 2 3]\n",
      " [1 2 3]\n",
      " [1 2 3]]\n"
     ]
    }
   ],
   "source": [
    "arr = np.array([[1,2,3]])\n",
    "r1 = np.repeat(arr,4,axis = 0)\n",
    "print(r1)"
   ]
  },
  {
   "cell_type": "code",
   "execution_count": 75,
   "id": "c753c8ff",
   "metadata": {},
   "outputs": [
    {
     "name": "stdout",
     "output_type": "stream",
     "text": [
      "[[1 1 1 2 2 2 3 3 3]]\n"
     ]
    }
   ],
   "source": [
    "\n",
    "arr = np.array([[1,2,3]])\n",
    "r1 = np.repeat(arr,3,axis = 1)\n",
    "print(r1)"
   ]
  },
  {
   "cell_type": "code",
   "execution_count": 5,
   "id": "1e83d6e2",
   "metadata": {},
   "outputs": [
    {
     "name": "stdout",
     "output_type": "stream",
     "text": [
      "[[1 1 1 1 2 2 2 2 3 3 3 3]]\n"
     ]
    }
   ],
   "source": [
    "rr = np.array([[1,2,3]])\n",
    "r1 = np.repeat(arr,4,axis = 1)\n",
    "print(r1)"
   ]
  },
  {
   "cell_type": "markdown",
   "id": "7d557634",
   "metadata": {},
   "source": [
    "### Random module is present withing Numpy module. Lets see some examples "
   ]
  },
  {
   "cell_type": "code",
   "execution_count": 78,
   "id": "2f14c89d",
   "metadata": {},
   "outputs": [
    {
     "data": {
      "text/plain": [
       "array([[ 0.57060981, -0.02317547,  0.28398765,  0.95083158],\n",
       "       [ 2.19810292, -0.94674642,  0.88922164,  0.02088688],\n",
       "       [-1.62924507,  0.90011783,  0.74596668, -0.0397364 ]])"
      ]
     },
     "execution_count": 78,
     "metadata": {},
     "output_type": "execute_result"
    }
   ],
   "source": [
    "arr= np.random.randn(3,4)\n",
    "arr"
   ]
  },
  {
   "cell_type": "code",
   "execution_count": 81,
   "id": "463671dc",
   "metadata": {},
   "outputs": [
    {
     "data": {
      "text/plain": [
       "array([[-2.13695228, -0.12398871, -0.50757062, ..., -1.46437698,\n",
       "         0.16987943, -0.19422204],\n",
       "       [-1.9327063 , -0.62249653,  0.25168323, ...,  1.08519376,\n",
       "        -0.74354748, -0.02870262],\n",
       "       [-1.71751022, -0.75957638,  0.24212327, ..., -0.81912482,\n",
       "         1.2844321 ,  0.77538018],\n",
       "       ...,\n",
       "       [-0.64545431,  3.08248501,  0.80252188, ..., -1.8805488 ,\n",
       "        -0.19748722,  1.93482575],\n",
       "       [ 0.94057085,  1.51908737, -0.10816169, ..., -0.18296732,\n",
       "         0.9972081 ,  0.81026537],\n",
       "       [-0.50825684,  0.55148854, -0.69132297, ..., -0.34870649,\n",
       "         1.00163989, -2.45337562]])"
      ]
     },
     "execution_count": 81,
     "metadata": {},
     "output_type": "execute_result"
    }
   ],
   "source": [
    "arr= np.random.randn(1000,600)\n",
    "arr"
   ]
  },
  {
   "cell_type": "code",
   "execution_count": 82,
   "id": "98ec76c6",
   "metadata": {},
   "outputs": [
    {
     "data": {
      "image/png": "[encoded data removed]",
      "text/plain": [
       "<Figure size 432x288 with 1 Axes>"
      ]
     },
     "metadata": {
      "needs_background": "light"
     },
     "output_type": "display_data"
    }
   ],
   "source": [
    "import seaborn as sns\n",
    "import matplotlib.pyplot as plt\n",
    "import warnings\n",
    "warnings.filterwarnings(\"ignore\")\n",
    "\n",
    "sns.distplot(arr)\n",
    "plt.show()"
   ]
  },
  {
   "cell_type": "code",
   "execution_count": 83,
   "id": "345a5f92",
   "metadata": {},
   "outputs": [
    {
     "data": {
      "text/plain": [
       "array([[1, 2, 3],\n",
       "       [4, 5, 6],\n",
       "       [8, 9, 7]])"
      ]
     },
     "execution_count": 83,
     "metadata": {},
     "output_type": "execute_result"
    }
   ],
   "source": [
    "# indexing and Slicing\n",
    "arr = np.array( [ [1,2,3] , [4,5,6] , [8,9,7] ] )\n",
    "arr"
   ]
  },
  {
   "cell_type": "code",
   "execution_count": 85,
   "id": "41998405",
   "metadata": {},
   "outputs": [
    {
     "name": "stdout",
     "output_type": "stream",
     "text": [
      "1D/2D 2\n"
     ]
    }
   ],
   "source": [
    "arr.shape\n",
    "print(\"1D/2D\", np.ndim(arr))"
   ]
  },
  {
   "cell_type": "code",
   "execution_count": 86,
   "id": "a92c85b9",
   "metadata": {},
   "outputs": [
    {
     "data": {
      "text/plain": [
       "array([4, 5, 6])"
      ]
     },
     "execution_count": 86,
     "metadata": {},
     "output_type": "execute_result"
    }
   ],
   "source": [
    "arr[1]"
   ]
  },
  {
   "cell_type": "code",
   "execution_count": 87,
   "id": "850024dc",
   "metadata": {},
   "outputs": [
    {
     "data": {
      "text/plain": [
       "4"
      ]
     },
     "execution_count": 87,
     "metadata": {},
     "output_type": "execute_result"
    }
   ],
   "source": [
    "arr[1][0]"
   ]
  },
  {
   "cell_type": "code",
   "execution_count": 88,
   "id": "9a74de23",
   "metadata": {},
   "outputs": [
    {
     "data": {
      "text/plain": [
       "5"
      ]
     },
     "execution_count": 88,
     "metadata": {},
     "output_type": "execute_result"
    }
   ],
   "source": [
    "arr[1][1]"
   ]
  },
  {
   "cell_type": "code",
   "execution_count": 89,
   "id": "d20db72d",
   "metadata": {},
   "outputs": [
    {
     "data": {
      "text/plain": [
       "array([[1, 2, 3],\n",
       "       [4, 5, 6],\n",
       "       [8, 9, 7]])"
      ]
     },
     "execution_count": 89,
     "metadata": {},
     "output_type": "execute_result"
    }
   ],
   "source": [
    "arr[0:3]"
   ]
  },
  {
   "cell_type": "code",
   "execution_count": 97,
   "id": "377e1cab",
   "metadata": {},
   "outputs": [
    {
     "data": {
      "text/plain": [
       "array([[1, 2, 3],\n",
       "       [4, 5, 6]])"
      ]
     },
     "execution_count": 97,
     "metadata": {},
     "output_type": "execute_result"
    }
   ],
   "source": [
    "arr[0:2]"
   ]
  },
  {
   "cell_type": "code",
   "execution_count": 91,
   "id": "e311fa3e",
   "metadata": {},
   "outputs": [
    {
     "data": {
      "text/plain": [
       "array([2, 5, 9])"
      ]
     },
     "execution_count": 91,
     "metadata": {},
     "output_type": "execute_result"
    }
   ],
   "source": [
    "# to get specific column\n",
    "\n",
    "arr[:,1]"
   ]
  },
  {
   "cell_type": "code",
   "execution_count": 92,
   "id": "ae65a908",
   "metadata": {},
   "outputs": [
    {
     "data": {
      "text/plain": [
       "array([3, 6, 7])"
      ]
     },
     "execution_count": 92,
     "metadata": {},
     "output_type": "execute_result"
    }
   ],
   "source": [
    "arr[:,2]"
   ]
  },
  {
   "cell_type": "code",
   "execution_count": 93,
   "id": "03bbac0e",
   "metadata": {},
   "outputs": [
    {
     "data": {
      "text/plain": [
       "array([4, 5, 6])"
      ]
     },
     "execution_count": 93,
     "metadata": {},
     "output_type": "execute_result"
    }
   ],
   "source": [
    "# to get specific column\n",
    "\n",
    "arr[1,:]"
   ]
  },
  {
   "cell_type": "code",
   "execution_count": 94,
   "id": "24312200",
   "metadata": {},
   "outputs": [
    {
     "data": {
      "text/plain": [
       "array([4, 5, 6])"
      ]
     },
     "execution_count": 94,
     "metadata": {},
     "output_type": "execute_result"
    }
   ],
   "source": [
    "arr[1]"
   ]
  },
  {
   "cell_type": "code",
   "execution_count": 95,
   "id": "6f65f0b9",
   "metadata": {},
   "outputs": [
    {
     "name": "stdout",
     "output_type": "stream",
     "text": [
      "[[ 1  2  3  4  5  6  7]\n",
      " [ 8  9 10 11 12 13 14]]\n"
     ]
    }
   ],
   "source": [
    "a = np.array ([[1,2,3,4,5,6,7],[8,9,10,11,12,13,14]])\n",
    "print(a)"
   ]
  },
  {
   "cell_type": "code",
   "execution_count": 100,
   "id": "00bf2f77",
   "metadata": {},
   "outputs": [
    {
     "name": "stdout",
     "output_type": "stream",
     "text": [
      "[2 4 6]\n"
     ]
    }
   ],
   "source": [
    "print(a[0,1:6:2])"
   ]
  },
  {
   "cell_type": "code",
   "execution_count": 101,
   "id": "68710692",
   "metadata": {},
   "outputs": [
    {
     "name": "stdout",
     "output_type": "stream",
     "text": [
      "[2 4 6]\n"
     ]
    }
   ],
   "source": [
    "print(a[0,1:-1:2])"
   ]
  },
  {
   "cell_type": "code",
   "execution_count": 104,
   "id": "da76018b",
   "metadata": {},
   "outputs": [
    {
     "data": {
      "text/plain": [
       "[1, 2, 3, 4]"
      ]
     },
     "execution_count": 104,
     "metadata": {},
     "output_type": "execute_result"
    }
   ],
   "source": [
    "\n",
    "list(range(1,5))"
   ]
  },
  {
   "cell_type": "code",
   "execution_count": 108,
   "id": "9c9fdbb6",
   "metadata": {},
   "outputs": [
    {
     "name": "stdout",
     "output_type": "stream",
     "text": [
      "[[ 1  2  3  4  5  6  7]\n",
      " [ 8  9 10 11 12 13 14]]\n",
      "\n",
      "[[ 1  2  3  4  5  6  7]\n",
      " [ 8  9 10 11 12 20 14]]\n",
      "\n",
      "[[ 1  2  5  4  5  6  7]\n",
      " [ 8  9  5 11 12 20 14]]\n",
      "\n",
      "[[ 1  2  1  4  5  6  7]\n",
      " [ 8  9  2 11 12 20 14]]\n"
     ]
    }
   ],
   "source": [
    "a = np.array ([[1,2,3,4,5,6,7],[8,9,10,11,12,13,14]])\n",
    "print(a)\n",
    "print()\n",
    "a[1,5] = 20 # changing 1 specific element using indexing\n",
    "print(a)\n",
    "print()\n",
    "a[:,2] = [5] # changing multiple elements using slicing\n",
    "print(a)\n",
    "print()\n",
    "a[:,2] = [1,2]\n",
    "print(a)"
   ]
  },
  {
   "cell_type": "code",
   "execution_count": 109,
   "id": "61100bf6",
   "metadata": {},
   "outputs": [
    {
     "name": "stdout",
     "output_type": "stream",
     "text": [
      "[[1 1 1 1 1]\n",
      " [1 0 0 0 1]\n",
      " [1 0 4 0 1]\n",
      " [1 0 0 0 1]\n",
      " [1 1 1 1 1]]\n"
     ]
    }
   ],
   "source": [
    "import numpy as np\n",
    "a=np.array([[1,1,1,1,1],[1,0,0,0,1],[1,0,4,0,1],[1,0,0,0,1],[1,1,1,1,1]])\n",
    "print(a)"
   ]
  },
  {
   "cell_type": "code",
   "execution_count": 116,
   "id": "49e5e6fd",
   "metadata": {},
   "outputs": [
    {
     "name": "stdout",
     "output_type": "stream",
     "text": [
      "[[1. 1. 1. 1. 1.]\n",
      " [1. 1. 1. 1. 1.]\n",
      " [1. 1. 1. 1. 1.]\n",
      " [1. 1. 1. 1. 1.]\n",
      " [1. 1. 1. 1. 1.]]\n",
      "\n",
      "[[0. 0. 0.]\n",
      " [0. 0. 0.]\n",
      " [0. 0. 0.]]\n",
      "\n",
      "[[0. 0. 0.]\n",
      " [0. 4. 0.]\n",
      " [0. 0. 0.]]\n",
      "\n",
      "[[1. 1. 1. 1. 1.]\n",
      " [1. 0. 0. 0. 1.]\n",
      " [1. 0. 4. 0. 1.]\n",
      " [1. 0. 0. 0. 1.]\n",
      " [1. 1. 1. 1. 1.]]\n"
     ]
    }
   ],
   "source": [
    "result = np.ones((5,5))\n",
    "print(result)\n",
    "print()\n",
    "\n",
    "z = np.zeros((3,3))\n",
    "print(z)\n",
    "print()\n",
    "\n",
    "z[1,1] = 4\n",
    "print(z)\n",
    "print()\n",
    "\n",
    "result [1:4,1:4] = z\n",
    "print(result)"
   ]
  },
  {
   "cell_type": "code",
   "execution_count": 122,
   "id": "f809d64f",
   "metadata": {},
   "outputs": [
    {
     "name": "stdout",
     "output_type": "stream",
     "text": [
      "a\n",
      "a = [1 2 3]\n",
      "b = [1 2 3]\n",
      "\n",
      "a = [100   2   3]\n",
      "b = [100   2   3]\n"
     ]
    }
   ],
   "source": [
    "# copying array \n",
    "\n",
    "print(\"a\")\n",
    "a = np.array([1,2,3])\n",
    "b = a\n",
    "\n",
    "print(\"a =\", a)\n",
    "print(\"b =\", b)\n",
    "\n",
    "b[0] = 100\n",
    "print()\n",
    "print(\"a =\", a)\n",
    "print(\"b =\", b)"
   ]
  },
  {
   "cell_type": "code",
   "execution_count": 126,
   "id": "286d5f6a",
   "metadata": {},
   "outputs": [
    {
     "name": "stdout",
     "output_type": "stream",
     "text": [
      "[1 2 3]\n",
      "\n",
      "[1 2 3]\n",
      "\n",
      "[1 2 3]\n",
      "[100   2   3]\n"
     ]
    }
   ],
   "source": [
    "a = np.array([1,2,3])\n",
    "b = a.copy()\n",
    "print(a)\n",
    "print()\n",
    "print(b)\n",
    "b[0] = 100\n",
    "print()\n",
    "print(a)\n",
    "print(b)"
   ]
  },
  {
   "cell_type": "markdown",
   "id": "e73b4a3d",
   "metadata": {},
   "source": [
    "# 3D example "
   ]
  },
  {
   "cell_type": "code",
   "execution_count": 127,
   "id": "a22e17d9",
   "metadata": {},
   "outputs": [
    {
     "name": "stdout",
     "output_type": "stream",
     "text": [
      "[[[1 2]\n",
      "  [3 4]]\n",
      "\n",
      " [[5 6]\n",
      "  [7 8]]]\n"
     ]
    }
   ],
   "source": [
    "b = np.array([[[1,2],[3,4]],[[5,6],[7,8]]])\n",
    "print(b)\n"
   ]
  },
  {
   "cell_type": "code",
   "execution_count": 128,
   "id": "a4da5ce2",
   "metadata": {},
   "outputs": [
    {
     "name": "stdout",
     "output_type": "stream",
     "text": [
      "4\n"
     ]
    }
   ],
   "source": [
    "print(b[0,1,1])"
   ]
  },
  {
   "cell_type": "code",
   "execution_count": 129,
   "id": "e0d1c960",
   "metadata": {},
   "outputs": [
    {
     "name": "stdout",
     "output_type": "stream",
     "text": [
      "[[3 4]\n",
      " [7 8]]\n"
     ]
    }
   ],
   "source": [
    "print(b[:,1,:])\n",
    "\n",
    "# b[which matrix,which row, which column ]\n"
   ]
  },
  {
   "cell_type": "code",
   "execution_count": 130,
   "id": "1887d427",
   "metadata": {},
   "outputs": [
    {
     "name": "stdout",
     "output_type": "stream",
     "text": [
      "[[1 2]\n",
      " [5 6]]\n"
     ]
    }
   ],
   "source": [
    "print(b[:,0,:])"
   ]
  },
  {
   "cell_type": "code",
   "execution_count": 132,
   "id": "d14d70ce",
   "metadata": {},
   "outputs": [
    {
     "name": "stdout",
     "output_type": "stream",
     "text": [
      "[3 7]\n"
     ]
    }
   ],
   "source": [
    "print(b[:,1,0])"
   ]
  },
  {
   "cell_type": "markdown",
   "id": "0b010aac",
   "metadata": {},
   "source": [
    "# arange"
   ]
  },
  {
   "cell_type": "code",
   "execution_count": 133,
   "id": "0bce7181",
   "metadata": {},
   "outputs": [
    {
     "data": {
      "text/plain": [
       "array([0, 1, 2, 3, 4])"
      ]
     },
     "execution_count": 133,
     "metadata": {},
     "output_type": "execute_result"
    }
   ],
   "source": [
    "np.arange(5)"
   ]
  },
  {
   "cell_type": "code",
   "execution_count": 134,
   "id": "40c9e123",
   "metadata": {},
   "outputs": [
    {
     "data": {
      "text/plain": [
       "array([ 0,  1,  2,  3,  4,  5,  6,  7,  8,  9, 10, 11])"
      ]
     },
     "execution_count": 134,
     "metadata": {},
     "output_type": "execute_result"
    }
   ],
   "source": [
    "np.arange(12)"
   ]
  },
  {
   "cell_type": "code",
   "execution_count": 135,
   "id": "1bf189eb",
   "metadata": {},
   "outputs": [
    {
     "data": {
      "text/plain": [
       "array([[ 0,  1,  2,  3],\n",
       "       [ 4,  5,  6,  7],\n",
       "       [ 8,  9, 10, 11]])"
      ]
     },
     "execution_count": 135,
     "metadata": {},
     "output_type": "execute_result"
    }
   ],
   "source": [
    "np.arange(12).reshape(3,4)"
   ]
  },
  {
   "cell_type": "code",
   "execution_count": 136,
   "id": "f6ffe21f",
   "metadata": {},
   "outputs": [
    {
     "data": {
      "text/plain": [
       "array([[ 0,  1],\n",
       "       [ 2,  3],\n",
       "       [ 4,  5],\n",
       "       [ 6,  7],\n",
       "       [ 8,  9],\n",
       "       [10, 11]])"
      ]
     },
     "execution_count": 136,
     "metadata": {},
     "output_type": "execute_result"
    }
   ],
   "source": [
    "np.arange(12).reshape(6,2)"
   ]
  },
  {
   "cell_type": "code",
   "execution_count": 137,
   "id": "5264da07",
   "metadata": {},
   "outputs": [
    {
     "data": {
      "text/plain": [
       "array([[ 0],\n",
       "       [ 1],\n",
       "       [ 2],\n",
       "       [ 3],\n",
       "       [ 4],\n",
       "       [ 5],\n",
       "       [ 6],\n",
       "       [ 7],\n",
       "       [ 8],\n",
       "       [ 9],\n",
       "       [10],\n",
       "       [11]])"
      ]
     },
     "execution_count": 137,
     "metadata": {},
     "output_type": "execute_result"
    }
   ],
   "source": [
    "np.arange(12).reshape(12,1)"
   ]
  },
  {
   "cell_type": "code",
   "execution_count": 138,
   "id": "d30d609e",
   "metadata": {},
   "outputs": [
    {
     "ename": "ValueError",
     "evalue": "cannot reshape array of size 12 into shape (4,4)",
     "output_type": "error",
     "traceback": [
      "\u001b[1;31m---------------------------------------------------------------------------\u001b[0m",
      "\u001b[1;31mValueError\u001b[0m                                Traceback (most recent call last)",
      "Input \u001b[1;32mIn [138]\u001b[0m, in \u001b[0;36m<cell line: 1>\u001b[1;34m()\u001b[0m\n\u001b[1;32m----> 1\u001b[0m \u001b[43mnp\u001b[49m\u001b[38;5;241;43m.\u001b[39;49m\u001b[43marange\u001b[49m\u001b[43m(\u001b[49m\u001b[38;5;241;43m12\u001b[39;49m\u001b[43m)\u001b[49m\u001b[38;5;241;43m.\u001b[39;49m\u001b[43mreshape\u001b[49m\u001b[43m(\u001b[49m\u001b[38;5;241;43m4\u001b[39;49m\u001b[43m,\u001b[49m\u001b[38;5;241;43m4\u001b[39;49m\u001b[43m)\u001b[49m\n",
      "\u001b[1;31mValueError\u001b[0m: cannot reshape array of size 12 into shape (4,4)"
     ]
    }
   ],
   "source": [
    "np.arange(12).reshape(4,4)"
   ]
  },
  {
   "cell_type": "code",
   "execution_count": 139,
   "id": "ef39b05d",
   "metadata": {},
   "outputs": [
    {
     "data": {
      "text/plain": [
       "array([[[ 0,  1,  2],\n",
       "        [ 3,  4,  5]],\n",
       "\n",
       "       [[ 6,  7,  8],\n",
       "        [ 9, 10, 11]]])"
      ]
     },
     "execution_count": 139,
     "metadata": {},
     "output_type": "execute_result"
    }
   ],
   "source": [
    "np.arange(12).reshape(2,2,3)"
   ]
  },
  {
   "cell_type": "code",
   "execution_count": 140,
   "id": "7dc6495d",
   "metadata": {},
   "outputs": [
    {
     "data": {
      "text/plain": [
       "array([[[ 0,  1,  2]],\n",
       "\n",
       "       [[ 3,  4,  5]],\n",
       "\n",
       "       [[ 6,  7,  8]],\n",
       "\n",
       "       [[ 9, 10, 11]]])"
      ]
     },
     "execution_count": 140,
     "metadata": {},
     "output_type": "execute_result"
    }
   ],
   "source": [
    "np.arange(12).reshape(4,1,3)"
   ]
  },
  {
   "cell_type": "code",
   "execution_count": 141,
   "id": "e3a344ab",
   "metadata": {},
   "outputs": [
    {
     "data": {
      "text/plain": [
       "array([[1, 2, 3, 4],\n",
       "       [5, 6, 7, 8],\n",
       "       [1, 2, 3, 4],\n",
       "       [5, 6, 7, 8],\n",
       "       [1, 2, 3, 4],\n",
       "       [5, 6, 7, 8],\n",
       "       [5, 6, 7, 8],\n",
       "       [5, 6, 7, 8]])"
      ]
     },
     "execution_count": 141,
     "metadata": {},
     "output_type": "execute_result"
    }
   ],
   "source": [
    "# Vertical Stacking \n",
    "\n",
    "v1 = np.array([1,2,3,4])\n",
    "v2 = np.array([5,6,7,8])\n",
    "\n",
    "np.vstack([v1,v2,v1,v2,v1,v2,v2,v2])"
   ]
  },
  {
   "cell_type": "code",
   "execution_count": 142,
   "id": "177b2205",
   "metadata": {},
   "outputs": [
    {
     "data": {
      "text/plain": [
       "array([1, 2, 3, 4, 5, 6, 7, 8, 1, 2, 3, 4, 5, 6, 7, 8, 1, 2, 3, 4, 5, 6,\n",
       "       7, 8, 5, 6, 7, 8, 5, 6, 7, 8])"
      ]
     },
     "execution_count": 142,
     "metadata": {},
     "output_type": "execute_result"
    }
   ],
   "source": [
    "v1 = np.array([1,2,3,4])\n",
    "v2 = np.array([5,6,7,8])\n",
    "\n",
    "np.hstack([v1,v2,v1,v2,v1,v2,v2,v2])"
   ]
  },
  {
   "cell_type": "code",
   "execution_count": 143,
   "id": "b20e0ba6",
   "metadata": {},
   "outputs": [
    {
     "data": {
      "text/plain": [
       "array([0, 1, 2, 3, 4, 5, 6, 7, 8, 9])"
      ]
     },
     "execution_count": 143,
     "metadata": {},
     "output_type": "execute_result"
    }
   ],
   "source": [
    "arr = np.arange(10)\n",
    "arr"
   ]
  },
  {
   "cell_type": "code",
   "execution_count": 144,
   "id": "2c8d0bb7",
   "metadata": {},
   "outputs": [
    {
     "data": {
      "text/plain": [
       "array([2, 3, 4, 5, 6, 7, 8, 9])"
      ]
     },
     "execution_count": 144,
     "metadata": {},
     "output_type": "execute_result"
    }
   ],
   "source": [
    "arr[2:]"
   ]
  },
  {
   "cell_type": "code",
   "execution_count": 145,
   "id": "64a3dd01",
   "metadata": {},
   "outputs": [
    {
     "data": {
      "text/plain": [
       "array([], dtype=int32)"
      ]
     },
     "execution_count": 145,
     "metadata": {},
     "output_type": "execute_result"
    }
   ],
   "source": [
    "arr[10:]"
   ]
  },
  {
   "cell_type": "code",
   "execution_count": 146,
   "id": "3041431a",
   "metadata": {},
   "outputs": [
    {
     "data": {
      "text/plain": [
       "array([5, 6, 7])"
      ]
     },
     "execution_count": 146,
     "metadata": {},
     "output_type": "execute_result"
    }
   ],
   "source": [
    "arr[5:8]"
   ]
  },
  {
   "cell_type": "code",
   "execution_count": 147,
   "id": "06def8d0",
   "metadata": {},
   "outputs": [
    {
     "data": {
      "text/plain": [
       "array([0, 1, 2, 3, 4])"
      ]
     },
     "execution_count": 147,
     "metadata": {},
     "output_type": "execute_result"
    }
   ],
   "source": [
    "arr[:-5]"
   ]
  },
  {
   "cell_type": "code",
   "execution_count": 153,
   "id": "9aa52045",
   "metadata": {},
   "outputs": [
    {
     "name": "stdout",
     "output_type": "stream",
     "text": [
      "[[ 11  22  33 100 200]\n",
      " [ 44  55  66 100 200]\n",
      " [ 77  88  99 100 200]]\n",
      "\n",
      "[[11 22]\n",
      " [44 55]\n",
      " [77 88]]\n",
      "\n",
      "[[ 11  22  33 100]\n",
      " [ 44  55  66 100]\n",
      " [ 77  88  99 100]]\n",
      "\n",
      "[200 200 200]\n"
     ]
    }
   ],
   "source": [
    "arr = np.array([ [11,22,33,100,200],[44,55,66,100,200],[77,88,99,100,200] ])\n",
    "print(arr)\n",
    "print()\n",
    "\n",
    "X = arr[ : , : -3 ] # all the rows and all the columns until -3\n",
    "print(X)\n",
    "print()\n",
    "\n",
    "y = arr[ : , : -1 ] \n",
    "print(y)\n",
    "print()\n",
    "\n",
    "z = arr[ : , -1 ] \n",
    "print(z)"
   ]
  },
  {
   "cell_type": "markdown",
   "id": "ee79931c",
   "metadata": {},
   "source": [
    "# Boolean indexing"
   ]
  },
  {
   "cell_type": "code",
   "execution_count": 154,
   "id": "38f3cd46",
   "metadata": {},
   "outputs": [
    {
     "data": {
      "text/plain": [
       "array(['delhi', 'bangalore', 'mumbai', 'chennai', 'bhopal'], dtype='<U9')"
      ]
     },
     "execution_count": 154,
     "metadata": {},
     "output_type": "execute_result"
    }
   ],
   "source": [
    "cities = np.array([\"delhi\",\"bangalore\",\"mumbai\",\"chennai\",\"bhopal\"])\n",
    "cities"
   ]
  },
  {
   "cell_type": "code",
   "execution_count": 167,
   "id": "074a0dae",
   "metadata": {},
   "outputs": [
    {
     "data": {
      "text/plain": [
       "array([[-1.47986362,  3.06338302, -0.98464294],\n",
       "       [ 0.39927902, -1.06778342,  1.69546976],\n",
       "       [-1.52641899,  0.92161389,  0.64007825],\n",
       "       [-1.07539673,  0.49608933,  1.18482007],\n",
       "       [-0.73144082, -1.32817359, -0.54926601]])"
      ]
     },
     "execution_count": 167,
     "metadata": {},
     "output_type": "execute_result"
    }
   ],
   "source": [
    "city_data = np.random.randn(5,3)\n",
    "city_data"
   ]
  },
  {
   "cell_type": "code",
   "execution_count": 156,
   "id": "1dde32cc",
   "metadata": {},
   "outputs": [
    {
     "data": {
      "text/plain": [
       "array([False, False,  True, False, False])"
      ]
     },
     "execution_count": 156,
     "metadata": {},
     "output_type": "execute_result"
    }
   ],
   "source": [
    "cities == 'mumbai'"
   ]
  },
  {
   "cell_type": "code",
   "execution_count": 157,
   "id": "bf5b11cd",
   "metadata": {},
   "outputs": [
    {
     "data": {
      "text/plain": [
       "array([[0.99081797, 0.51189693, 0.02816789]])"
      ]
     },
     "execution_count": 157,
     "metadata": {},
     "output_type": "execute_result"
    }
   ],
   "source": [
    "city_data[cities==\"mumbai\"]"
   ]
  },
  {
   "cell_type": "code",
   "execution_count": 158,
   "id": "aa04fc1d",
   "metadata": {},
   "outputs": [
    {
     "data": {
      "text/plain": [
       "array([], shape=(0, 3), dtype=float64)"
      ]
     },
     "execution_count": 158,
     "metadata": {},
     "output_type": "execute_result"
    }
   ],
   "source": [
    "city_data[cities==\"mumba\"]"
   ]
  },
  {
   "cell_type": "code",
   "execution_count": 159,
   "id": "d5b3f76b",
   "metadata": {},
   "outputs": [
    {
     "data": {
      "text/plain": [
       "array([[ True,  True,  True],\n",
       "       [False, False,  True],\n",
       "       [ True,  True,  True],\n",
       "       [False,  True,  True],\n",
       "       [False,  True, False]])"
      ]
     },
     "execution_count": 159,
     "metadata": {},
     "output_type": "execute_result"
    }
   ],
   "source": [
    "city_data > 0"
   ]
  },
  {
   "cell_type": "code",
   "execution_count": 164,
   "id": "726a0a5b",
   "metadata": {},
   "outputs": [
    {
     "data": {
      "text/plain": [
       "array([0.50817027, 1.08397174, 0.84226111, 1.06841906, 0.99081797,\n",
       "       0.51189693, 0.02816789, 0.82370451, 0.8196838 , 0.28173521])"
      ]
     },
     "execution_count": 164,
     "metadata": {},
     "output_type": "execute_result"
    }
   ],
   "source": [
    "# city_data[0:2]\n",
    "\n",
    "city_data[city_data > 0]"
   ]
  },
  {
   "cell_type": "code",
   "execution_count": 162,
   "id": "53518364",
   "metadata": {},
   "outputs": [
    {
     "data": {
      "text/plain": [
       "array([[ 0.50817027,  1.08397174,  0.84226111],\n",
       "       [-0.00384333, -0.65637671,  1.06841906],\n",
       "       [ 0.99081797,  0.51189693,  0.02816789],\n",
       "       [-0.19544199,  0.82370451,  0.8196838 ],\n",
       "       [-0.73772742,  0.28173521, -0.44419422]])"
      ]
     },
     "execution_count": 162,
     "metadata": {},
     "output_type": "execute_result"
    }
   ],
   "source": [
    "city_data"
   ]
  },
  {
   "cell_type": "code",
   "execution_count": 168,
   "id": "1bdd4898",
   "metadata": {},
   "outputs": [
    {
     "data": {
      "text/plain": [
       "array([[9.99000000e+02, 3.06338302e+00, 9.99000000e+02],\n",
       "       [3.99279017e-01, 9.99000000e+02, 1.69546976e+00],\n",
       "       [9.99000000e+02, 9.21613888e-01, 6.40078252e-01],\n",
       "       [9.99000000e+02, 4.96089333e-01, 1.18482007e+00],\n",
       "       [9.99000000e+02, 9.99000000e+02, 9.99000000e+02]])"
      ]
     },
     "execution_count": 168,
     "metadata": {},
     "output_type": "execute_result"
    }
   ],
   "source": [
    "city_data[city_data < 0] = 999\n",
    "city_data"
   ]
  },
  {
   "cell_type": "markdown",
   "id": "bf25f76a",
   "metadata": {},
   "source": [
    "# Ufunc\n",
    "Universal Functions. They support Broad casting. Broad casting not used much in ML, but very extensively used in Deep learning, when ever you want to do replications around nueral network we would need ufunctions"
   ]
  },
  {
   "cell_type": "code",
   "execution_count": 169,
   "id": "4baa8902",
   "metadata": {},
   "outputs": [
    {
     "data": {
      "text/plain": [
       "array([[ 0,  1,  2,  3,  4],\n",
       "       [ 5,  6,  7,  8,  9],\n",
       "       [10, 11, 12, 13, 14]])"
      ]
     },
     "execution_count": 169,
     "metadata": {},
     "output_type": "execute_result"
    }
   ],
   "source": [
    "arr = np.arange(15).reshape(3,5)\n",
    "arr"
   ]
  },
  {
   "cell_type": "code",
   "execution_count": 170,
   "id": "6ff30060",
   "metadata": {},
   "outputs": [
    {
     "data": {
      "text/plain": [
       "array([[ 5,  6,  7,  8,  9],\n",
       "       [10, 11, 12, 13, 14],\n",
       "       [15, 16, 17, 18, 19]])"
      ]
     },
     "execution_count": 170,
     "metadata": {},
     "output_type": "execute_result"
    }
   ],
   "source": [
    "arr + 5\n",
    "\n",
    "# arr*2"
   ]
  },
  {
   "cell_type": "code",
   "execution_count": 173,
   "id": "dbad883b",
   "metadata": {},
   "outputs": [
    {
     "name": "stdout",
     "output_type": "stream",
     "text": [
      "[[ 0  1  2]\n",
      " [ 3  4  5]\n",
      " [ 6  7  8]\n",
      " [ 9 10 11]\n",
      " [12 13 14]]\n",
      "\n",
      "[[0]\n",
      " [1]\n",
      " [2]\n",
      " [3]\n",
      " [4]]\n"
     ]
    },
    {
     "data": {
      "text/plain": [
       "array([[ 0,  1,  2],\n",
       "       [ 4,  5,  6],\n",
       "       [ 8,  9, 10],\n",
       "       [12, 13, 14],\n",
       "       [16, 17, 18]])"
      ]
     },
     "execution_count": 173,
     "metadata": {},
     "output_type": "execute_result"
    }
   ],
   "source": [
    "arr1 = np.arange(15).reshape(5,3)\n",
    "\n",
    "arr2 = np.arange(5).reshape(5,1)\n",
    "\n",
    "print(arr1) # this is 5X3 matrix\n",
    "\n",
    "print()\n",
    "\n",
    "print(arr2) # this is 5X1 matrix . Can we add?\n",
    "\n",
    "arr1 + arr2 "
   ]
  },
  {
   "cell_type": "code",
   "execution_count": 175,
   "id": "b878119a",
   "metadata": {},
   "outputs": [
    {
     "name": "stdout",
     "output_type": "stream",
     "text": [
      "[[1 2 3]\n",
      " [4 5 6]\n",
      " [7 8 9]]\n",
      "\n",
      "[[1 2 3]\n",
      " [4 5 6]\n",
      " [3 6 1]]\n",
      "\n"
     ]
    },
    {
     "data": {
      "text/plain": [
       "array([[ 18,  30,  18],\n",
       "       [ 42,  69,  48],\n",
       "       [ 66, 108,  78]])"
      ]
     },
     "execution_count": 175,
     "metadata": {},
     "output_type": "execute_result"
    }
   ],
   "source": [
    "A = np.array([ [1,2,3],[4,5,6],[7,8,9] ])\n",
    "B = np.array([ [1,2,3],[4,5,6],[3,6,1] ])\n",
    "\n",
    "\n",
    "print(A)\n",
    "print()\n",
    "print(B)\n",
    "print()\n",
    "\n",
    "A.dot(B)"
   ]
  },
  {
   "cell_type": "code",
   "execution_count": 176,
   "id": "2be1248f",
   "metadata": {},
   "outputs": [
    {
     "data": {
      "text/plain": [
       "array([[30, 36, 42],\n",
       "       [66, 81, 96],\n",
       "       [34, 44, 54]])"
      ]
     },
     "execution_count": 176,
     "metadata": {},
     "output_type": "execute_result"
    }
   ],
   "source": [
    "B.dot(A) # matrix multiplication is not commutative "
   ]
  },
  {
   "cell_type": "code",
   "execution_count": 178,
   "id": "4aa8878d",
   "metadata": {},
   "outputs": [
    {
     "name": "stdout",
     "output_type": "stream",
     "text": [
      "[[ 0  1  2  3  4]\n",
      " [ 5  6  7  8  9]\n",
      " [10 11 12 13 14]]\n",
      "\n"
     ]
    },
    {
     "data": {
      "text/plain": [
       "array([[ 0,  5, 10],\n",
       "       [ 1,  6, 11],\n",
       "       [ 2,  7, 12],\n",
       "       [ 3,  8, 13],\n",
       "       [ 4,  9, 14]])"
      ]
     },
     "execution_count": 178,
     "metadata": {},
     "output_type": "execute_result"
    }
   ],
   "source": [
    "# Transpose\n",
    "\n",
    "A = np.arange(15).reshape(3,5)\n",
    "print(A)\n",
    "print()\n",
    "\n",
    "A.T"
   ]
  },
  {
   "cell_type": "code",
   "execution_count": 181,
   "id": "fc403fa9",
   "metadata": {},
   "outputs": [
    {
     "name": "stdout",
     "output_type": "stream",
     "text": [
      "\n",
      "Concatenation:\n",
      "Time taken by Lists : 0.6223154067993164 seconds\n",
      "Time taken by NumPy Arrays : 0.042919158935546875 seconds\n"
     ]
    }
   ],
   "source": [
    "import numpy\n",
    "import time\n",
    "  \n",
    " \n",
    "# size of arrays and lists\n",
    "size = 10000000\n",
    "  \n",
    "# declaring lists\n",
    "list1 = [i for i in range(size)]\n",
    "list2 = [i for i in range(size)]\n",
    " \n",
    "# declaring arrays\n",
    "array1 = numpy.arange(size)\n",
    "array2 = numpy.arange(size)\n",
    " \n",
    "# Concatenation\n",
    "print(\"\\nConcatenation:\")\n",
    " \n",
    "# list\n",
    "initialTime = time.time()\n",
    "list1 = list1 + list2\n",
    " \n",
    "# calculating execution time\n",
    "print(\"Time taken by Lists :\",\n",
    "      (time.time() - initialTime),\n",
    "      \"seconds\")\n",
    "  \n",
    "# NumPy array\n",
    "initialTime = time.time()\n",
    "array = numpy.concatenate((array1, array2),\n",
    "                          axis = 0)\n",
    " \n",
    "# calculating execution time\n",
    "print(\"Time taken by NumPy Arrays :\",\n",
    "      (time.time() - initialTime),\n",
    "      \"seconds\")\n",
    " "
   ]
  },
  {
   "cell_type": "code",
   "execution_count": 27,
   "id": "83c1c1df",
   "metadata": {},
   "outputs": [
    {
     "name": "stdout",
     "output_type": "stream",
     "text": [
      "[[1.  2.  3. ]\n",
      " [4.6 5.  6. ]\n",
      " [8.  9.  1. ]]\n",
      "9\n",
      "(3, 3)\n",
      "float64\n"
     ]
    },
    {
     "data": {
      "text/plain": [
       "(2,)"
      ]
     },
     "execution_count": 27,
     "metadata": {},
     "output_type": "execute_result"
    }
   ],
   "source": [
    "import numpy as np\n",
    "a1=np.array([[1,2,3],[4.6,5,6],[8,9,1]])\n",
    "print(a1)\n",
    "print(a1.size)\n",
    "print(a1.shape)\n",
    "print(a1.dtype)\n",
    "\n",
    "a=np.array([1,2])\n",
    "a.shape"
   ]
  },
  {
   "cell_type": "code",
   "execution_count": 9,
   "id": "8759d5f7",
   "metadata": {},
   "outputs": [
    {
     "data": {
      "text/plain": [
       "array([[0., 0.],\n",
       "       [0., 0.]])"
      ]
     },
     "execution_count": 9,
     "metadata": {},
     "output_type": "execute_result"
    }
   ],
   "source": [
    "a2=np.zeros((2,2))\n",
    "a2"
   ]
  },
  {
   "cell_type": "code",
   "execution_count": 10,
   "id": "fbbf0424",
   "metadata": {},
   "outputs": [
    {
     "data": {
      "text/plain": [
       "array([[[0., 0.],\n",
       "        [0., 0.]],\n",
       "\n",
       "       [[0., 0.],\n",
       "        [0., 0.]]])"
      ]
     },
     "execution_count": 10,
     "metadata": {},
     "output_type": "execute_result"
    }
   ],
   "source": [
    "a3=np.zeros((2,2,2))\n",
    "a3"
   ]
  },
  {
   "cell_type": "code",
   "execution_count": 11,
   "id": "869fc84c",
   "metadata": {},
   "outputs": [
    {
     "data": {
      "text/plain": [
       "array([[[[0., 0.],\n",
       "         [0., 0.]],\n",
       "\n",
       "        [[0., 0.],\n",
       "         [0., 0.]],\n",
       "\n",
       "        [[0., 0.],\n",
       "         [0., 0.]]],\n",
       "\n",
       "\n",
       "       [[[0., 0.],\n",
       "         [0., 0.]],\n",
       "\n",
       "        [[0., 0.],\n",
       "         [0., 0.]],\n",
       "\n",
       "        [[0., 0.],\n",
       "         [0., 0.]]]])"
      ]
     },
     "execution_count": 11,
     "metadata": {},
     "output_type": "execute_result"
    }
   ],
   "source": [
    "a3=np.zeros((2,3,2,2))\n",
    "a3"
   ]
  },
  {
   "cell_type": "code",
   "execution_count": 13,
   "id": "58e6525c",
   "metadata": {},
   "outputs": [
    {
     "data": {
      "text/plain": [
       "array([[1., 1.],\n",
       "       [1., 1.]])"
      ]
     },
     "execution_count": 13,
     "metadata": {},
     "output_type": "execute_result"
    }
   ],
   "source": [
    "a1=np.ones((2,2))\n",
    "a1"
   ]
  },
  {
   "cell_type": "code",
   "execution_count": 25,
   "id": "55387f74",
   "metadata": {},
   "outputs": [
    {
     "name": "stdout",
     "output_type": "stream",
     "text": [
      "[[[1. 1. 1.]\n",
      "  [1. 1. 1.]]\n",
      "\n",
      " [[1. 1. 1.]\n",
      "  [1. 1. 1.]]]\n"
     ]
    },
    {
     "data": {
      "text/plain": [
       "(2, 2, 3)"
      ]
     },
     "execution_count": 25,
     "metadata": {},
     "output_type": "execute_result"
    }
   ],
   "source": [
    "a2=np.ones((2,2,3))\n",
    "print(a2)\n",
    "a2.shape"
   ]
  },
  {
   "cell_type": "code",
   "execution_count": 24,
   "id": "f6f9b534",
   "metadata": {},
   "outputs": [
    {
     "name": "stdout",
     "output_type": "stream",
     "text": [
      "[[[[1. 1. 1.]\n",
      "   [1. 1. 1.]\n",
      "   [1. 1. 1.]]\n",
      "\n",
      "  [[1. 1. 1.]\n",
      "   [1. 1. 1.]\n",
      "   [1. 1. 1.]]]\n",
      "\n",
      "\n",
      " [[[1. 1. 1.]\n",
      "   [1. 1. 1.]\n",
      "   [1. 1. 1.]]\n",
      "\n",
      "  [[1. 1. 1.]\n",
      "   [1. 1. 1.]\n",
      "   [1. 1. 1.]]]]\n"
     ]
    },
    {
     "data": {
      "text/plain": [
       "(2, 2, 3, 3)"
      ]
     },
     "execution_count": 24,
     "metadata": {},
     "output_type": "execute_result"
    }
   ],
   "source": [
    "a3=np.ones((2,2,3,3))\n",
    "print(a3)\n",
    "a3.shape"
   ]
  },
  {
   "cell_type": "code",
   "execution_count": 21,
   "id": "0f57b787",
   "metadata": {},
   "outputs": [
    {
     "data": {
      "text/plain": [
       "array([[1., 0.],\n",
       "       [0., 1.],\n",
       "       [0., 0.]])"
      ]
     },
     "execution_count": 21,
     "metadata": {},
     "output_type": "execute_result"
    }
   ],
   "source": [
    "a4=np.identity((4))\n",
    "a4\n",
    "a5=np.eye(3,2)    \n",
    "a5"
   ]
  },
  {
   "cell_type": "code",
   "execution_count": 32,
   "id": "535755d6",
   "metadata": {},
   "outputs": [
    {
     "name": "stdout",
     "output_type": "stream",
     "text": [
      "[[1 2 3]\n",
      " [4 5 6]\n",
      " [8 9 1]]\n"
     ]
    }
   ],
   "source": [
    "a6=np.array([[1,2,3],[4,5,6],[8,9,1]])\n",
    "print(a6)\n"
   ]
  },
  {
   "cell_type": "code",
   "execution_count": 28,
   "id": "44d4404f",
   "metadata": {},
   "outputs": [
    {
     "name": "stdout",
     "output_type": "stream",
     "text": [
      "[1 2 3]\n"
     ]
    }
   ],
   "source": [
    "print(a6[0])"
   ]
  },
  {
   "cell_type": "code",
   "execution_count": 31,
   "id": "7cd676c1",
   "metadata": {},
   "outputs": [
    {
     "name": "stdout",
     "output_type": "stream",
     "text": [
      "[1 4 8]\n",
      "[2 5 9]\n",
      "[3 6 1]\n"
     ]
    }
   ],
   "source": [
    "print(a6[ : ,0])\n",
    "print(a6[ :,1])\n",
    "print(a6[: ,2])"
   ]
  },
  {
   "cell_type": "code",
   "execution_count": 40,
   "id": "a2b9d0b6",
   "metadata": {},
   "outputs": [
    {
     "name": "stdout",
     "output_type": "stream",
     "text": [
      "[[1 2 3]\n",
      " [4 5 6]\n",
      " [8 9 1]]\n",
      "[[1 3]\n",
      " [4 6]\n",
      " [8 1]]\n",
      "\n",
      "\n",
      "\n",
      "[[2]\n",
      " [5]\n",
      " [9]]\n",
      "\n",
      "\n",
      "\n",
      "[[3]\n",
      " [6]\n",
      " [1]]\n"
     ]
    }
   ],
   "source": [
    "print(a6)\n",
    "print(a6[ : ,0:3:2])\n",
    "print(\"\\n\\n\")\n",
    "print(a6[ :,1:3:2])\n",
    "print(\"\\n\\n\")\n",
    "print(a6[: ,2:3:2])"
   ]
  },
  {
   "cell_type": "code",
   "execution_count": 45,
   "id": "66a01657",
   "metadata": {},
   "outputs": [
    {
     "data": {
      "text/plain": [
       "array([[0., 0., 0.],\n",
       "       [0., 4., 0.],\n",
       "       [0., 0., 0.]])"
      ]
     },
     "execution_count": 45,
     "metadata": {},
     "output_type": "execute_result"
    }
   ],
   "source": [
    "a7=np.ones((5,5))\n",
    "a7\n",
    "a8=np.zeros((3,3))\n",
    "a8[1,1]=4\n",
    "a8\n"
   ]
  },
  {
   "cell_type": "code",
   "execution_count": 46,
   "id": "3d5a3eef",
   "metadata": {},
   "outputs": [
    {
     "data": {
      "text/plain": [
       "array([[1., 1., 1., 1., 1.],\n",
       "       [1., 0., 0., 0., 1.],\n",
       "       [1., 0., 4., 0., 1.],\n",
       "       [1., 0., 0., 0., 1.],\n",
       "       [1., 1., 1., 1., 1.]])"
      ]
     },
     "execution_count": 46,
     "metadata": {},
     "output_type": "execute_result"
    }
   ],
   "source": [
    "a7[1:4,1:4]=a8\n",
    "a7"
   ]
  },
  {
   "cell_type": "code",
   "execution_count": 4,
   "id": "126a2201",
   "metadata": {},
   "outputs": [
    {
     "data": {
      "text/plain": [
       "array([[1., 1., 1., 1., 1.],\n",
       "       [1., 1., 1., 1., 1.],\n",
       "       [1., 1., 1., 1., 1.],\n",
       "       [1., 1., 1., 1., 1.],\n",
       "       [1., 1., 1., 1., 1.]])"
      ]
     },
     "execution_count": 4,
     "metadata": {},
     "output_type": "execute_result"
    }
   ],
   "source": [
    "import numpy as np\n",
    "a9=np.ones((5,5))\n",
    "a9"
   ]
  },
  {
   "cell_type": "code",
   "execution_count": 10,
   "id": "22eeb5ac",
   "metadata": {},
   "outputs": [
    {
     "data": {
      "text/plain": [
       "array([[1., 1., 1., 1., 1.],\n",
       "       [1., 1., 1., 1., 1.],\n",
       "       [1., 0., 1., 3., 1.],\n",
       "       [1., 0., 1., 1., 1.],\n",
       "       [1., 1., 1., 1., 1.]])"
      ]
     },
     "execution_count": 10,
     "metadata": {},
     "output_type": "execute_result"
    }
   ],
   "source": [
    "import numpy as np\n",
    "a9=np.ones((5,5))\n",
    "a9\n",
    "a9[2][1]=0\n",
    "a9[3][1]=0\n",
    "a9[2][3]=3\n",
    "a9\n"
   ]
  },
  {
   "cell_type": "code",
   "execution_count": null,
   "id": "c7e7e7cf",
   "metadata": {},
   "outputs": [],
   "source": []
  },
  {
   "cell_type": "code",
   "execution_count": null,
   "id": "042c2bdf",
   "metadata": {},
   "outputs": [],
   "source": []
  }
 ],
 "metadata": {
  "kernelspec": {
   "display_name": "Python 3 (ipykernel)",
   "language": "python",
   "name": "python3"
  },
  "language_info": {
   "codemirror_mode": {
    "name": "ipython",
    "version": 3
   },
   "file_extension": ".py",
   "mimetype": "text/x-python",
   "name": "python",
   "nbconvert_exporter": "python",
   "pygments_lexer": "ipython3",
   "version": "3.9.13"
  }
 },
 "nbformat": 4,
 "nbformat_minor": 5
}
