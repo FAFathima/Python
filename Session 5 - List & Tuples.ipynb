{
 "cells": [
  {
   "cell_type": "markdown",
   "id": "666ddeed",
   "metadata": {},
   "source": [
    "# List \n",
    "\n",
    "> In a simple language, a list is a collection of things, enclosed in [] and seperated by commas.\n",
    "\n",
    "> it is similar to arrays\n",
    "\n",
    "> it can contain any type of variable - Heterogeneous\n",
    "\n",
    "> List in python are ordered and have a definite count. The elements in a list are indexed according to a definite and the indexing of a list starts with 0. \n",
    "\n",
    "> each element in the list has its definite place in the list, which allows duplicating of element in the list "
   ]
  },
  {
   "cell_type": "code",
   "execution_count": 1,
   "id": "5ac9945b",
   "metadata": {},
   "outputs": [],
   "source": [
    "l = [] # empty list"
   ]
  },
  {
   "cell_type": "code",
   "execution_count": 2,
   "id": "9d500140",
   "metadata": {},
   "outputs": [
    {
     "name": "stdout",
     "output_type": "stream",
     "text": [
      "<class 'list'>\n"
     ]
    }
   ],
   "source": [
    "print(type(l))"
   ]
  },
  {
   "cell_type": "code",
   "execution_count": 3,
   "id": "e79c9656",
   "metadata": {},
   "outputs": [
    {
     "ename": "IndexError",
     "evalue": "list index out of range",
     "output_type": "error",
     "traceback": [
      "\u001b[1;31m---------------------------------------------------------------------------\u001b[0m",
      "\u001b[1;31mIndexError\u001b[0m                                Traceback (most recent call last)",
      "\u001b[1;32m~\\AppData\\Local\\Temp\\ipykernel_7972\\3849991813.py\u001b[0m in \u001b[0;36m<module>\u001b[1;34m\u001b[0m\n\u001b[1;32m----> 1\u001b[1;33m \u001b[0ml\u001b[0m\u001b[1;33m[\u001b[0m\u001b[1;36m0\u001b[0m\u001b[1;33m]\u001b[0m\u001b[1;33m\u001b[0m\u001b[1;33m\u001b[0m\u001b[0m\n\u001b[0m",
      "\u001b[1;31mIndexError\u001b[0m: list index out of range"
     ]
    }
   ],
   "source": [
    "l[0]"
   ]
  },
  {
   "cell_type": "code",
   "execution_count": 4,
   "id": "c1b40162",
   "metadata": {},
   "outputs": [
    {
     "name": "stdout",
     "output_type": "stream",
     "text": [
      "[1, 2, 3]\n",
      "<class 'list'>\n"
     ]
    }
   ],
   "source": [
    "st = [1,2,3]\n",
    "print(st)\n",
    "print(type(st))"
   ]
  },
  {
   "cell_type": "code",
   "execution_count": 5,
   "id": "71f031eb",
   "metadata": {},
   "outputs": [
    {
     "name": "stdout",
     "output_type": "stream",
     "text": [
      "[1, 22.33, 'Machine', (2+3j), False]\n",
      "<class 'list'>\n"
     ]
    }
   ],
   "source": [
    "st = [1,22.33,\"Machine\",2+3j,False] # heterogeneous example\n",
    "print(st)\n",
    "print(type(st))"
   ]
  },
  {
   "cell_type": "code",
   "execution_count": 6,
   "id": "949e19b9",
   "metadata": {},
   "outputs": [
    {
     "name": "stdout",
     "output_type": "stream",
     "text": [
      "(2+3j)\n",
      "<class 'complex'>\n"
     ]
    }
   ],
   "source": [
    "print(st[3])\n",
    "print(type(st[3]))"
   ]
  },
  {
   "cell_type": "code",
   "execution_count": 7,
   "id": "f0f11daf",
   "metadata": {},
   "outputs": [
    {
     "name": "stdout",
     "output_type": "stream",
     "text": [
      "[10, 20, 30, 40, 50, 60]\n",
      "40\n",
      "60\n",
      "60\n",
      "20\n",
      "[20, 30, 40, 50]\n",
      "[40, 50, 60]\n",
      "[10, 20, 30, 40]\n",
      "[20, 30, 40, 50]\n"
     ]
    }
   ],
   "source": [
    "l = [10,20,30,40,50,60]\n",
    "#indexing\n",
    "\n",
    "print(l)\n",
    "print(l[3]) # 40\n",
    "print(l[5]) # 60\n",
    "print(l[-1]) # 60\n",
    "print(l[-5]) #20\n",
    "\n",
    "# slicing\n",
    "\n",
    "print(l[1:5]) # 20,30,40,50  l [start:end-1]  # but remember end position will always be n-1\n",
    "print(l[3:]) #40 50 60\n",
    "print(l[:4]) # 10,20,30,40\n",
    "print(l[-5:-1]) #20,30,40,50"
   ]
  },
  {
   "cell_type": "code",
   "execution_count": 8,
   "id": "9c607444",
   "metadata": {},
   "outputs": [
    {
     "ename": "TypeError",
     "evalue": "'str' object does not support item assignment",
     "output_type": "error",
     "traceback": [
      "\u001b[1;31m---------------------------------------------------------------------------\u001b[0m",
      "\u001b[1;31mTypeError\u001b[0m                                 Traceback (most recent call last)",
      "\u001b[1;32m~\\AppData\\Local\\Temp\\ipykernel_7972\\4045605154.py\u001b[0m in \u001b[0;36m<module>\u001b[1;34m\u001b[0m\n\u001b[0;32m      1\u001b[0m \u001b[0ma\u001b[0m \u001b[1;33m=\u001b[0m \u001b[1;34m\"ABCDE\"\u001b[0m\u001b[1;33m\u001b[0m\u001b[1;33m\u001b[0m\u001b[0m\n\u001b[1;32m----> 2\u001b[1;33m \u001b[0ma\u001b[0m\u001b[1;33m[\u001b[0m\u001b[1;36m1\u001b[0m\u001b[1;33m]\u001b[0m\u001b[1;33m=\u001b[0m\u001b[1;34m\"Z\"\u001b[0m\u001b[1;33m\u001b[0m\u001b[1;33m\u001b[0m\u001b[0m\n\u001b[0m",
      "\u001b[1;31mTypeError\u001b[0m: 'str' object does not support item assignment"
     ]
    }
   ],
   "source": [
    "a = \"ABCDE\"\n",
    "a[1]=\"Z\""
   ]
  },
  {
   "cell_type": "raw",
   "id": "a2b03ede",
   "metadata": {},
   "source": [
    "Lists are mutable. It means we can change an item in a list by accessing it as a part of the assignment statement"
   ]
  },
  {
   "cell_type": "code",
   "execution_count": 9,
   "id": "20fdf758",
   "metadata": {},
   "outputs": [
    {
     "name": "stdout",
     "output_type": "stream",
     "text": [
      "Original List\n",
      "['A', 'B', 'C', 'D', 'E']\n",
      "A\n",
      "\n",
      "New List\n",
      "[9999, 'B', 'C', 'D', 'E']\n",
      "9999\n"
     ]
    }
   ],
   "source": [
    "st = ['A','B','C','D','E']\n",
    "print(\"Original List\")\n",
    "print(st)\n",
    "print(st[0])\n",
    "st[0]=9999\n",
    "print()\n",
    "print(\"New List\")\n",
    "print(st)\n",
    "print(st[0])"
   ]
  },
  {
   "cell_type": "code",
   "execution_count": 10,
   "id": "9844031e",
   "metadata": {},
   "outputs": [
    {
     "name": "stdout",
     "output_type": "stream",
     "text": [
      "[1, 2, [100, 200.7, 300], 31, 40, 50]\n",
      "[100, 200.7, 300]\n",
      "200.7\n",
      "<class 'list'>\n",
      "<class 'list'>\n",
      "<class 'float'>\n"
     ]
    }
   ],
   "source": [
    "# list of lists\n",
    "\n",
    "l = [1,2,[100,200.7,300],31,40,50]\n",
    "print(l)\n",
    "print(l[2])\n",
    "print(l[2][1])\n",
    "print(type(l))\n",
    "print(type(l[2]))\n",
    "print(type(l[2][1])) # float "
   ]
  },
  {
   "cell_type": "code",
   "execution_count": 11,
   "id": "dcec2896",
   "metadata": {},
   "outputs": [
    {
     "name": "stdout",
     "output_type": "stream",
     "text": [
      "[1, 2, (100, 200.7, 300), 31, 40, 50]\n",
      "(100, 200.7, 300)\n",
      "200.7\n",
      "<class 'list'>\n",
      "<class 'tuple'>\n",
      "<class 'float'>\n"
     ]
    }
   ],
   "source": [
    "l = [1,2,(100,200.7,300),31,40,50]\n",
    "print(l)\n",
    "print(l[2])\n",
    "print(l[2][1])\n",
    "print(type(l)) # list\n",
    "print(type(l[2])) # tuple\n",
    "print(type(l[2][1])) # float"
   ]
  },
  {
   "cell_type": "code",
   "execution_count": 12,
   "id": "b9947798",
   "metadata": {},
   "outputs": [
    {
     "name": "stdout",
     "output_type": "stream",
     "text": [
      "(1, 2, (100, 200.7, 300), 31, 40, 50)\n",
      "(100, 200.7, 300)\n",
      "200.7\n",
      "<class 'tuple'>\n",
      "<class 'tuple'>\n",
      "<class 'float'>\n"
     ]
    }
   ],
   "source": [
    "l = (1,2,(100,200.7,300),31,40,50)\n",
    "print(l)\n",
    "print(l[2])\n",
    "print(l[2][1])\n",
    "print(type(l)) # tuple\n",
    "print(type(l[2])) # tuple\n",
    "print(type(l[2][1])) # float"
   ]
  },
  {
   "cell_type": "code",
   "execution_count": 13,
   "id": "6efc50f4",
   "metadata": {},
   "outputs": [
    {
     "name": "stdout",
     "output_type": "stream",
     "text": [
      "(1, 2, [100, 200.7, 300], 31, 40, 50)\n",
      "[100, 200.7, 300]\n",
      "200.7\n",
      "<class 'tuple'>\n",
      "<class 'list'>\n",
      "<class 'float'>\n"
     ]
    }
   ],
   "source": [
    "l = (1,2,[100,200.7,300],31,40,50)\n",
    "print(l)\n",
    "print(l[2])\n",
    "print(l[2][1])\n",
    "print(type(l)) # tuple\n",
    "print(type(l[2])) # list\n",
    "print(type(l[2][1])) # float"
   ]
  },
  {
   "cell_type": "code",
   "execution_count": 14,
   "id": "11d4ec0d",
   "metadata": {},
   "outputs": [
    {
     "name": "stdout",
     "output_type": "stream",
     "text": [
      "Original List\n",
      "('A', 'B', 'C', 'D', 'E')\n",
      "A\n"
     ]
    },
    {
     "ename": "TypeError",
     "evalue": "'tuple' object does not support item assignment",
     "output_type": "error",
     "traceback": [
      "\u001b[1;31m---------------------------------------------------------------------------\u001b[0m",
      "\u001b[1;31mTypeError\u001b[0m                                 Traceback (most recent call last)",
      "\u001b[1;32m~\\AppData\\Local\\Temp\\ipykernel_7972\\3552565759.py\u001b[0m in \u001b[0;36m<module>\u001b[1;34m\u001b[0m\n\u001b[0;32m      3\u001b[0m \u001b[0mprint\u001b[0m\u001b[1;33m(\u001b[0m\u001b[0mst\u001b[0m\u001b[1;33m)\u001b[0m\u001b[1;33m\u001b[0m\u001b[1;33m\u001b[0m\u001b[0m\n\u001b[0;32m      4\u001b[0m \u001b[0mprint\u001b[0m\u001b[1;33m(\u001b[0m\u001b[0mst\u001b[0m\u001b[1;33m[\u001b[0m\u001b[1;36m0\u001b[0m\u001b[1;33m]\u001b[0m\u001b[1;33m)\u001b[0m\u001b[1;33m\u001b[0m\u001b[1;33m\u001b[0m\u001b[0m\n\u001b[1;32m----> 5\u001b[1;33m \u001b[0mst\u001b[0m\u001b[1;33m[\u001b[0m\u001b[1;36m0\u001b[0m\u001b[1;33m]\u001b[0m\u001b[1;33m=\u001b[0m\u001b[1;36m9999\u001b[0m\u001b[1;33m\u001b[0m\u001b[1;33m\u001b[0m\u001b[0m\n\u001b[0m\u001b[0;32m      6\u001b[0m \u001b[0mprint\u001b[0m\u001b[1;33m(\u001b[0m\u001b[1;33m)\u001b[0m\u001b[1;33m\u001b[0m\u001b[1;33m\u001b[0m\u001b[0m\n\u001b[0;32m      7\u001b[0m \u001b[0mprint\u001b[0m\u001b[1;33m(\u001b[0m\u001b[1;34m\"New List\"\u001b[0m\u001b[1;33m)\u001b[0m\u001b[1;33m\u001b[0m\u001b[1;33m\u001b[0m\u001b[0m\n",
      "\u001b[1;31mTypeError\u001b[0m: 'tuple' object does not support item assignment"
     ]
    }
   ],
   "source": [
    "st = ('A','B','C','D','E')\n",
    "print(\"Original List\")\n",
    "print(st)\n",
    "print(st[0])\n",
    "st[0]=9999\n",
    "print()\n",
    "print(\"New List\")\n",
    "print(st)\n",
    "print(st[0])"
   ]
  },
  {
   "cell_type": "code",
   "execution_count": 15,
   "id": "c893e4d2",
   "metadata": {},
   "outputs": [
    {
     "name": "stdout",
     "output_type": "stream",
     "text": [
      "[1, 2, 3, 4, 5]\n",
      "[1, 3, 4, 5]\n"
     ]
    }
   ],
   "source": [
    "l = [1,2,3,4,5]\n",
    "print(l)\n",
    "l.remove(2) # python apply remove method on the list .. # this is based on the value and not index position\n",
    "print(l)"
   ]
  },
  {
   "cell_type": "code",
   "execution_count": 16,
   "id": "8516e636",
   "metadata": {},
   "outputs": [
    {
     "name": "stdout",
     "output_type": "stream",
     "text": [
      "[1, 2, 3, 4, 5]\n"
     ]
    },
    {
     "ename": "ValueError",
     "evalue": "list.remove(x): x not in list",
     "output_type": "error",
     "traceback": [
      "\u001b[1;31m---------------------------------------------------------------------------\u001b[0m",
      "\u001b[1;31mValueError\u001b[0m                                Traceback (most recent call last)",
      "\u001b[1;32m~\\AppData\\Local\\Temp\\ipykernel_7972\\2116429443.py\u001b[0m in \u001b[0;36m<module>\u001b[1;34m\u001b[0m\n\u001b[0;32m      1\u001b[0m \u001b[0ml\u001b[0m \u001b[1;33m=\u001b[0m \u001b[1;33m[\u001b[0m\u001b[1;36m1\u001b[0m\u001b[1;33m,\u001b[0m\u001b[1;36m2\u001b[0m\u001b[1;33m,\u001b[0m\u001b[1;36m3\u001b[0m\u001b[1;33m,\u001b[0m\u001b[1;36m4\u001b[0m\u001b[1;33m,\u001b[0m\u001b[1;36m5\u001b[0m\u001b[1;33m]\u001b[0m\u001b[1;33m\u001b[0m\u001b[1;33m\u001b[0m\u001b[0m\n\u001b[0;32m      2\u001b[0m \u001b[0mprint\u001b[0m\u001b[1;33m(\u001b[0m\u001b[0ml\u001b[0m\u001b[1;33m)\u001b[0m\u001b[1;33m\u001b[0m\u001b[1;33m\u001b[0m\u001b[0m\n\u001b[1;32m----> 3\u001b[1;33m \u001b[0ml\u001b[0m\u001b[1;33m.\u001b[0m\u001b[0mremove\u001b[0m\u001b[1;33m(\u001b[0m\u001b[1;36m22\u001b[0m\u001b[1;33m)\u001b[0m \u001b[1;31m# python apply remove method on the list .. # this is based on the value and not index position\u001b[0m\u001b[1;33m\u001b[0m\u001b[1;33m\u001b[0m\u001b[0m\n\u001b[0m\u001b[0;32m      4\u001b[0m \u001b[0mprint\u001b[0m\u001b[1;33m(\u001b[0m\u001b[0ml\u001b[0m\u001b[1;33m)\u001b[0m\u001b[1;33m\u001b[0m\u001b[1;33m\u001b[0m\u001b[0m\n",
      "\u001b[1;31mValueError\u001b[0m: list.remove(x): x not in list"
     ]
    }
   ],
   "source": [
    "l = [1,2,3,4,5]\n",
    "print(l)\n",
    "l.remove(22) # python apply remove method on the list .. # this is based on the value and not index position\n",
    "print(l)"
   ]
  },
  {
   "cell_type": "code",
   "execution_count": 17,
   "id": "391ec6c1",
   "metadata": {},
   "outputs": [
    {
     "name": "stdout",
     "output_type": "stream",
     "text": [
      "[1, 2, 3, 4, 5]\n",
      "[1, 2, 4, 5]\n"
     ]
    }
   ],
   "source": [
    "l = [1,2,3,4,5]\n",
    "print(l)\n",
    "del l[2] # this is based on index location\n",
    "print(l)"
   ]
  },
  {
   "cell_type": "code",
   "execution_count": 18,
   "id": "878a3d05",
   "metadata": {},
   "outputs": [
    {
     "data": {
      "text/plain": [
       "[1, 2, 3, 11, 12, 13]"
      ]
     },
     "execution_count": 18,
     "metadata": {},
     "output_type": "execute_result"
    }
   ],
   "source": [
    "l1 = [1,2,3]\n",
    "l2 = [11,12,13]\n",
    "l1+l2"
   ]
  },
  {
   "cell_type": "code",
   "execution_count": 19,
   "id": "7e42abc4",
   "metadata": {},
   "outputs": [
    {
     "name": "stdout",
     "output_type": "stream",
     "text": [
      "223.32150000000001\n",
      "5\n",
      "44.664300000000004\n",
      "44\n",
      "44.66\n"
     ]
    }
   ],
   "source": [
    "l = [10,11,12.156,13.1655,177]\n",
    "print(sum(l))\n",
    "print(len(l))\n",
    "print(sum(l)/len(l)) # average # mean\n",
    "print(int(sum(l)/len(l))) # typecasting\n",
    "print(round((sum(l)/len(l)),2)) # "
   ]
  },
  {
   "cell_type": "code",
   "execution_count": 20,
   "id": "507656ff",
   "metadata": {},
   "outputs": [
    {
     "name": "stdout",
     "output_type": "stream",
     "text": [
      "44\n"
     ]
    }
   ],
   "source": [
    "import math as m\n",
    "print(m.floor(sum(l)/len(l))) # "
   ]
  },
  {
   "cell_type": "markdown",
   "id": "e8906862",
   "metadata": {},
   "source": [
    "# Traversing a list"
   ]
  },
  {
   "cell_type": "code",
   "execution_count": 2,
   "id": "590ff4e2",
   "metadata": {},
   "outputs": [
    {
     "name": "stdout",
     "output_type": "stream",
     "text": [
      "XYZ, XYZ\n",
      "Python Trainer, Python Trainer\n",
      "Deep Learning TRainer, Deep Learning TRainer\n",
      "ML Trainer, ML Trainer\n"
     ]
    }
   ],
   "source": [
    "names = [\"XYZ\",\"Python Trainer\",\"Deep Learning TRainer\",\"ML Trainer\"]\n",
    "for i in names: # range(5)\n",
    "    print(i, end = \", \")\n",
    "   "
   ]
  },
  {
   "cell_type": "code",
   "execution_count": 5,
   "id": "a9c30ca2",
   "metadata": {},
   "outputs": [
    {
     "name": "stdout",
     "output_type": "stream",
     "text": [
      "XYZ\n",
      "Python Trainer\n",
      "Deep Learning TRainer\n",
      "ML Trainer\n",
      "['XYZ', 'Python Trainer', 'Deep Learning TRainer', 'ML Trainer']\n"
     ]
    }
   ],
   "source": [
    "names = [\"XYZ\",\"Python Trainer\",\"Deep Learning TRainer\",\"ML Trainer\"]\n",
    "for i in names: # range(5)\n",
    "    print(i)\n",
    "print(names)"
   ]
  },
  {
   "cell_type": "code",
   "execution_count": 22,
   "id": "174933d3",
   "metadata": {},
   "outputs": [
    {
     "name": "stdout",
     "output_type": "stream",
     "text": [
      "XYZ, Python Trainer, Deep Learning TRainer, ML Trainer, "
     ]
    }
   ],
   "source": [
    "names = [\"XYZ\",\"Python Trainer\",\"Deep Learning TRainer\",\"ML Trainer\"]\n",
    "for i in range(4): # range(5)\n",
    "    print(names[i], end = \", \")"
   ]
  },
  {
   "cell_type": "code",
   "execution_count": 6,
   "id": "7bc2fa9b",
   "metadata": {},
   "outputs": [
    {
     "name": "stdout",
     "output_type": "stream",
     "text": [
      "0 1 2 3 4 "
     ]
    }
   ],
   "source": [
    "for i in range(5):\n",
    "    print(i,end = \" \")"
   ]
  },
  {
   "cell_type": "code",
   "execution_count": 8,
   "id": "9ebb99c8",
   "metadata": {},
   "outputs": [
    {
     "name": "stdout",
     "output_type": "stream",
     "text": [
      "[1, 2, 3, 4, 5, 67, 55, 44]\n",
      "[1, 2, 3, 4, 5, 67, 55]\n",
      "[1, 2, 3, 4, 5, 67]\n",
      "[1, 2, 3, 4, 5]\n",
      "[1, 2, 3, 4]\n",
      "[1, 2, 3]\n",
      "[1, 2]\n",
      "[1]\n",
      "[]\n"
     ]
    },
    {
     "ename": "IndexError",
     "evalue": "pop from empty list",
     "output_type": "error",
     "traceback": [
      "\u001b[1;31m---------------------------------------------------------------------------\u001b[0m",
      "\u001b[1;31mIndexError\u001b[0m                                Traceback (most recent call last)",
      "\u001b[1;32m~\\AppData\\Local\\Temp\\ipykernel_10008\\2968980490.py\u001b[0m in \u001b[0;36m<module>\u001b[1;34m\u001b[0m\n\u001b[0;32m     19\u001b[0m \u001b[0ms\u001b[0m\u001b[1;33m.\u001b[0m\u001b[0mpop\u001b[0m\u001b[1;33m(\u001b[0m\u001b[1;33m)\u001b[0m\u001b[1;33m\u001b[0m\u001b[1;33m\u001b[0m\u001b[0m\n\u001b[0;32m     20\u001b[0m \u001b[0mprint\u001b[0m\u001b[1;33m(\u001b[0m\u001b[0ms\u001b[0m\u001b[1;33m)\u001b[0m\u001b[1;33m\u001b[0m\u001b[1;33m\u001b[0m\u001b[0m\n\u001b[1;32m---> 21\u001b[1;33m \u001b[0ms\u001b[0m\u001b[1;33m.\u001b[0m\u001b[0mpop\u001b[0m\u001b[1;33m(\u001b[0m\u001b[1;33m)\u001b[0m\u001b[1;33m\u001b[0m\u001b[1;33m\u001b[0m\u001b[0m\n\u001b[0m\u001b[0;32m     22\u001b[0m \u001b[0mprint\u001b[0m\u001b[1;33m(\u001b[0m\u001b[0ms\u001b[0m\u001b[1;33m)\u001b[0m\u001b[1;33m\u001b[0m\u001b[1;33m\u001b[0m\u001b[0m\n",
      "\u001b[1;31mIndexError\u001b[0m: pop from empty list"
     ]
    }
   ],
   "source": [
    "# pop method\n",
    "\n",
    "s =[1,2,3,4,5,67,55,44]\n",
    "print(s)\n",
    "s.pop()\n",
    "print(s)\n",
    "s.pop()\n",
    "print(s)\n",
    "s.pop()\n",
    "print(s)\n",
    "s.pop()\n",
    "print(s)\n",
    "s.pop()\n",
    "print(s)\n",
    "s.pop()\n",
    "print(s)\n",
    "s.pop()\n",
    "print(s)\n",
    "s.pop()\n",
    "print(s)\n",
    "s.pop()\n",
    "print(s)"
   ]
  },
  {
   "cell_type": "code",
   "execution_count": 25,
   "id": "159d8250",
   "metadata": {},
   "outputs": [
    {
     "name": "stdout",
     "output_type": "stream",
     "text": [
      "[1, 2, 3, 4, 5, 67, 55, 44]\n",
      "[1, 3, 4, 5, 67, 55, 44]\n"
     ]
    }
   ],
   "source": [
    "s =[1,2,3,4,5,67,55,44]\n",
    "print(s)\n",
    "s.pop(1)\n",
    "print(s)"
   ]
  },
  {
   "cell_type": "code",
   "execution_count": 26,
   "id": "4d0a2401",
   "metadata": {},
   "outputs": [
    {
     "name": "stdout",
     "output_type": "stream",
     "text": [
      "[3, 2, 1, 5, 4]\n",
      "[3, 2, 1, 5, 4]\n",
      "1\n",
      "5\n",
      "[3, 2, 9999, 1, 5, 4, 777]\n",
      "[3, 2, 9999, 1, 5, 4, 777, 500, 600, 700]\n",
      "[1, 2, 3, 4, 5, 500, 600, 700, 777, 9999]\n",
      "[9999, 777, 700, 600, 500, 5, 4, 3, 2, 1]\n",
      "[1, 2, 3, 4, 5, 500, 600, 700, 777, 9999]\n",
      "[]\n"
     ]
    }
   ],
   "source": [
    "l1 = [3,2,1,5,4]\n",
    "print(l1)\n",
    "print(l1[:]) # entire list \n",
    "print(min(l1)) # 1\n",
    "print(max(l1)) # 5\n",
    "l1.insert(2,9999) # Insert[index position, value/element] # 3,2,9999,1,5,4\n",
    "l1.append(777) # 777 at the end [3,2,9999,1,5,4,777]\n",
    "print(l1)\n",
    "l1.extend([500,600,700]) # [3,2,9999,1,5,4,777,500,600,700]\n",
    "print(l1)\n",
    "l1.sort() # arranging the elements in the ascending order\n",
    "print(l1)\n",
    "l1.sort(reverse=True) # arrangind the elements in decending order\n",
    "print(l1)\n",
    "l1.reverse() # \n",
    "print(l1)\n",
    "l1.clear() # []\n",
    "print(l1)"
   ]
  },
  {
   "cell_type": "code",
   "execution_count": 27,
   "id": "a86e2822",
   "metadata": {},
   "outputs": [
    {
     "data": {
      "text/plain": [
       "['Machine',\n",
       " 'Learning',\n",
       " 'Machine',\n",
       " 'Learning',\n",
       " 'Machine',\n",
       " 'Learning',\n",
       " 'Machine',\n",
       " 'Learning']"
      ]
     },
     "execution_count": 27,
     "metadata": {},
     "output_type": "execute_result"
    }
   ],
   "source": [
    "[\"Machine\",\"Learning\"]*4"
   ]
  },
  {
   "cell_type": "code",
   "execution_count": 9,
   "id": "7c3dd27a",
   "metadata": {},
   "outputs": [
    {
     "data": {
      "text/plain": [
       "[1,\n",
       " 2,\n",
       " 3,\n",
       " 4,\n",
       " 5,\n",
       " 67,\n",
       " 55,\n",
       " 44,\n",
       " 1,\n",
       " 2,\n",
       " 3,\n",
       " 4,\n",
       " 5,\n",
       " 67,\n",
       " 55,\n",
       " 44,\n",
       " 1,\n",
       " 2,\n",
       " 3,\n",
       " 4,\n",
       " 5,\n",
       " 67,\n",
       " 55,\n",
       " 44]"
      ]
     },
     "execution_count": 9,
     "metadata": {},
     "output_type": "execute_result"
    }
   ],
   "source": [
    "[1,2,3,4,5,67,55,44]*3"
   ]
  },
  {
   "cell_type": "code",
   "execution_count": 14,
   "id": "34855b1b",
   "metadata": {},
   "outputs": [],
   "source": [
    "# there is file with a certain characters sorted in the form of array.. robert looks at this array and then he has another \n",
    "# array b which as set of character. now robert want to find how many characters in the first array is present in the 2nd array\n",
    "\n",
    "\n",
    "# input : take 2 array inputs from the user\n",
    "\n",
    "# output : ABCDEF DEFGHI\n",
    "\n",
    "# DEF\n",
    "\n",
    "# write a function to find all the letter from list 1 that are present in list 2\n",
    "\n",
    "\n",
    "# function\n",
    "# for\n",
    "# if\n",
    "\n",
    "\n",
    "def dunc(list1,list2):\n",
    "    for e in list1:\n",
    "        if e in list2:\n",
    "            print(e,end=\"\")\n",
    "\n"
   ]
  },
  {
   "cell_type": "code",
   "execution_count": 15,
   "id": "d09c5632",
   "metadata": {},
   "outputs": [
    {
     "name": "stdout",
     "output_type": "stream",
     "text": [
      "Enter string aasdf\n",
      "Enter string bsfg\n",
      "sf"
     ]
    }
   ],
   "source": [
    "a = input(\"Enter string a\")\n",
    "b = input(\"Enter string b\")\n",
    "\n",
    "dunc(a,b)"
   ]
  },
  {
   "cell_type": "code",
   "execution_count": null,
   "id": "0d3db951",
   "metadata": {},
   "outputs": [],
   "source": [
    "a=['a','b','c','d','e','f']\n",
    "b=['d','e','f','g','h','i']\n",
    "print(a)\n",
    "print(b)\n",
    "def common(lst1, lst2): \n",
    "    return list(set(lst1) | set(lst2))\n",
    "e=common(a,b)\n",
    "print(e)\n"
   ]
  },
  {
   "cell_type": "code",
   "execution_count": 16,
   "id": "d5a29c13",
   "metadata": {},
   "outputs": [],
   "source": [
    "# There is tuple with n int values. Write a program to identify the max value and min value in the tuple and return the values\n",
    "\n",
    "# write this program using a function\n",
    "\n",
    "# fucntion\n",
    "# max\n",
    "# min\n",
    "# return\n",
    "\n",
    "\n",
    "def feed(topel):\n",
    "    f1 = max(topel)\n",
    "    f2 = min(topel)\n",
    "    return f1,f2"
   ]
  },
  {
   "cell_type": "code",
   "execution_count": null,
   "id": "3a024d48",
   "metadata": {},
   "outputs": [],
   "source": []
  },
  {
   "cell_type": "code",
   "execution_count": 17,
   "id": "bae5af34",
   "metadata": {},
   "outputs": [
    {
     "name": "stdout",
     "output_type": "stream",
     "text": [
      "(32, 1)\n",
      "<class 'tuple'>\n"
     ]
    }
   ],
   "source": [
    "z = feed((2,3,1,4,32))\n",
    "print(z)\n",
    "print(type(z))"
   ]
  },
  {
   "cell_type": "code",
   "execution_count": 28,
   "id": "40b95599",
   "metadata": {},
   "outputs": [],
   "source": [
    "def fee(topel):\n",
    "    f1 = max(topel)\n",
    "    f2 = min(topel)\n",
    "    return f1,f2"
   ]
  },
  {
   "cell_type": "code",
   "execution_count": 29,
   "id": "d4893b3f",
   "metadata": {},
   "outputs": [
    {
     "name": "stdout",
     "output_type": "stream",
     "text": [
      "(32, 1)\n",
      "<class 'tuple'>\n"
     ]
    }
   ],
   "source": [
    "a = fee([2,3,1,4,32])\n",
    "print(a)\n",
    "print(type(a))"
   ]
  },
  {
   "cell_type": "code",
   "execution_count": 27,
   "id": "82d746dc",
   "metadata": {},
   "outputs": [],
   "source": [
    "# write a program to store numbers from 0 to 100 in a list"
   ]
  },
  {
   "cell_type": "code",
   "execution_count": null,
   "id": "d3cb319c",
   "metadata": {},
   "outputs": [],
   "source": [
    "n=100\n",
    "for i in range(n):\n",
    "    i=i+1\n",
    "    print(i,end = \" \")\n"
   ]
  },
  {
   "cell_type": "code",
   "execution_count": null,
   "id": "82f90251",
   "metadata": {},
   "outputs": [],
   "source": [
    "for I in range(101):\n"
   ]
  },
  {
   "cell_type": "code",
   "execution_count": 4,
   "id": "f825dfb7",
   "metadata": {
    "scrolled": true
   },
   "outputs": [
    {
     "name": "stdout",
     "output_type": "stream",
     "text": [
      "[1, 2, 3, 4, 5, 6, 7, 8, 9, 10, 11, 12, 13, 14, 15, 16, 17, 18, 19, 20, 21, 22, 23, 24, 25, 26, 27, 28, 29, 30, 31, 32, 33, 34, 35, 36, 37, 38, 39, 40, 41, 42, 43, 44, 45, 46, 47, 48, 49, 50, 51, 52, 53, 54, 55, 56, 57, 58, 59, 60, 61, 62, 63, 64, 65, 66, 67, 68, 69, 70, 71, 72, 73, 74, 75, 76, 77, 78, 79, 80, 81, 82, 83, 84, 85, 86, 87, 88, 89, 90, 91, 92, 93, 94, 95, 96, 97, 98, 99, 100]\n"
     ]
    }
   ],
   "source": [
    "lst = list(range(1,101))\n",
    "print(lst)\n"
   ]
  },
  {
   "cell_type": "code",
   "execution_count": 3,
   "id": "3ecbc9a1",
   "metadata": {},
   "outputs": [
    {
     "data": {
      "text/plain": [
       "range(0, 100)"
      ]
     },
     "execution_count": 3,
     "metadata": {},
     "output_type": "execute_result"
    }
   ],
   "source": []
  },
  {
   "cell_type": "code",
   "execution_count": 6,
   "id": "99b1e206",
   "metadata": {},
   "outputs": [
    {
     "name": "stdout",
     "output_type": "stream",
     "text": [
      "[1, 2, 3, 4, 5, 6, 7, 8, 9, 10, 11, 12, 13, 14, 15, 16, 17, 18, 19, 20, 21, 22, 23, 24, 25, 26, 27, 28, 29, 30, 31, 32, 33, 34, 35, 36, 37, 38, 39, 40, 41, 42, 43, 44, 45, 46, 47, 48, 49, 50, 51, 52, 53, 54, 55, 56, 57, 58, 59, 60, 61, 62, 63, 64, 65, 66, 67, 68, 69, 70, 71, 72, 73, 74, 75, 76, 77, 78, 79, 80, 81, 82, 83, 84, 85, 86, 87, 88, 89, 90, 91, 92, 93, 94, 95, 96, 97, 98, 99, 100]\n"
     ]
    }
   ],
   "source": [
    "l = []\n",
    "for i in range(1,101):\n",
    "    l.append(i)\n",
    "print(l)"
   ]
  },
  {
   "cell_type": "code",
   "execution_count": 7,
   "id": "e834f143",
   "metadata": {},
   "outputs": [
    {
     "name": "stdout",
     "output_type": "stream",
     "text": [
      "[1, 2, 3, 4, 5, 6, 7, 8, 9, 10, 11, 12, 13, 14, 15, 16, 17, 18, 19, 20, 21, 22, 23, 24, 25, 26, 27, 28, 29, 30, 31, 32, 33, 34, 35, 36, 37, 38, 39, 40, 41, 42, 43, 44, 45, 46, 47, 48, 49, 50, 51, 52, 53, 54, 55, 56, 57, 58, 59, 60, 61, 62, 63, 64, 65, 66, 67, 68, 69, 70, 71, 72, 73, 74, 75, 76, 77, 78, 79, 80, 81, 82, 83, 84, 85, 86, 87, 88, 89, 90, 91, 92, 93, 94, 95, 96, 97, 98, 99, 100]\n"
     ]
    }
   ],
   "source": [
    "l=[]\n",
    "for i in range(1,101):\n",
    "    l.append(i)\n",
    "\n",
    "print(l)\n"
   ]
  },
  {
   "cell_type": "code",
   "execution_count": 8,
   "id": "698af265",
   "metadata": {},
   "outputs": [
    {
     "name": "stdout",
     "output_type": "stream",
     "text": [
      "[1, 2, 3, 4, 5, 6, 7, 8, 9, 10, 11, 12, 13, 14, 15, 16, 17, 18, 19, 41, 42, 43, 44, 45, 46, 47, 48, 49, 50, 51, 52, 53, 54, 55, 56, 57, 58, 59, 60, 61, 62, 63, 64, 65, 66, 67, 68, 69, 70, 71, 72, 73, 74, 75, 76, 77, 78, 79, 80, 81, 82, 83, 84, 85, 86, 87, 88, 89, 90, 91, 92, 93, 94, 95, 96, 97, 98, 99, 100]\n"
     ]
    }
   ],
   "source": [
    "z = []\n",
    "for i in range(1,101):\n",
    "    if i<20 or i>40:\n",
    "        z.append(i)\n",
    "print(z)"
   ]
  },
  {
   "cell_type": "code",
   "execution_count": 31,
   "id": "409fbefb",
   "metadata": {},
   "outputs": [
    {
     "name": "stdout",
     "output_type": "stream",
     "text": [
      "[1, 41, 42, 43, 44, 45, 46, 47, 48, 49, 50, 51, 52, 53, 54, 55, 56, 57, 58, 59, 60, 61, 62, 63, 64, 65, 66, 67, 68, 69, 70, 71, 72, 73, 74, 75, 76, 77, 78, 79, 80, 81, 82, 83, 84, 85, 86, 87, 88, 89, 90, 91, 92, 93, 94, 95, 96, 97, 98, 99, 100]\n"
     ]
    }
   ],
   "source": [
    "z = []\n",
    "for i in range(1,101):\n",
    "    if i<2 or i>40:\n",
    "        z.append(i)\n",
    "print(z)"
   ]
  },
  {
   "cell_type": "code",
   "execution_count": 74,
   "id": "2d37adb4",
   "metadata": {},
   "outputs": [
    {
     "name": "stdout",
     "output_type": "stream",
     "text": [
      "(1, 2, 3, 5, 6, 4, 1)\n",
      "(1, 2, 3, 1, 2, 3, 1, 2, 3)\n",
      "3\n",
      "3\n",
      "1\n",
      "(1, 2, 3, 4, 5, 6)\n",
      "[1, 2, 3, 4, 5, 6]\n"
     ]
    }
   ],
   "source": [
    "t1 = (1,2,3)\n",
    "t2 = (5,6,4,1)\n",
    "print(t1+t2) # concat\n",
    "print(t1*3) # repeat\n",
    "print(len(t1)) # 3\n",
    "print(max(t1)) # 3\n",
    "print(min(t1)) # 1\n",
    "print(tuple([1,2,3,4,5,6])) # typecasting - converting a list into a tuple\n",
    "print(list((1,2,3,4,5,6))) # typecasting converting tuple into a list"
   ]
  },
  {
   "cell_type": "code",
   "execution_count": 75,
   "id": "21b43ab0",
   "metadata": {},
   "outputs": [
    {
     "name": "stdout",
     "output_type": "stream",
     "text": [
      "[0, 2, 4, 6, 8, 10, 12, 14, 16, 18, 20, 22, 24, 26, 28, 30, 32, 34, 36, 38, 40, 42, 44, 46, 48, 50, 52, 54, 56, 58, 60, 62, 64, 66, 68, 70, 72, 74, 76, 78, 80, 82, 84, 86, 88, 90, 92, 94, 96, 98, 100]\n"
     ]
    }
   ],
   "source": [
    "# write program to create a list with even number from 0 to 100 \n",
    "\n",
    "l=[]\n",
    "for i in range(0,101,2):\n",
    "    l.append(i)\n",
    "\n",
    "print(l)\n",
    "\n"
   ]
  },
  {
   "cell_type": "code",
   "execution_count": 33,
   "id": "444f0ea7",
   "metadata": {},
   "outputs": [
    {
     "ename": "SyntaxError",
     "evalue": "invalid syntax (3315433817.py, line 1)",
     "output_type": "error",
     "traceback": [
      "\u001b[1;36m  File \u001b[1;32m\"C:\\Users\\user\\AppData\\Local\\Temp\\ipykernel_10008\\3315433817.py\"\u001b[1;36m, line \u001b[1;32m1\u001b[0m\n\u001b[1;33m    l=( ,)\u001b[0m\n\u001b[1;37m        ^\u001b[0m\n\u001b[1;31mSyntaxError\u001b[0m\u001b[1;31m:\u001b[0m invalid syntax\n"
     ]
    }
   ],
   "source": [
    "l=( ,)\n",
    "\n",
    "\n",
    "for i in range(0,101,2):\n",
    "    l.append(i)\n",
    "\n",
    "print(l)\n"
   ]
  },
  {
   "cell_type": "markdown",
   "id": "f7e41693",
   "metadata": {},
   "source": [
    "# Dictionary\n",
    "\n",
    "> Dictionary in python is a collection of keys values, used to store data values like a amp, which unlike other data types which hold only a single value as an element\n",
    "\n",
    "> The key and the value pair is called as item\n",
    "\n",
    "> the values in the dictionary are mutable i.e can be changed\n",
    "\n",
    "> The keys in the distionary are immutable\n",
    "\n",
    "> {key:value}\n",
    "\n",
    "\n",
    "> Note : Dictionaly keys are case sensitive, the same name but different cases of key will be treated distinctly \n"
   ]
  },
  {
   "cell_type": "code",
   "execution_count": 35,
   "id": "c906d8e8",
   "metadata": {},
   "outputs": [
    {
     "name": "stdout",
     "output_type": "stream",
     "text": [
      "{1: 'comp', 12: 'IT', 31: 'EXTC'}\n",
      "<class 'dict'>\n",
      "comp\n",
      "IT\n"
     ]
    },
    {
     "ename": "KeyError",
     "evalue": "2",
     "output_type": "error",
     "traceback": [
      "\u001b[1;31m---------------------------------------------------------------------------\u001b[0m",
      "\u001b[1;31mKeyError\u001b[0m                                  Traceback (most recent call last)",
      "\u001b[1;32m~\\AppData\\Local\\Temp\\ipykernel_10008\\3974079224.py\u001b[0m in \u001b[0;36m<module>\u001b[1;34m\u001b[0m\n\u001b[0;32m      4\u001b[0m \u001b[0mprint\u001b[0m\u001b[1;33m(\u001b[0m\u001b[0md\u001b[0m\u001b[1;33m[\u001b[0m\u001b[1;36m1\u001b[0m\u001b[1;33m]\u001b[0m\u001b[1;33m)\u001b[0m \u001b[1;31m#\u001b[0m\u001b[1;33m\u001b[0m\u001b[1;33m\u001b[0m\u001b[0m\n\u001b[0;32m      5\u001b[0m \u001b[0mprint\u001b[0m\u001b[1;33m(\u001b[0m\u001b[0md\u001b[0m\u001b[1;33m[\u001b[0m\u001b[1;36m12\u001b[0m\u001b[1;33m]\u001b[0m\u001b[1;33m)\u001b[0m\u001b[1;33m\u001b[0m\u001b[1;33m\u001b[0m\u001b[0m\n\u001b[1;32m----> 6\u001b[1;33m \u001b[0mprint\u001b[0m\u001b[1;33m(\u001b[0m\u001b[0md\u001b[0m\u001b[1;33m[\u001b[0m\u001b[1;36m2\u001b[0m\u001b[1;33m]\u001b[0m\u001b[1;33m)\u001b[0m\u001b[1;33m\u001b[0m\u001b[1;33m\u001b[0m\u001b[0m\n\u001b[0m",
      "\u001b[1;31mKeyError\u001b[0m: 2"
     ]
    }
   ],
   "source": [
    "d = {1:\"comp\",12:\"IT\",31:\"EXTC\"}\n",
    "print(d)\n",
    "print(type(d))\n",
    "print(d[1]) # \n",
    "print(d[12])\n",
    "print(d[2]) \n"
   ]
  },
  {
   "cell_type": "raw",
   "id": "518f0c07",
   "metadata": {},
   "source": [
    "Anil is working in a finance company where his role is to approve the loan amount. To calculate the EMI he does manual calculations. Help him to calculate the EMI by creating a python function.\n",
    "\n",
    "Use the following formula to calculate the EMI:\n",
    "\n",
    "EMI = P * r * ((1+r)^n)/((1+r)^n -1))\n",
    "\n",
    "where P= principal amount\n",
    "\n",
    "r = rate of the interest,\n",
    "\n",
    "if r=10.5% per annum, means r=(10.5/12)/100=0.00875 per annum\n",
    "\n",
    "n= duration in number of months\n",
    "\n",
    "if n=10 years means n=10 x 12=120 months\n",
    "\n",
    "Input \n",
    "\n",
    "the first line of the input contains Principle amount of the loan in integer\n",
    "\n",
    "The second line of the input contains the float value of r in percentage\n",
    "\n",
    "The third line of the input contains an integer n for the duration in the number of years\n",
    "\n",
    "Output The EMI amount with no decimal points\n",
    "\n",
    "Example \n",
    "\n",
    "Input 5000000\n",
    "\n",
    "7.5\n",
    "\n",
    "20\n",
    "\n",
    "Output 40280"
   ]
  },
  {
   "cell_type": "code",
   "execution_count": 36,
   "id": "6459eba4",
   "metadata": {},
   "outputs": [],
   "source": [
    "def emi_calculator(P,r,n):\n",
    "    n=(n*12)\n",
    "    r = ((r/12/100))\n",
    "    EMI = P * r * ((1+r)**n)/(((1+r)**n) -1) \n",
    "    return EMI"
   ]
  },
  {
   "cell_type": "code",
   "execution_count": 37,
   "id": "09473973",
   "metadata": {},
   "outputs": [
    {
     "name": "stdout",
     "output_type": "stream",
     "text": [
      "5000000\n",
      "7.5\n",
      "20\n",
      "40280\n"
     ]
    }
   ],
   "source": [
    "P = int(input())\n",
    "r = float(input())\n",
    "n = int(input())\n",
    "\n",
    "\n",
    "\n",
    "\n",
    "print(round(emi_calculator(P,r,n)))"
   ]
  },
  {
   "cell_type": "markdown",
   "id": "cbe9fe34",
   "metadata": {},
   "source": [
    "Dinesh started learning Geometry today. He doesn't know the formulae to calculate the areas of different shapes. His teacher has just taught him how to calculate the areas of basic shapes including square, rectangle, triangle and circle. He is facing the problem to memorise all these formulae. Create a python logic to help Dinesh to display the formulae when he selects the shape.\n",
    "\n",
    "Input \n",
    "\n",
    "One line of input contains the First alphabet of shape in Capital form.\n",
    "\n",
    "Output Formula for corresponding shape.\n",
    "\n",
    "Example input S\n",
    "\n",
    "Output Area of Sqaure = side ^2\n",
    "\n",
    "Note: Use capital 'X' as multiplication and '^' for power.\n",
    "\n",
    "Avoid spaces in formulae Example: for input 'C' the output is 3.14Xradius^2\n",
    "\n",
    "Show message 'Enter valid Alphabet' for the input other than specified letters\n",
    "\n",
    "Hint:\n",
    "\n",
    "Area of square = side * side\n",
    "area of rectangle = length * breadth\n",
    "Traingle = 0.5*base*height\n",
    "circel = 3.14*r^2\n"
   ]
  },
  {
   "cell_type": "code",
   "execution_count": null,
   "id": "41fd32a0",
   "metadata": {},
   "outputs": [],
   "source": [
    "l = input(\"Enter the first charater of the shapes - C,T,R,S\")\n",
    "\n",
    "if l==\"C\":\n",
    "    print(\"Area of a circle is : 3.14xradiusxradius\")\n",
    "elif l==\"T\":\n",
    "    print(\"Area of a Traingle is : 0.5xbasexheight\")\n",
    "elif l==\"R\":\n",
    "    print(\"Area of a Recatangle is : lengthxbreadth\")\n",
    "elif l==\"S\":\n",
    "    print(\"Area of a Square is : sidexside\")\n",
    "else:\n",
    "    print(\"Please enter one of the four characters only - C/T/R/S\")"
   ]
  },
  {
   "cell_type": "code",
   "execution_count": 39,
   "id": "56c04b81",
   "metadata": {},
   "outputs": [
    {
     "data": {
      "text/plain": [
       "'C:\\\\Users\\\\user\\\\Downloads'"
      ]
     },
     "execution_count": 39,
     "metadata": {},
     "output_type": "execute_result"
    }
   ],
   "source": [
    "import os\n",
    "os.getcwd()"
   ]
  },
  {
   "cell_type": "code",
   "execution_count": null,
   "id": "5f344217",
   "metadata": {},
   "outputs": [],
   "source": []
  }
 ],
 "metadata": {
  "kernelspec": {
   "display_name": "Python 3 (ipykernel)",
   "language": "python",
   "name": "python3"
  },
  "language_info": {
   "codemirror_mode": {
    "name": "ipython",
    "version": 3
   },
   "file_extension": ".py",
   "mimetype": "text/x-python",
   "name": "python",
   "nbconvert_exporter": "python",
   "pygments_lexer": "ipython3",
   "version": "3.9.13"
  }
 },
 "nbformat": 4,
 "nbformat_minor": 5
}
